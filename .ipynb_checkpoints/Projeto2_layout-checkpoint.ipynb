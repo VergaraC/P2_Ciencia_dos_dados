{
 "cells": [
  {
   "cell_type": "markdown",
   "metadata": {},
   "source": [
    "# Projeto 2 - Ciência dos Dados"
   ]
  },
  {
   "cell_type": "markdown",
   "metadata": {},
   "source": [
    "Nome: Henrique Mualem Marti\n",
    "\n",
    "Nome: Victor Vergara\n",
    "\n",
    "Nome: Edgard Neto"
   ]
  },
  {
   "cell_type": "markdown",
   "metadata": {},
   "source": [
    "Serão permitidos grupos de três pessoas, mas com uma rubrica mais exigente. Grupos deste tamanho precisarão fazer um questionário de avaliação de trabalho em equipe"
   ]
  },
  {
   "cell_type": "markdown",
   "metadata": {},
   "source": [
    "___\n",
    "# Classificador automático de sentimento\n"
   ]
  },
  {
   "cell_type": "markdown",
   "metadata": {},
   "source": [
    "## Preparando o ambiente no jupyter:"
   ]
  },
  {
   "cell_type": "code",
   "execution_count": 1,
   "metadata": {},
   "outputs": [],
   "source": [
    "%%capture\n",
    "\n",
    "#Instalando o tweepy\n",
    "!pip install tweepy"
   ]
  },
  {
   "cell_type": "code",
   "execution_count": 1,
   "metadata": {
    "jupyter": {
     "outputs_hidden": true
    }
   },
   "outputs": [],
   "source": [
    "import tweepy\n",
    "import math\n",
    "import os.path\n",
    "import pandas as pd\n",
    "import json\n",
    "import re\n",
    "import string\n",
    "from random import shuffle"
   ]
  },
  {
   "cell_type": "markdown",
   "metadata": {},
   "source": [
    "___\n",
    "## Autenticando no  Twitter\n",
    "\n",
    "* Conta: ***[Preencha aqui o id da sua conta. Ex: @fulano ]***"
   ]
  },
  {
   "cell_type": "code",
   "execution_count": 2,
   "metadata": {
    "jupyter": {
     "outputs_hidden": true
    }
   },
   "outputs": [],
   "source": [
    "#Dados de autenticação do twitter:\n",
    "\n",
    "#Coloque aqui o identificador da conta no twitter: @fulano\n",
    "\n",
    "#leitura do arquivo no formato JSON\n",
    "with open('auth.pass.json') as fp:    \n",
    "    data = json.load(fp)\n",
    "\n",
    "#Configurando a biblioteca. Não modificar\n",
    "auth = tweepy.OAuthHandler(data['consumer_key'], data['consumer_secret'])\n",
    "auth.set_access_token(data['access_token'], data['access_token_secret'])"
   ]
  },
  {
   "cell_type": "markdown",
   "metadata": {},
   "source": [
    "___\n",
    "## Etapas do projeto:"
   ]
  },
  {
   "cell_type": "markdown",
   "metadata": {},
   "source": [
    "### Escolha de um produto e coleta das mensagens\n"
   ]
  },
  {
   "cell_type": "code",
   "execution_count": 3,
   "metadata": {
    "jupyter": {
     "outputs_hidden": true
    }
   },
   "outputs": [],
   "source": [
    "#Produto escolhido:\n",
    "produto = 'coca'\n",
    "\n",
    "#Quantidade mínima de mensagens capturadas:\n",
    "n = 1000\n",
    "#Quantidade mínima de mensagens para a base de treinamento:\n",
    "t = 250\n",
    "\n",
    "#Filtro de língua, escolha uma na tabela ISO 639-1.\n",
    "lang = 'pt'"
   ]
  },
  {
   "cell_type": "markdown",
   "metadata": {},
   "source": [
    "Capturando os dados do twitter:"
   ]
  },
  {
   "cell_type": "code",
   "execution_count": null,
   "metadata": {
    "jupyter": {
     "outputs_hidden": true
    }
   },
   "outputs": [],
   "source": [
    "#Cria um objeto para a captura\n",
    "''''api = tweepy.API(auth)\n",
    "\n",
    "#Inicia a captura, para mais detalhes: ver a documentação do tweepy\n",
    "i = 1\n",
    "msgs = []\n",
    "for msg in tweepy.Cursor(api.search, q=produto, lang=lang, tweet_mode=\"extended\").items():    \n",
    "    msgs.append(msg.full_text.lower())\n",
    "    i += 1\n",
    "    if i > n:\n",
    "        break\n",
    "\n",
    "#Embaralhando as mensagens para reduzir um possível viés\n",
    "shuffle(msgs)"
   ]
  },
  {
   "cell_type": "markdown",
   "metadata": {},
   "source": [
    "Salvando os dados em uma planilha Excel:"
   ]
  },
  {
   "cell_type": "code",
   "execution_count": null,
   "metadata": {
    "jupyter": {
     "outputs_hidden": true
    }
   },
   "outputs": [],
   "source": [
    "''''#Verifica se o arquivo não existe para não substituir um conjunto pronto\n",
    "if not os.path.isfile('./{0}.xlsx'.format(produto)):\n",
    "    \n",
    "    #Abre o arquivo para escrita\n",
    "    writer = pd.ExcelWriter('{0}.xlsx'.format(produto))\n",
    "\n",
    "    #divide o conjunto de mensagens em duas planilhas\n",
    "    dft = pd.DataFrame({'Treinamento' : pd.Series(msgs[:t])})\n",
    "    dft.to_excel(excel_writer = writer, sheet_name = 'Treinamento', index = False)\n",
    "\n",
    "    dfc = pd.DataFrame({'Teste' : pd.Series(msgs[t:])})\n",
    "    dfc.to_excel(excel_writer = writer, sheet_name = 'Teste', index = False)\n",
    "\n",
    "    #fecha o arquivo\n",
    "    writer.save()"
   ]
  },
  {
   "cell_type": "markdown",
   "metadata": {},
   "source": [
    "___\n",
    "### Classificando as mensagens na coragem\n",
    "\n",
    "Esta etapa é manual. Faça a mesma pelo Excel."
   ]
  },
  {
   "cell_type": "code",
   "execution_count": 24,
   "metadata": {
    "scrolled": true
   },
   "outputs": [
    {
     "data": {
      "text/html": [
       "<div>\n",
       "<style scoped>\n",
       "    .dataframe tbody tr th:only-of-type {\n",
       "        vertical-align: middle;\n",
       "    }\n",
       "\n",
       "    .dataframe tbody tr th {\n",
       "        vertical-align: top;\n",
       "    }\n",
       "\n",
       "    .dataframe thead th {\n",
       "        text-align: right;\n",
       "    }\n",
       "</style>\n",
       "<table border=\"1\" class=\"dataframe\">\n",
       "  <thead>\n",
       "    <tr style=\"text-align: right;\">\n",
       "      <th></th>\n",
       "      <th>Teste</th>\n",
       "      <th>Relevância</th>\n",
       "    </tr>\n",
       "  </thead>\n",
       "  <tbody>\n",
       "    <tr>\n",
       "      <th>0</th>\n",
       "      <td>olha a hora que é e eu tive que comprar uma co...</td>\n",
       "      <td>1</td>\n",
       "    </tr>\n",
       "    <tr>\n",
       "      <th>1</th>\n",
       "      <td>hoje o almoço é c a ingrid....e de quebra uma ...</td>\n",
       "      <td>1</td>\n",
       "    </tr>\n",
       "    <tr>\n",
       "      <th>2</th>\n",
       "      <td>acho que vi 7 ggatinhos eita pega amo mais que...</td>\n",
       "      <td>2</td>\n",
       "    </tr>\n",
       "    <tr>\n",
       "      <th>3</th>\n",
       "      <td>7h da manhã e eu estava comendo carne assada c...</td>\n",
       "      <td>3</td>\n",
       "    </tr>\n",
       "    <tr>\n",
       "      <th>4</th>\n",
       "      <td>mano eu e a layla hoje tomamos uns 6 garrafas ...</td>\n",
       "      <td>2</td>\n",
       "    </tr>\n",
       "  </tbody>\n",
       "</table>\n",
       "</div>"
      ],
      "text/plain": [
       "                                               Teste  Relevância\n",
       "0  olha a hora que é e eu tive que comprar uma co...           1\n",
       "1  hoje o almoço é c a ingrid....e de quebra uma ...           1\n",
       "2  acho que vi 7 ggatinhos eita pega amo mais que...           2\n",
       "3  7h da manhã e eu estava comendo carne assada c...           3\n",
       "4  mano eu e a layla hoje tomamos uns 6 garrafas ...           2"
      ]
     },
     "execution_count": 24,
     "metadata": {},
     "output_type": "execute_result"
    }
   ],
   "source": [
    "file_tre = pd.read_excel('coca.xlsx' , sheet_name='Treinamento')\n",
    "file_tes = pd.read_excel('coca.xlsx' , sheet_name='Teste')\n",
    "file_tes.head()"
   ]
  },
  {
   "cell_type": "markdown",
   "metadata": {},
   "source": [
    "#### Legenda de classificação:\n",
    "0: Muito relevante - os *twetts* que expressam opiniões claras e explícitas sobre a bebida \"Coca-Cola\".\n",
    "\n",
    "1: Relevante - os *twetts* que expressam alguma opinião sobre a bebida \"Coca-Cola\".\n",
    "\n",
    "2: Neutro - os *twetts* que não expressam nenhuma opinião sobre a bebida \"Coca-Cola\".\n",
    "\n",
    "3: Inrrelevante - os *twetts* que não estão relacionados a bebida \"Coca-Cola\".\n"
   ]
  },
  {
   "cell_type": "code",
   "execution_count": 32,
   "metadata": {},
   "outputs": [],
   "source": [
    "#Limpeza\n",
    "def cleanup(Colum):\n",
    "\n",
    "    Colum= Colum.replace(\"ç\",\"c\").replace(\"â\",\"a\").replace(\"ã\",\"a\").replace(\"à\",\"a\").replace(\"ê\",\"e\").replace(\"é\",\"e\").replace(\"ô\",\"o\").replace(\"õ\",\"o\").replace(\"/\",\" \").replace(\"?\",\" \").replace(\"!\",\" \").replace(\"@\",\" \").replace(\"\\n\",\" \").replace(\";\",\" \").replace(\",\",\"\").replace(\":\",\" \").replace(\"[\",\" \").replace(\"]\",\" \").replace(\"}\",\" \").replace(\"{\",\" \").replace(\"\\\\\",\" \").replace(' \" ',\" \").replace(\" ' \",\"\").replace(\" * \",\" \").replace(\" _ \",\" \").replace(\" - \",\" \").replace(\" . \",\" \")\n",
    "    \n",
    "    return Colum\n",
    "\n",
    "#for items in file.Treinamento:\n",
    "    #p=cleanup(items)\n",
    "    "
   ]
  },
  {
   "cell_type": "code",
   "execution_count": 33,
   "metadata": {},
   "outputs": [
    {
     "data": {
      "text/html": [
       "<div>\n",
       "<style scoped>\n",
       "    .dataframe tbody tr th:only-of-type {\n",
       "        vertical-align: middle;\n",
       "    }\n",
       "\n",
       "    .dataframe tbody tr th {\n",
       "        vertical-align: top;\n",
       "    }\n",
       "\n",
       "    .dataframe thead th {\n",
       "        text-align: right;\n",
       "    }\n",
       "</style>\n",
       "<table border=\"1\" class=\"dataframe\">\n",
       "  <thead>\n",
       "    <tr style=\"text-align: right;\">\n",
       "      <th></th>\n",
       "      <th>Treinamento</th>\n",
       "      <th>Relevância</th>\n",
       "    </tr>\n",
       "  </thead>\n",
       "  <tbody>\n",
       "    <tr>\n",
       "      <th>0</th>\n",
       "      <td>r4finh0__ a mesa de natal da ines brasil com ...</td>\n",
       "      <td>1</td>\n",
       "    </tr>\n",
       "    <tr>\n",
       "      <th>1</th>\n",
       "      <td>rt  dcechetto  as vezes eu nao quero tomar ref...</td>\n",
       "      <td>1</td>\n",
       "    </tr>\n",
       "    <tr>\n",
       "      <th>2</th>\n",
       "      <td>pai bom e o meu mano eu cheia de ressaca chegu...</td>\n",
       "      <td>1</td>\n",
       "    </tr>\n",
       "    <tr>\n",
       "      <th>3</th>\n",
       "      <td>mariajoanaff aconteceu comigo esse ano logo d...</td>\n",
       "      <td>1</td>\n",
       "    </tr>\n",
       "    <tr>\n",
       "      <th>4</th>\n",
       "      <td>nao tomem coca cola de madrugada criancas</td>\n",
       "      <td>1</td>\n",
       "    </tr>\n",
       "  </tbody>\n",
       "</table>\n",
       "</div>"
      ],
      "text/plain": [
       "                                         Treinamento Relevância\n",
       "0   r4finh0__ a mesa de natal da ines brasil com ...          1\n",
       "1  rt  dcechetto  as vezes eu nao quero tomar ref...          1\n",
       "2  pai bom e o meu mano eu cheia de ressaca chegu...          1\n",
       "3   mariajoanaff aconteceu comigo esse ano logo d...          1\n",
       "4          nao tomem coca cola de madrugada criancas          1"
      ]
     },
     "execution_count": 33,
     "metadata": {},
     "output_type": "execute_result"
    }
   ],
   "source": [
    "file_tre.head()"
   ]
  },
  {
   "cell_type": "code",
   "execution_count": 34,
   "metadata": {},
   "outputs": [],
   "source": [
    "file_tre.Treinamento = file_tre.Treinamento.apply(lambda x: x.lower())\n",
    "#file.Treinamento = file.Treinamento.apply(lambda x: x.translate(str.maketrans('','',string.punctuation)))\n",
    "file.Treinamento = file.Treinamento.apply(lambda x: x.translate(str.maketrans('','',string.digits)))\n",
    "file_tre['Treinamento']=file_tre['Treinamento'].apply(cleanup)\n",
    "file_tes['Teste']=file_tes['Teste'].apply(cleanup)"
   ]
  },
  {
   "cell_type": "code",
   "execution_count": 35,
   "metadata": {},
   "outputs": [
    {
     "data": {
      "text/html": [
       "<div>\n",
       "<style scoped>\n",
       "    .dataframe tbody tr th:only-of-type {\n",
       "        vertical-align: middle;\n",
       "    }\n",
       "\n",
       "    .dataframe tbody tr th {\n",
       "        vertical-align: top;\n",
       "    }\n",
       "\n",
       "    .dataframe thead th {\n",
       "        text-align: right;\n",
       "    }\n",
       "</style>\n",
       "<table border=\"1\" class=\"dataframe\">\n",
       "  <thead>\n",
       "    <tr style=\"text-align: right;\">\n",
       "      <th></th>\n",
       "      <th>Teste</th>\n",
       "      <th>Relevância</th>\n",
       "    </tr>\n",
       "  </thead>\n",
       "  <tbody>\n",
       "    <tr>\n",
       "      <th>0</th>\n",
       "      <td>olha a hora que e e eu tive que comprar uma co...</td>\n",
       "      <td>1</td>\n",
       "    </tr>\n",
       "    <tr>\n",
       "      <th>1</th>\n",
       "      <td>hoje o almoco e c a ingrid....e de quebra uma ...</td>\n",
       "      <td>1</td>\n",
       "    </tr>\n",
       "    <tr>\n",
       "      <th>2</th>\n",
       "      <td>acho que vi 7 ggatinhos eita pega amo mais que...</td>\n",
       "      <td>2</td>\n",
       "    </tr>\n",
       "    <tr>\n",
       "      <th>3</th>\n",
       "      <td>7h da manha e eu estava comendo carne assada c...</td>\n",
       "      <td>3</td>\n",
       "    </tr>\n",
       "    <tr>\n",
       "      <th>4</th>\n",
       "      <td>mano eu e a layla hoje tomamos uns 6 garrafas ...</td>\n",
       "      <td>2</td>\n",
       "    </tr>\n",
       "  </tbody>\n",
       "</table>\n",
       "</div>"
      ],
      "text/plain": [
       "                                               Teste  Relevância\n",
       "0  olha a hora que e e eu tive que comprar uma co...           1\n",
       "1  hoje o almoco e c a ingrid....e de quebra uma ...           1\n",
       "2  acho que vi 7 ggatinhos eita pega amo mais que...           2\n",
       "3  7h da manha e eu estava comendo carne assada c...           3\n",
       "4  mano eu e a layla hoje tomamos uns 6 garrafas ...           2"
      ]
     },
     "execution_count": 35,
     "metadata": {},
     "output_type": "execute_result"
    }
   ],
   "source": [
    "file_tes.head()"
   ]
  },
  {
   "cell_type": "code",
   "execution_count": 36,
   "metadata": {},
   "outputs": [
    {
     "data": {
      "text/plain": [
       "0    1\n",
       "1    1\n",
       "2    1\n",
       "3    1\n",
       "4    1\n",
       "Name: Relevância, dtype: category\n",
       "Categories (4, int64): [0, 1, 2, 3]"
      ]
     },
     "execution_count": 36,
     "metadata": {},
     "output_type": "execute_result"
    }
   ],
   "source": [
    "# Transformando quantitativa em qualitativa\n",
    "file_tre.Relevância = file.Relevância.astype('category')\n",
    "file_tre.Relevância.head()"
   ]
  },
  {
   "cell_type": "code",
   "execution_count": null,
   "metadata": {},
   "outputs": [],
   "source": []
  },
  {
   "cell_type": "code",
   "execution_count": 44,
   "metadata": {
    "scrolled": true
   },
   "outputs": [
    {
     "data": {
      "text/plain": [
       "'rt  larissapxp  quem toma coca sem gás e psicopata rt  c0ngelad4  bom dia só aos trabalhadores proletariados p quem coca o saco dia todo oq tenho a ver rt  arthuzinhotips  ajuda ai galera n aguento mais ver foto de coca nos stories dela https   t.co vnxk0hghaa \"a tua cota coca me bue o umbigo\" tive uma crise transcendente nesta parte https   t.co dt1kanf83q  jairmearrependi o dedo do rt coca rt  lwithp  nada agoniza mais do que acordar alguns minutos antes do despertador vc fica naquele “queria dormir mas talvez nem de tempo de… rt  ursinho987   pxx_yasmiin vc quer levar uma coca isso que vc quer  yaswjs útero coca mas nao quero ser titia rt  sodeboabrazil  por que a mídia internacional culpa o brasil pelos incendios na amazonia e se cala quanto a origem do problema que foi…  _muniquee nao coca nao hein kkkk bernarda ainda pintou a coca da isabela kkkkkkkkkkkkkkkkkkkkkkkkkkkkkkkkk tipo fodasse a minha paciencia p sair de casa acaba no maximo daqui a 5 anos e tou mm a gastar tempo a coca los todos os dias rt  niksonicpewpew  gnd troca tou no bules quase que durmo em pe chego no cbc parece q chutei uma traca de coca vou te dar coca coca coca de rebecca coca de rebeccaaaa .tudo pra mim coca retornável eh um biz cola gourmet vou sossegar tanto agora q as pessoa vao fala nossa o coca sossegou tanto rt  alextrezas  jornalista da libertad tv   “pq falam da amazonia br e do  jairbolsonaro e nada do evo morales e da amazonia boliviana  lá…  jandira_feghali verde  amarelo  azul e branco sao as quatro cores do meu brasil a senhora pode ir para cuba e ficar por lá.....só nao tem coca cola e outras regalias .....faca um favor ......use o preto e feche a tampa desse vosso caixao rt  sodeboabrazil  por que a mídia internacional culpa o brasil pelos incendios na amazonia e se cala quanto a origem do problema que foi…  lucassneidjer o útero ate coca rt  blueph6  ok mas eles tinham linhas de coca no buco porque https   t.co 9lcxgu4yhf deus tem q me dar mt paciencia  pq meu dedo coca p digitar certas coisas .. mas dx esse povo achar q sabe    🤪 depois desse mv   pepsi &gt &gt &gt &gt &gt &gt &gt &gt &gt &gt &gt &gt &gt &gt &gt &gt &gt &gt &gt &gt &gt &gt  coca https   t.co qyox8r28qn  caralhoqnave olha isso o utero ate coca kkkk https   t.co jeesjbn0pm rt  raissandressa  nao posso ver corte de cabelo que mao coca pra ir cortar  mickaeljf nargui sem coca nem quero rt  samirinhax  só meu útero que coca  https   t.co od6z1ywsaq esse gesso coca que e uma tristeza principalmente nesse calor https   t.co 6eyvw7rct6 sim mal posso esperar pelo messi comecar a cheirar coca e jogar todo jardado https   t.co lylmiptuiz o cu chega coca pra fazer   🤦🏻\\u200d♀️❤️ https   t.co bpi1ytaucl rt  sodeboabrazil  por que a mídia internacional culpa o brasil pelos incendios na amazonia e se cala quanto a origem do problema que foi… rt  biakicis  “por que todo mundo fala do brasil e nao falam da bolívia  evo morales autorizou tacarem fogo na floresta amazonica para plan… eu vejo um bebe e meu útero ate coca 😍 e pensar que o baque de ontem foi tao surreal pra mim que tive 2 horas de sono...  deitei na cama e nn apagava de jeito nenhum a sensacao e tao nova pra mim que parecia que eu tinha cheirado 5 carreiras de coca. depois de tanto esforco tomei um pouco de chá e ver se eu me numa epoca obscura da minha vida a mina veio na disposicao de me dar uma coca aí eu falei oq o macho dela tinha feito só nao viramos amigas pq aí seria demais https   t.co bb8hk6zuhy rt  c0ngelad4  bom dia só aos trabalhadores proletariados p quem coca o saco dia todo oq tenho a ver mascando folhas de coca. tal como um andino  sydneyiunars a mao coca pra voltar... 🥺 meu amor pintando o cabelinho dnv que odio sabe pq coca  ribastalison e igual a coca retornável piazao eu só do um bom dia e já brota o salve coca e td. 😂😍 rt  xulhameireless  eu era uma genia. obs  na última eu escrevi as palavras destacadas de trás para frente https   t.co cwfqsceyzy rt  maevezeppelin  eu com certeza vou ter filhos olha que coisa amorzinho o útero chega coca https   t.co tjryfqnwnb rt  xsavanas  mao ate coca pra mandar mensagem  utopiq sabate i coca. ate hoje lembro da minha tia me dando uma coca porque eu falava o nome do wolfgang como uólfgangui e ela volfgan namoral tia por que voce e assim ah nemmmmmmmm. chega coca https   t.co kqsiuyabl5 rt  biakicis  “por que todo mundo fala do brasil e nao falam da bolívia  evo morales autorizou tacarem fogo na floresta amazonica para plan… toda a vez que eu estou no onibus e meu olho coca ja penso  puts to com conjuntivite certeza eu n sinto vontade nenhuma de fumar de manha mas se eu ver a fumaca subindo   oxi fi garganta coca  coca_amor44 fogo nelas rt  ana_lua18  evo morales baixou decreto permitindo queimadas para fazer cultivos de coca ... 🧐 https   t.co v4gpqvnhvn  rebonatog pessimo e o valdeco mano nem gozei naquela desgraca daquela foda mal dada do cacete kkkkkkkkkkkkk saí só o ódio pelo menos ele apertou dois baseado e comprou uma coca dps rt  cafetaovianna  pacco e muito casca falei pra ele comprar um energetico pra gente matar o whisky o mlk saiu fora pra hora nunca coca e… alá tudo um bando de veio coca saco aaaah o útero chega coca https   t.co ecb4vj1fhl usar os tampoes tem lado positivo e negativo   positivo  nao ouvir quase nada e poder ficar num silencio muito satisfatório quase orgasmatico  negativo  medo de ficar surda ou morrer de dor coca e da pressao acontecer algo com a   eu nao ouvir ela me chamar ou coisa do minha mao coca toda hora pra alisar o cabelo porem a língua coca shhshshs https   t.co ofqcznwgkp rt  c0ngelad4  bom dia só aos trabalhadores proletariados p quem coca o saco dia todo oq tenho a ver muita coca na narina https   t.co q5dwtw3b4d  raphofo coca quando n ta chorando mas deixa cair uma lágrima da crianca pro ce ver se nois n foge kkkkkkkkkkkkk rt  blueph6  ok mas eles tinham linhas de coca no buco porque https   t.co 9lcxgu4yhf parece ate que tomei uma coca dor no corpo todo o dedo chega coca pra comecar isso logo https   t.co qbgfqrbhrr ela coca  https   t.co 2n3ibit6zd kkkkkkkkkkkkkkkkkkkkkk pp d coca https   t.co l2i2efzha9 rt  c0ngelad4  bom dia só aos trabalhadores proletariados p quem coca o saco dia todo oq tenho a ver o ruim de ficar acordado ate tarde e pq o dedo coca pra mandar mensagem a mao chega coca pra comprar umas calcinhas absorventes rt  biakicis  “por que todo mundo fala do brasil e nao falam da bolívia  evo morales autorizou tacarem fogo na floresta amazonica para plan… os políticos passa mais coca que o mc hj eu joguei o fino ainda ganhei o valendo a coca🙅 ta eu laura e coca aqui no habib\\'s rt  flatamigs0  kkkkkk o dedo coca pra marcar https   t.co 4byzla5w9v  rleomessi23 se e nós tínhamos tomado um coca 😅😅 rt  sodeboabrazil  por que a mídia internacional culpa o brasil pelos incendios na amazonia e se cala quanto a origem do problema que foi… rt  blogueiiriinha  sexo nao sei mas se quiser vim aqui em casa tirar uma sonequinha da tarde comigo  ok rt  blueph6  ok mas eles tinham linhas de coca no buco porque https   t.co 9lcxgu4yhf eu sou solteira porque o meu pai me deu uma coca no dia do meu aniversário         kkkkklklllllllkkkkkkkkk https   t.co svdceppngj  chefbossuet  chef_betty  jusaes felicidades o dedo coca pra chamar meus amigos aqui da classe pra jogar ludo mas lembro que sempre passo raiva nessa porra rt  c0ngelad4  bom dia só aos trabalhadores proletariados p quem coca o saco dia todo oq tenho a ver rt  blueph6  ok mas eles tinham linhas de coca no buco porque https   t.co 9lcxgu4yhf  joaofcf1893 e bom ver que tu sabes que nao tens tao boas notas como podias porque passas o ano a coca los mas ao menos sabes reconhecer isso 😂 rt  ana_lua18  evo morales baixou decreto permitindo queimadas para fazer cultivos de coca ... 🧐 https   t.co v4gpqvnhvn puta merda o útero ate coca https   t.co gpy3wbradp hj foi só coca 🙌🏽  jeffauz eu vou ser obrigado a ir ate porto real te dar uma coca  pepe043_caf ahaha deixa lá que os meus browns tbm levaram coca rt  biakicis  “por que todo mundo fala do brasil e nao falam da bolívia  evo morales autorizou tacarem fogo na floresta amazonica para plan… dedo ate coca p mandar o meme  mas o ódio e a probabilidade de responder seco e maior 👍🏻 rt  gueibs  voces confundem muito as coisas  a producao do nemvem e feita por uma mulher independente   nao e um mega empresário querendo l… rt  gabeemb  engracado que eu sempre tive dificuldade de entender as pessoas mais fechadas e frias mas esse ano eu tomei uma coca de ingra… rt  soubelemlz  lembram do 7 de setembro da dilmanta  https   t.co tsvqgpge0l rs notícias  bolívia ateia fogo na amazonia para plantar\\xa0coca https   t.co koktsik7hr pacco e muito casca falei pra ele comprar um energetico pra gente matar o whisky o mlk saiu fora pra hora nunca coca esse bolso kkkkkk incrível jackie tequila coca-cola e água  seontasa mais coca batizada. esta estava com fezes de rato. rt  chinelao__  coca de rebeca https   t.co gnwijsb7ql rt  lacerda  amiga se surgir a oportunidade de ficar calada por favor nao perca agarre com tudo como o coca o pe com essa merda  rt  biakicis  “por que todo mundo fala do brasil e nao falam da bolívia  evo morales autorizou tacarem fogo na floresta amazonica para plan… rt  insonizada  gente e esse cara que pediu a namorada em casamento durante um mes sem que ela percebesse kkkkkkkkkkkk as fotos sao maravi…  abusadasilveira as vezes dá vontade de me dar uma coca por causa disso. rt  cinema505  zendaya e michael b. jordan usando o mesmo terno *0* https   t.co xhlbdfzbge rt  alextrezas  jornalista da libertad tv   “pq falam da amazonia br e do  jairbolsonaro e nada do evo morales e da amazonia boliviana  lá… tem mlk que e otario demais mina mó gata do lado mó firmeza faz de tudo por ele lava ate as cueca do bonitao e o mlk nem pra fala q a mina tá linda  ah mas eu to só esperando p da uma coca rt  felixvit_  tem mlk que e otario demais mina mó gata do lado mó firmeza faz de tudo por ele lava ate as cueca do bonitao e o mlk nem…  nicolecostatayl amigaaa se eu postar minha mae me dá uma coca de mostrar a parede sem tinta ali kkkkkkkkk mas depois eu posto simm amanha  e feriado     acho que vou faltar aulaa. vaciloo .... cancela a coca _ cola. https   t.co movds4fdaa rt  o_anjo14  sim mal posso esperar pelo messi comecar a cheirar coca e jogar todo jardado https   t.co lylmiptuiz ela me odeia  ( https   t.co awxzwtkqqn rt  erickaugustos  parece ate que tomei uma coca dor no corpo todo rt  terezaferrato  como mulher  fico indignada com certas estraga raca . procedimentos como os de raquel d carmem lucia jandirao maria d… rt  c0ngelad4  bom dia só aos trabalhadores proletariados p quem coca o saco dia todo oq tenho a ver rt  blueph6  ok mas eles tinham linhas de coca no buco porque https   t.co 9lcxgu4yhf  obqdc código do consumidor chega coca rt  xsavanas  mao ate coca pra mandar mensagem rt  gabeemb  engracado que eu sempre tive dificuldade de entender as pessoas mais fechadas e frias mas esse ano eu tomei uma coca de ingra… rt  2hinchasymedio  esto no e coca papi https   t.co fg3cwdqiqx  filipetrielli  leandroruschel  flaviogordon meu caro ainda que nao explicitamente nota-se nas suas postagens que voce coca deus acima da política.  poucos conseguem fazer isso dessa forma. a porra da briga política nos corrói e nos deixa cego para o divino (isso ocorre comigo). nao arde nao coca  nao faz nada só nao abre de tao inchado manooooooo que isso  cel novo 😍😍😍😍 ate q enfim ne o carango velho q eu estava pqp estava levando uma coca 🙄 sempre quis ter porem meu nariz coca só de olhar 😭 https   t.co 3t2y6zqxi1 rt  sodeboabrazil  por que a mídia internacional culpa o brasil pelos incendios na amazonia e se cala quanto a origem do problema que foi… a vida ta dando coca 🤔 mais to aprendendo     rt  sodeboabrazil  por que a mídia internacional culpa o brasil pelos incendios na amazonia e se cala quanto a origem do problema que foi… rt  ana_lua18  evo morales baixou decreto permitindo queimadas para fazer cultivos de coca ... 🧐 https   t.co v4gpqvnhvn minhas pernas estao doendo muito parece que levei uma coca  juonvictor chega a mao que segura pinca coca gata da minha mina  manda mensagem com emoji de gatinho  meu gato  faz barulho de peido com a boca enquanto se coca   aqui da pra ver quem tem intelecto superior nessa relacao  flo_rencix  medijistedice  cornulda eto no e coca papi cantando coca de xereca no insta como se minha tia n visse meus stories rt  blueph6  ok mas eles tinham linhas de coca no buco porque https   t.co 9lcxgu4yhf rt  dsalbertosouza  essa coca e tanta   ele disse trabalhar   mas nunca suja a camisa   nuca será presidente nao tem carisma só engana bobo… rt  sincerosatanas  “pode me cumprimentar na rua sou mó suave”  eu na rua  https   t.co 7arteg4yoq  juginger coca minhas costas rt  sodeboabrazil  por que a mídia internacional culpa o brasil pelos incendios na amazonia e se cala quanto a origem do problema que foi… rt  biakicis  “por que todo mundo fala do brasil e nao falam da bolívia  evo morales autorizou tacarem fogo na floresta amazonica para plan…  lidobairro benza deus a mao do tapa chega coca e todos saem livres da audiencia de custódia. infelizmente isso só tem solucao da maneira antiga quando familiares e amigos da mulher agredida davam uma coca no covarde filho da puta do mangue. e obviamente a agredida dava um pe na bunda do sujeito. https   t.co z0comi8omc e cada hetero sem nocao que só por deus irmao eu tava sussu indo comprar um refri pq eu já tava meio louca neperguntei qual refri tinha pra moca o cara vem e me diz assim \"tem eu\" aí eu falei que preferia o refri de coca msmmlk ficou na neurose falando que tireitirei msm slk minha mae de me insultar coca.  - mamá vou dar festa de despedida - com quais convidados   https   t.co 6ujkr56mmm o útero coca https   t.co 1ypcdjczte rt  blogueiiriinha  desculpa sentir ciúmes  de vc  nao tenho culpa de ter nascido surtada  ok este e abencoado 🙏🏽 pois coca em nariz apertado n e fácil https   t.co xgbks4xmft caralho língua coca pra mandar esse povo tnc rt  samirinhax  só meu útero que coca  https   t.co od6z1ywsaq as vezes eu tiro umas ft e a mao chega coca pra postar porem eh foda rt  c0ngelad4  bom dia só aos trabalhadores proletariados p quem coca o saco dia todo oq tenho a ver rt  manwblueguitar  como no caso da maconha o afrouxamento do tabu do homossexualismo só baixou o nível geral  o que era aventura digna de… rt  sodeboabrazil  por que a mídia internacional culpa o brasil pelos incendios na amazonia e se cala quanto a origem do problema que foi… todo dia um macho sendo hipócrita novamente... dedo de responder coca mas eu to de branco  to napaz os político passa mais coca que o mec  gloriasilvestre  gugachacra e o pseudo-jornalista mais mimimi da atualidade e se senteno gás da coca.  machadoogaby cheiradora de coca a mao coca pra cortar curtinho assim 🤪 https   t.co 1x3jwclriu rt  sodeboabrazil  por que a mídia internacional culpa o brasil pelos incendios na amazonia e se cala quanto a origem do problema que foi… rt  ana_lua18  evo morales baixou decreto permitindo queimadas para fazer cultivos de coca ... 🧐 https   t.co v4gpqvnhvn levando uma coca da angela pq cheguei atrasada de novo                                                                    se situa escrota tomando uma coca 2lt no bico ouvindo aquela mais trist do dilsinho... 2 00 am quase eu nao to nada bem..... rt  sodeboabrazil  por que a mídia internacional culpa o brasil pelos incendios na amazonia e se cala quanto a origem do problema que foi… rt  marianabbz_  vai me engolir a seco ou quer um copinho de coca  🤔 engracado que eu sempre tive dificuldade de entender as pessoas mais fechadas e frias mas esse ano eu tomei uma coca de ingratidao tao grande mano que a vontade que dá e nunca mais ser legal com ninguem a mao coca pra dar um unfollow rt  paunocdmundo  que coisa mais linda meu deus  aiai   útero coca https   t.co uu2uufelak rt  yngkote  muita coca na narina https   t.co q5dwtw3b4d esperando ele manda eu me mata pra ai sim eu dar um coca na zoreba dele de vdd  ana_lua18 confirmado  e aqui que  evoespueblo o índio narcotraficante da #bolivia está aumentando o cultivo de coca pra aumentar a producao de cocaína para o mundo. #tucavacaencoca https   t.co 7nekh589wh rt  samirinhax  só meu útero que coca  https   t.co od6z1ywsaq voce sabia que antes de a coca-cola ser um refrigerante seu produto era um xarope   veja a embalagem abaixo datada de 1906. https   t.co eaywwickva rt  blueph6  ok mas eles tinham linhas de coca no buco porque https   t.co 9lcxgu4yhf rt  deloni24419131   sf_moro e quem mandou matar a marielli e quem e o dono da coca no aviao presidencial  e o queiroz quando vai ter uma c… suga seu gostoso delícia amo mais que chocolate e nutella amo mais que coca-cola love yuo gatinho suga  bts_twt  claudinorosana  linasnascimento https   t.co sdrden93av  antoniotabet  rr_tv gelo faz “render” a coca    #economia a equipa tá lowkey nao quero o cop a coca rt  disseputa  a única droga que eu uso e homem rt  inespratess  tipo fodasse a minha paciencia p sair de casa acaba no maximo daqui a 5 anos e tou mm a gastar tempo a coca los todos os d… parece que levei uma coca que que isso rt  sodeboabrazil  por que a mídia internacional culpa o brasil pelos incendios na amazonia e se cala quanto a origem do problema que foi…  __caos___ amg kkk eu vo parar eh pq as vezes o dedo coca sabe a pior consequencia do cancer na tireoide foi o retardo no metabolismo. por que se associou a minha gordura excessiva sedentarismo e minha alimentacao que ficou mto pior depois que eu fiquei abatido. eu viciei em coca cola por um mes bebi coca cola todos os dias++ ate minha mae sabe q se eu pegar ela vai levar uma coca lkkkkkkkkkkkkk rt  oldvx  foda q ela ri de tudo e fica brava por nada  edirleybicalho  jujuca1987 cara coca o saco e vai trabalhar  rt  mascarenhas004  este e abencoado 🙏🏽 pois coca em nariz apertado n e fácil https   t.co xgbks4xmft desce maladeza sobe maladez vai representando dando coca de buceta cheguei da praia ontem já lavei o cabelo pq se nao... ia ficar um coca coca danado  esther_morenaa ridícula pprt deveria levar uma coca  igoraraujojj ao inves de dar pitacos pq vc nao faz alguma coisa  tipo cobrar o seu presidente de merda a fazer alguma coisa a respeito da miseria  ou cobra-lo pq o aviao presidencial virou aviaozinho de coca  rt  inesrusso_04  informacoes inúteis sobre mim que ninguem perguntou idade  14 altura  1.67 tamanho do pe  38 signo  libra tattoo  0 pierc… rt  samirinhax  só meu útero que coca  https   t.co od6z1ywsaq eu confesso que xinguei ele de cuzao do caralho e disse que ele vai toma um pau kkkkkkkk só nao sei quem vai me ajudar a da um pau nele ne mas ele merece leva uma coca assim ficar todo prejudicado rt  wespaina  se deus nao existe quem segura o guidao da bike quando nois solta    reino do senhor  2  ateu  0'"
      ]
     },
     "execution_count": 44,
     "metadata": {},
     "output_type": "execute_result"
    }
   ],
   "source": [
    "file_MR=file_tre.loc[file.Relevância==0,:]\n",
    "file_R=file_tre.loc[file.Relevância==1,:]\n",
    "file_N=file_tre.loc[file.Relevância==2,:]\n",
    "file_IR=file_tre.loc[file.Relevância==3,:]\n",
    "MR_txt= \" \".join(file_MR.Treinamento)\n",
    "R_txt= \" \".join(file_R.Treinamento)\n",
    "N_txt= \" \".join(file_N.Treinamento)\n",
    "IR_txt= \" \".join(file_IR.Treinamento)\n"
   ]
  },
  {
   "cell_type": "code",
   "execution_count": null,
   "metadata": {},
   "outputs": [],
   "source": []
  },
  {
   "cell_type": "code",
   "execution_count": null,
   "metadata": {},
   "outputs": [],
   "source": []
  },
  {
   "cell_type": "markdown",
   "metadata": {},
   "source": [
    "___\n",
    "### Montando o Classificador Naive-Bayes\n",
    "\n",
    "Considerando apenas as mensagens da planilha Treinamento, ensine  seu classificador."
   ]
  },
  {
   "cell_type": "code",
   "execution_count": null,
   "metadata": {},
   "outputs": [],
   "source": [
    "MR"
   ]
  },
  {
   "cell_type": "code",
   "execution_count": null,
   "metadata": {},
   "outputs": [],
   "source": []
  },
  {
   "cell_type": "code",
   "execution_count": null,
   "metadata": {},
   "outputs": [],
   "source": []
  },
  {
   "cell_type": "markdown",
   "metadata": {},
   "source": [
    "___\n",
    "### Verificando a performance\n",
    "\n",
    "Agora você deve testar o seu classificador com a base de Testes."
   ]
  },
  {
   "cell_type": "code",
   "execution_count": null,
   "metadata": {},
   "outputs": [],
   "source": []
  },
  {
   "cell_type": "code",
   "execution_count": null,
   "metadata": {},
   "outputs": [],
   "source": []
  },
  {
   "cell_type": "code",
   "execution_count": null,
   "metadata": {},
   "outputs": [],
   "source": []
  },
  {
   "cell_type": "markdown",
   "metadata": {},
   "source": [
    "___\n",
    "### Concluindo"
   ]
  },
  {
   "cell_type": "code",
   "execution_count": null,
   "metadata": {},
   "outputs": [],
   "source": []
  },
  {
   "cell_type": "code",
   "execution_count": null,
   "metadata": {},
   "outputs": [],
   "source": []
  },
  {
   "cell_type": "markdown",
   "metadata": {},
   "source": [
    "## Aperfeiçoamento:\n",
    "\n",
    "Os trabalhos vão evoluir em conceito dependendo da quantidade de itens avançados:\n",
    "\n",
    "* Limpar: \\n, :, \", ', (, ), etc SEM remover emojis (*feito*)\n",
    "* Corrigir separação de espaços entre palavras e emojis ou emojis e emojis\n",
    "* Propor outras limpezas e transformações que não afetem a qualidade da informação ou classificação\n",
    "* Criar categorias intermediárias de relevância baseadas na probabilidade: ex.: muito relevante, relevante, neutro, irrelevante, muito irrelevante (3 categorias: C, mais categorias conta para B)\n",
    "* Explicar por que não posso usar o próprio classificador para gerar mais amostras de treinamento\n",
    "* Propor diferentes cenários para Naïve Bayes fora do contexto do projeto\n",
    "* Sugerir e explicar melhorias reais com indicações concretas de como implementar (indicar como fazer e indicar material de pesquisa)\n",
    "* Montar um dashboard que periodicamente realiza análise de sentimento e visualiza estes dados"
   ]
  },
  {
   "cell_type": "markdown",
   "metadata": {},
   "source": [
    "# Referências"
   ]
  },
  {
   "cell_type": "markdown",
   "metadata": {},
   "source": [
    "[Naive Bayes and Text Classification](https://arxiv.org/pdf/1410.5329.pdf)  **Mais completo**\n",
    "\n",
    "[A practical explanation of a Naive Bayes Classifier](https://monkeylearn.com/blog/practical-explanation-naive-bayes-classifier/) **Mais simples**"
   ]
  },
  {
   "cell_type": "code",
   "execution_count": null,
   "metadata": {},
   "outputs": [],
   "source": []
  }
 ],
 "metadata": {
  "kernelspec": {
   "display_name": "Python 3",
   "language": "python",
   "name": "python3"
  },
  "language_info": {
   "codemirror_mode": {
    "name": "ipython",
    "version": 3
   },
   "file_extension": ".py",
   "mimetype": "text/x-python",
   "name": "python",
   "nbconvert_exporter": "python",
   "pygments_lexer": "ipython3",
   "version": "3.7.1"
  }
 },
 "nbformat": 4,
 "nbformat_minor": 4
}
