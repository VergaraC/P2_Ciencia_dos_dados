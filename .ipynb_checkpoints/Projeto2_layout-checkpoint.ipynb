{
 "cells": [
  {
   "cell_type": "markdown",
   "metadata": {},
   "source": [
    "# Projeto 2 - Ciência dos Dados"
   ]
  },
  {
   "cell_type": "markdown",
   "metadata": {},
   "source": [
    "Nome: Henrique Mualem Marti\n",
    "\n",
    "Nome: Victor Vergara\n",
    "\n",
    "Nome: Edgard Neto"
   ]
  },
  {
   "cell_type": "markdown",
   "metadata": {},
   "source": [
    "Serão permitidos grupos de três pessoas, mas com uma rubrica mais exigente. Grupos deste tamanho precisarão fazer um questionário de avaliação de trabalho em equipe"
   ]
  },
  {
   "cell_type": "markdown",
   "metadata": {},
   "source": [
    "___\n",
    "# Classificador automático de sentimento\n"
   ]
  },
  {
   "cell_type": "markdown",
   "metadata": {},
   "source": [
    "## Preparando o ambiente no jupyter:"
   ]
  },
  {
   "cell_type": "code",
   "execution_count": 175,
   "metadata": {},
   "outputs": [],
   "source": [
    "%%capture\n",
    "\n",
    "#Instalando o tweepy\n",
    "!pip install tweepy"
   ]
  },
  {
   "cell_type": "code",
   "execution_count": 176,
   "metadata": {
    "jupyter": {
     "outputs_hidden": true
    }
   },
   "outputs": [],
   "source": [
    "import tweepy\n",
    "import math\n",
    "import os.path\n",
    "import pandas as pd\n",
    "import json\n",
    "import re\n",
    "import string\n",
    "from random import shuffle"
   ]
  },
  {
   "cell_type": "markdown",
   "metadata": {},
   "source": [
    "___\n",
    "## Autenticando no  Twitter\n",
    "\n",
    "* Conta: ***[Preencha aqui o id da sua conta. Ex: @fulano ]***"
   ]
  },
  {
   "cell_type": "code",
   "execution_count": 177,
   "metadata": {
    "jupyter": {
     "outputs_hidden": true
    }
   },
   "outputs": [],
   "source": [
    "#Dados de autenticação do twitter:\n",
    "\n",
    "#Coloque aqui o identificador da conta no twitter: @fulano\n",
    "\n",
    "#leitura do arquivo no formato JSON\n",
    "with open('auth.pass.json') as fp:    \n",
    "    data = json.load(fp)\n",
    "\n",
    "#Configurando a biblioteca. Não modificar\n",
    "auth = tweepy.OAuthHandler(data['consumer_key'], data['consumer_secret'])\n",
    "auth.set_access_token(data['access_token'], data['access_token_secret'])"
   ]
  },
  {
   "cell_type": "markdown",
   "metadata": {},
   "source": [
    "___\n",
    "## Etapas do projeto:"
   ]
  },
  {
   "cell_type": "markdown",
   "metadata": {},
   "source": [
    "### Escolha de um produto e coleta das mensagens\n"
   ]
  },
  {
   "cell_type": "code",
   "execution_count": 178,
   "metadata": {
    "jupyter": {
     "outputs_hidden": true
    }
   },
   "outputs": [],
   "source": [
    "#Produto escolhido:\n",
    "produto = 'coca'\n",
    "\n",
    "#Quantidade mínima de mensagens capturadas:\n",
    "n = 1000\n",
    "#Quantidade mínima de mensagens para a base de treinamento:\n",
    "t = 250\n",
    "\n",
    "#Filtro de língua, escolha uma na tabela ISO 639-1.\n",
    "lang = 'pt'"
   ]
  },
  {
   "cell_type": "markdown",
   "metadata": {},
   "source": [
    "Capturando os dados do twitter:"
   ]
  },
  {
   "cell_type": "code",
   "execution_count": 179,
   "metadata": {
    "jupyter": {
     "outputs_hidden": true
    }
   },
   "outputs": [],
   "source": [
    "#Cria um objeto para a captura\n",
    "# api = tweepy.API(auth)\n",
    "\n",
    "#Inicia a captura, para mais detalhes: ver a documentação do tweepy\n",
    "# i = 1\n",
    "# msgs = []\n",
    "# for msg in tweepy.Cursor(api.search, q=produto, lang=lang, tweet_mode=\"extended\").items():    \n",
    "#     msgs.append(msg.full_text.lower())\n",
    "#     i += 1\n",
    "#     if i > n:\n",
    "#         break\n",
    "\n",
    "#Embaralhando as mensagens para reduzir um possível viés\n",
    "# shuffle(msgs)"
   ]
  },
  {
   "cell_type": "markdown",
   "metadata": {},
   "source": [
    "Salvando os dados em uma planilha Excel:"
   ]
  },
  {
   "cell_type": "code",
   "execution_count": 180,
   "metadata": {
    "jupyter": {
     "outputs_hidden": true
    }
   },
   "outputs": [],
   "source": [
    "#Verifica se o arquivo não existe para não substituir um conjunto pronto\n",
    "# if not os.path.isfile('./{0}.xlsx'.format(produto)):\n",
    "    \n",
    "    #Abre o arquivo para escrita\n",
    "#     writer = pd.ExcelWriter('{0}.xlsx'.format(produto))\n",
    "\n",
    "    #divide o conjunto de mensagens em duas planilhas\n",
    "#     dft = pd.DataFrame({'Treinamento' : pd.Series(msgs[:t])})\n",
    "#     dft.to_excel(excel_writer = writer, sheet_name = 'Treinamento', index = False)\n",
    "\n",
    "#     dfc = pd.DataFrame({'Teste' : pd.Series(msgs[t:])})\n",
    "#     dfc.to_excel(excel_writer = writer, sheet_name = 'Teste', index = False)\n",
    "\n",
    "    #fecha o arquivo\n",
    "#     writer.save()"
   ]
  },
  {
   "cell_type": "markdown",
   "metadata": {},
   "source": [
    "___\n",
    "### Classificando as mensagens na coragem\n",
    "\n",
    "Esta etapa é manual. Faça a mesma pelo Excel."
   ]
  },
  {
   "cell_type": "code",
   "execution_count": 181,
   "metadata": {
    "scrolled": true
   },
   "outputs": [
    {
     "data": {
      "text/html": [
       "<div>\n",
       "<style scoped>\n",
       "    .dataframe tbody tr th:only-of-type {\n",
       "        vertical-align: middle;\n",
       "    }\n",
       "\n",
       "    .dataframe tbody tr th {\n",
       "        vertical-align: top;\n",
       "    }\n",
       "\n",
       "    .dataframe thead th {\n",
       "        text-align: right;\n",
       "    }\n",
       "</style>\n",
       "<table border=\"1\" class=\"dataframe\">\n",
       "  <thead>\n",
       "    <tr style=\"text-align: right;\">\n",
       "      <th></th>\n",
       "      <th>Teste</th>\n",
       "      <th>Relevância</th>\n",
       "    </tr>\n",
       "  </thead>\n",
       "  <tbody>\n",
       "    <tr>\n",
       "      <th>0</th>\n",
       "      <td>olha a hora que é e eu tive que comprar uma co...</td>\n",
       "      <td>1</td>\n",
       "    </tr>\n",
       "    <tr>\n",
       "      <th>1</th>\n",
       "      <td>hoje o almoço é c a ingrid....e de quebra uma ...</td>\n",
       "      <td>1</td>\n",
       "    </tr>\n",
       "    <tr>\n",
       "      <th>2</th>\n",
       "      <td>acho que vi 7 ggatinhos eita pega amo mais que...</td>\n",
       "      <td>2</td>\n",
       "    </tr>\n",
       "    <tr>\n",
       "      <th>3</th>\n",
       "      <td>7h da manhã e eu estava comendo carne assada c...</td>\n",
       "      <td>3</td>\n",
       "    </tr>\n",
       "    <tr>\n",
       "      <th>4</th>\n",
       "      <td>mano eu e a layla hoje tomamos uns 6 garrafas ...</td>\n",
       "      <td>2</td>\n",
       "    </tr>\n",
       "    <tr>\n",
       "      <th>5</th>\n",
       "      <td>só quero uma coca bem gelada</td>\n",
       "      <td>1</td>\n",
       "    </tr>\n",
       "    <tr>\n",
       "      <th>6</th>\n",
       "      <td>sequei a coca que tinha na geladeira, ressaca fdd</td>\n",
       "      <td>2</td>\n",
       "    </tr>\n",
       "    <tr>\n",
       "      <th>7</th>\n",
       "      <td>@claytonnerdside perto disso aqui, coca cola é...</td>\n",
       "      <td>3</td>\n",
       "    </tr>\n",
       "    <tr>\n",
       "      <th>8</th>\n",
       "      <td>guaraná ou coca? — coca zero https://t.co/edgh...</td>\n",
       "      <td>1</td>\n",
       "    </tr>\n",
       "    <tr>\n",
       "      <th>9</th>\n",
       "      <td>é normal bebê coca uma hora dessa.🤦🏻‍♀️</td>\n",
       "      <td>2</td>\n",
       "    </tr>\n",
       "    <tr>\n",
       "      <th>10</th>\n",
       "      <td>rt @ribeirosilva12: porque só falam do bolsona...</td>\n",
       "      <td>3</td>\n",
       "    </tr>\n",
       "    <tr>\n",
       "      <th>11</th>\n",
       "      <td>ontem na vulcano pedi um copão de coca, minha ...</td>\n",
       "      <td>3</td>\n",
       "    </tr>\n",
       "    <tr>\n",
       "      <th>12</th>\n",
       "      <td>@nemtjf3 deve ser a coca cola sim</td>\n",
       "      <td>3</td>\n",
       "    </tr>\n",
       "    <tr>\n",
       "      <th>13</th>\n",
       "      <td>rt @xxxofanie: - coca zero é zero pq é zero aç...</td>\n",
       "      <td>2</td>\n",
       "    </tr>\n",
       "    <tr>\n",
       "      <th>14</th>\n",
       "      <td>a vida é muito curta pra vc não se acabar num ...</td>\n",
       "      <td>2</td>\n",
       "    </tr>\n",
       "    <tr>\n",
       "      <th>15</th>\n",
       "      <td>rt @anapaul91683215: suga seu gostoso delícia ...</td>\n",
       "      <td>2</td>\n",
       "    </tr>\n",
       "    <tr>\n",
       "      <th>16</th>\n",
       "      <td>rt @lilnativetiger: olho pra pedra nos rins e ...</td>\n",
       "      <td>1</td>\n",
       "    </tr>\n",
       "    <tr>\n",
       "      <th>17</th>\n",
       "      <td>rt @nayyyreis: esse de embelezar os textos no ...</td>\n",
       "      <td>3</td>\n",
       "    </tr>\n",
       "    <tr>\n",
       "      <th>18</th>\n",
       "      <td>dormi bem a madrugada inteira, acordei e tomei...</td>\n",
       "      <td>3</td>\n",
       "    </tr>\n",
       "    <tr>\n",
       "      <th>19</th>\n",
       "      <td>nem bebi nada, fiquei na coca mas eu estava co...</td>\n",
       "      <td>2</td>\n",
       "    </tr>\n",
       "    <tr>\n",
       "      <th>20</th>\n",
       "      <td>x1 p90 só hs valendo uma coca https://t.co/v1l...</td>\n",
       "      <td>2</td>\n",
       "    </tr>\n",
       "    <tr>\n",
       "      <th>21</th>\n",
       "      <td>@joaorss_ tem hora p beber coca gnt ?</td>\n",
       "      <td>2</td>\n",
       "    </tr>\n",
       "    <tr>\n",
       "      <th>22</th>\n",
       "      <td>@chateaufiesta a essas era uma coça!</td>\n",
       "      <td>3</td>\n",
       "    </tr>\n",
       "    <tr>\n",
       "      <th>23</th>\n",
       "      <td>rt @dcechetto: as vezes eu não quero tomar ref...</td>\n",
       "      <td>1</td>\n",
       "    </tr>\n",
       "    <tr>\n",
       "      <th>24</th>\n",
       "      <td>rt @lilnativetiger: olho pra pedra nos rins e ...</td>\n",
       "      <td>0</td>\n",
       "    </tr>\n",
       "    <tr>\n",
       "      <th>25</th>\n",
       "      <td>rt @dcechetto: as vezes eu não quero tomar ref...</td>\n",
       "      <td>1</td>\n",
       "    </tr>\n",
       "    <tr>\n",
       "      <th>26</th>\n",
       "      <td>rt @sodeboabrazil: por que a mídia internacion...</td>\n",
       "      <td>3</td>\n",
       "    </tr>\n",
       "    <tr>\n",
       "      <th>27</th>\n",
       "      <td>consegue ficar o dia todo sem dar uma risada? ...</td>\n",
       "      <td>3</td>\n",
       "    </tr>\n",
       "    <tr>\n",
       "      <th>28</th>\n",
       "      <td>olho p pedra nos rins e dps eu olho pra coca c...</td>\n",
       "      <td>0</td>\n",
       "    </tr>\n",
       "    <tr>\n",
       "      <th>29</th>\n",
       "      <td>chapar com os amigos que gosto e depois tomar ...</td>\n",
       "      <td>0</td>\n",
       "    </tr>\n",
       "    <tr>\n",
       "      <th>...</th>\n",
       "      <td>...</td>\n",
       "      <td>...</td>\n",
       "    </tr>\n",
       "    <tr>\n",
       "      <th>220</th>\n",
       "      <td>te daria mt coça de xereca rsrs — ih pronto kk...</td>\n",
       "      <td>3</td>\n",
       "    </tr>\n",
       "    <tr>\n",
       "      <th>221</th>\n",
       "      <td>bom dia\\n\\nacordei com vontade de morrer\\n\\ne ...</td>\n",
       "      <td>1</td>\n",
       "    </tr>\n",
       "    <tr>\n",
       "      <th>222</th>\n",
       "      <td>eu: queria ser vegetariana, comer saudável, di...</td>\n",
       "      <td>2</td>\n",
       "    </tr>\n",
       "    <tr>\n",
       "      <th>223</th>\n",
       "      <td>rt @purpups: @call_me_hood tudo coca da mesma ...</td>\n",
       "      <td>3</td>\n",
       "    </tr>\n",
       "    <tr>\n",
       "      <th>224</th>\n",
       "      <td>eu recomendo mt p vcs que n tomem mta coca col...</td>\n",
       "      <td>2</td>\n",
       "    </tr>\n",
       "    <tr>\n",
       "      <th>225</th>\n",
       "      <td>um gajo acabou de me tentar vender coca e fico...</td>\n",
       "      <td>3</td>\n",
       "    </tr>\n",
       "    <tr>\n",
       "      <th>226</th>\n",
       "      <td>até pq ontem comi um churrascão com coca</td>\n",
       "      <td>2</td>\n",
       "    </tr>\n",
       "    <tr>\n",
       "      <th>227</th>\n",
       "      <td>lembrei agr do dia que eu fui na casa da minha...</td>\n",
       "      <td>2</td>\n",
       "    </tr>\n",
       "    <tr>\n",
       "      <th>228</th>\n",
       "      <td>@maome777 bicho vai logo nesse tempo todo eu j...</td>\n",
       "      <td>2</td>\n",
       "    </tr>\n",
       "    <tr>\n",
       "      <th>229</th>\n",
       "      <td>pessoal do meu trabalho já sabe q eu to de res...</td>\n",
       "      <td>2</td>\n",
       "    </tr>\n",
       "    <tr>\n",
       "      <th>230</th>\n",
       "      <td>acordei comendo cachorro quente e uma coca por...</td>\n",
       "      <td>1</td>\n",
       "    </tr>\n",
       "    <tr>\n",
       "      <th>231</th>\n",
       "      <td>rt @xxxofanie: - coca zero é zero pq é zero aç...</td>\n",
       "      <td>2</td>\n",
       "    </tr>\n",
       "    <tr>\n",
       "      <th>232</th>\n",
       "      <td>rt @rr_tv: restaurantes, vamos combinar: não é...</td>\n",
       "      <td>2</td>\n",
       "    </tr>\n",
       "    <tr>\n",
       "      <th>233</th>\n",
       "      <td>madrugou fznd trabalho, escutando dex e bebend...</td>\n",
       "      <td>2</td>\n",
       "    </tr>\n",
       "    <tr>\n",
       "      <th>234</th>\n",
       "      <td>bom dia só aos trabalhadores proletariados p q...</td>\n",
       "      <td>3</td>\n",
       "    </tr>\n",
       "    <tr>\n",
       "      <th>235</th>\n",
       "      <td>seu perfil foi visto por 2 pessoas na última h...</td>\n",
       "      <td>3</td>\n",
       "    </tr>\n",
       "    <tr>\n",
       "      <th>236</th>\n",
       "      <td>eu sinto o nariz coça  muito quando chego pert...</td>\n",
       "      <td>3</td>\n",
       "    </tr>\n",
       "    <tr>\n",
       "      <th>237</th>\n",
       "      <td>rt @oemputecido: o braço nois nunca quebrou   ...</td>\n",
       "      <td>3</td>\n",
       "    </tr>\n",
       "    <tr>\n",
       "      <th>238</th>\n",
       "      <td>rt @bl_fxp: conheci umas mina legal p crl e ai...</td>\n",
       "      <td>2</td>\n",
       "    </tr>\n",
       "    <tr>\n",
       "      <th>239</th>\n",
       "      <td>@malditacubana eai última coca cola do deserto</td>\n",
       "      <td>2</td>\n",
       "    </tr>\n",
       "    <tr>\n",
       "      <th>240</th>\n",
       "      <td>eu com certeza vou ter filhos, olha que coisa ...</td>\n",
       "      <td>3</td>\n",
       "    </tr>\n",
       "    <tr>\n",
       "      <th>241</th>\n",
       "      <td>alguém que tiver no centro poderia por gentile...</td>\n",
       "      <td>2</td>\n",
       "    </tr>\n",
       "    <tr>\n",
       "      <th>242</th>\n",
       "      <td>rt @sodeboabrazil: por que a mídia internacion...</td>\n",
       "      <td>3</td>\n",
       "    </tr>\n",
       "    <tr>\n",
       "      <th>243</th>\n",
       "      <td>rt @mariiiana111: netflix, lasanha,coca cola e...</td>\n",
       "      <td>2</td>\n",
       "    </tr>\n",
       "    <tr>\n",
       "      <th>244</th>\n",
       "      <td>acabei de beber 1 copo de coca-cola cheio pra ...</td>\n",
       "      <td>1</td>\n",
       "    </tr>\n",
       "    <tr>\n",
       "      <th>245</th>\n",
       "      <td>eu bebendo coca-cola cinco da manhã https://t....</td>\n",
       "      <td>2</td>\n",
       "    </tr>\n",
       "    <tr>\n",
       "      <th>246</th>\n",
       "      <td>rt @aryadnahs: ela coça! https://t.co/2n3ibit6zd</td>\n",
       "      <td>3</td>\n",
       "    </tr>\n",
       "    <tr>\n",
       "      <th>247</th>\n",
       "      <td>já acordei com vontade de beber coca</td>\n",
       "      <td>1</td>\n",
       "    </tr>\n",
       "    <tr>\n",
       "      <th>248</th>\n",
       "      <td>vontade de comer coxinha e tomar coca</td>\n",
       "      <td>1</td>\n",
       "    </tr>\n",
       "    <tr>\n",
       "      <th>249</th>\n",
       "      <td>acordei desejando uma coca cola bem gelada e u...</td>\n",
       "      <td>1</td>\n",
       "    </tr>\n",
       "  </tbody>\n",
       "</table>\n",
       "<p>250 rows × 2 columns</p>\n",
       "</div>"
      ],
      "text/plain": [
       "                                                 Teste  Relevância\n",
       "0    olha a hora que é e eu tive que comprar uma co...           1\n",
       "1    hoje o almoço é c a ingrid....e de quebra uma ...           1\n",
       "2    acho que vi 7 ggatinhos eita pega amo mais que...           2\n",
       "3    7h da manhã e eu estava comendo carne assada c...           3\n",
       "4    mano eu e a layla hoje tomamos uns 6 garrafas ...           2\n",
       "5                         só quero uma coca bem gelada           1\n",
       "6    sequei a coca que tinha na geladeira, ressaca fdd           2\n",
       "7    @claytonnerdside perto disso aqui, coca cola é...           3\n",
       "8    guaraná ou coca? — coca zero https://t.co/edgh...           1\n",
       "9              é normal bebê coca uma hora dessa.🤦🏻‍♀️           2\n",
       "10   rt @ribeirosilva12: porque só falam do bolsona...           3\n",
       "11   ontem na vulcano pedi um copão de coca, minha ...           3\n",
       "12                   @nemtjf3 deve ser a coca cola sim           3\n",
       "13   rt @xxxofanie: - coca zero é zero pq é zero aç...           2\n",
       "14   a vida é muito curta pra vc não se acabar num ...           2\n",
       "15   rt @anapaul91683215: suga seu gostoso delícia ...           2\n",
       "16   rt @lilnativetiger: olho pra pedra nos rins e ...           1\n",
       "17   rt @nayyyreis: esse de embelezar os textos no ...           3\n",
       "18   dormi bem a madrugada inteira, acordei e tomei...           3\n",
       "19   nem bebi nada, fiquei na coca mas eu estava co...           2\n",
       "20   x1 p90 só hs valendo uma coca https://t.co/v1l...           2\n",
       "21               @joaorss_ tem hora p beber coca gnt ?           2\n",
       "22                @chateaufiesta a essas era uma coça!           3\n",
       "23   rt @dcechetto: as vezes eu não quero tomar ref...           1\n",
       "24   rt @lilnativetiger: olho pra pedra nos rins e ...           0\n",
       "25   rt @dcechetto: as vezes eu não quero tomar ref...           1\n",
       "26   rt @sodeboabrazil: por que a mídia internacion...           3\n",
       "27   consegue ficar o dia todo sem dar uma risada? ...           3\n",
       "28   olho p pedra nos rins e dps eu olho pra coca c...           0\n",
       "29   chapar com os amigos que gosto e depois tomar ...           0\n",
       "..                                                 ...         ...\n",
       "220  te daria mt coça de xereca rsrs — ih pronto kk...           3\n",
       "221  bom dia\\n\\nacordei com vontade de morrer\\n\\ne ...           1\n",
       "222  eu: queria ser vegetariana, comer saudável, di...           2\n",
       "223  rt @purpups: @call_me_hood tudo coca da mesma ...           3\n",
       "224  eu recomendo mt p vcs que n tomem mta coca col...           2\n",
       "225  um gajo acabou de me tentar vender coca e fico...           3\n",
       "226           até pq ontem comi um churrascão com coca           2\n",
       "227  lembrei agr do dia que eu fui na casa da minha...           2\n",
       "228  @maome777 bicho vai logo nesse tempo todo eu j...           2\n",
       "229  pessoal do meu trabalho já sabe q eu to de res...           2\n",
       "230  acordei comendo cachorro quente e uma coca por...           1\n",
       "231  rt @xxxofanie: - coca zero é zero pq é zero aç...           2\n",
       "232  rt @rr_tv: restaurantes, vamos combinar: não é...           2\n",
       "233  madrugou fznd trabalho, escutando dex e bebend...           2\n",
       "234  bom dia só aos trabalhadores proletariados p q...           3\n",
       "235  seu perfil foi visto por 2 pessoas na última h...           3\n",
       "236  eu sinto o nariz coça  muito quando chego pert...           3\n",
       "237  rt @oemputecido: o braço nois nunca quebrou   ...           3\n",
       "238  rt @bl_fxp: conheci umas mina legal p crl e ai...           2\n",
       "239     @malditacubana eai última coca cola do deserto           2\n",
       "240  eu com certeza vou ter filhos, olha que coisa ...           3\n",
       "241  alguém que tiver no centro poderia por gentile...           2\n",
       "242  rt @sodeboabrazil: por que a mídia internacion...           3\n",
       "243  rt @mariiiana111: netflix, lasanha,coca cola e...           2\n",
       "244  acabei de beber 1 copo de coca-cola cheio pra ...           1\n",
       "245  eu bebendo coca-cola cinco da manhã https://t....           2\n",
       "246   rt @aryadnahs: ela coça! https://t.co/2n3ibit6zd           3\n",
       "247               já acordei com vontade de beber coca           1\n",
       "248              vontade de comer coxinha e tomar coca           1\n",
       "249  acordei desejando uma coca cola bem gelada e u...           1\n",
       "\n",
       "[250 rows x 2 columns]"
      ]
     },
     "execution_count": 181,
     "metadata": {},
     "output_type": "execute_result"
    }
   ],
   "source": [
    " file_tre = pd.read_excel('coca.xlsx' , sheet_name='Treinamento')\n",
    " file_tes = pd.read_excel('coca.xlsx' , sheet_name='Teste')\n",
    " file_tes.head(851)"
   ]
  },
  {
   "cell_type": "markdown",
   "metadata": {},
   "source": [
    "#### Legenda de classificação:\n",
    "0: Muito relevante - os *twetts* que expressam opiniões claras e explícitas sobre a bebida \"Coca-Cola\".\n",
    "\n",
    "1: Relevante - os *twetts* que expressam alguma opinião sobre a bebida \"Coca-Cola\".\n",
    "\n",
    "2: Neutro - os *twetts* que não expressam nenhuma opinião sobre a bebida \"Coca-Cola\".\n",
    "\n",
    "3: Irrelevante - os *twetts* que não estão relacionados a bebida \"Coca-Cola\".\n"
   ]
  },
  {
   "cell_type": "code",
   "execution_count": null,
   "metadata": {},
   "outputs": [],
   "source": []
  },
  {
   "cell_type": "code",
   "execution_count": 182,
   "metadata": {},
   "outputs": [],
   "source": [
    "#Limpeza\n",
    "\n",
    "def stclear(Column):\n",
    "\n",
    "    Column= Column.replace(' \" ',\" \").replace(\" ' \",\"\").replace(' \"',\" \").replace('\" ',\" \").replace('\"',\" \")\n",
    "    return Column\n",
    "\n",
    "\n",
    "def cleanup(Column):\n",
    "\n",
    "    Column= Column.replace(\"ç\",\"c\").replace(\"â\",\"a\").replace(\"ã\",\"a\").replace(\"à\",\"a\").replace(\"ê\",\"e\").replace(\"é\",\"e\").replace(\"ô\",\"o\").replace(\"õ\",\"o\").replace(\"/\",\" \").replace(\"?\",\" \").replace(\"!\",\" \").replace(\"@\",\" \").replace(\"\\n\",\" \").replace(\";\",\" \").replace(\",\",\"\").replace(\":\",\" \").replace(\"[\",\" \").replace(\"]\",\" \").replace(\"}\",\" \").replace(\"{\",\" \").replace(\"\\\\\",\" \").replace(' \" ',\" \").replace(\" ' \",\"\").replace(\" * \",\" \").replace(\" _ \",\" \").replace(\" - \",\" \").replace(\" . \",\" \").replace(\" rt \",\" \").replace(\"…\",\"\").replace(\"“\",\"\").replace(\"             \",\" \").replace(\"   \",\"\").replace(\"..\",\" \").replace(\"...\",\" \").replace(\"....\",\" \").replace(\".....\",\" \").replace(\"     \",\" \").replace(\"\\ \",\"\").replace(\"*\",\"\").replace(\")\",\"\")  \n",
    "    return Column\n",
    "\n",
    "#for items in file.Treinamento:\n",
    "    #p=cleanup(items)\n",
    "    "
   ]
  },
  {
   "cell_type": "code",
   "execution_count": 183,
   "metadata": {},
   "outputs": [],
   "source": [
    "def rtcleaner(text):\n",
    "    n = 0\n",
    "    out = []\n",
    "    while n in range(len(text)):\n",
    "        if text[n] == \"r\":\n",
    "            if text[n+1] ==\"t\":\n",
    "                if text[n+2] ==\" \":\n",
    "                    if text[n+3] ==\"@\":\n",
    "                        x = n\n",
    "                        while text[x] != \":\":\n",
    "                            x = x+1\n",
    "                        n = x\n",
    "                        \n",
    "        if text[n] == \"h\":\n",
    "            if text[n+1] ==\"t\":\n",
    "                if text[n+2] ==\"t\":\n",
    "                    if text[n+3] ==\"p\":\n",
    "                        x = n\n",
    "                        while text[x] != \" \":\n",
    "                            x = x+1\n",
    "                        n = x\n",
    "\n",
    "        if text[n] == \"@\":\n",
    "            x = n\n",
    "            while text[x] != \" \":\n",
    "                if x == len(text)-1:\n",
    "                    break\n",
    "                else:\n",
    "                    x = x+1\n",
    "            n = x\n",
    "\n",
    "        out.append(text[n])\n",
    "        n+=1\n",
    "    out = \"\".join(out)\n",
    "    return out"
   ]
  },
  {
   "cell_type": "code",
   "execution_count": 184,
   "metadata": {},
   "outputs": [],
   "source": [
    "file_tre.Treinamento = file_tre.Treinamento.apply(lambda x: x.lower())\n",
    "#file_tre.Treinamento = file.Treinamento.apply(lambda x: x.translate(str.maketrans('','',string.punctuation)))\n",
    "file_tre.Treinamento = file_tre.Treinamento.apply(lambda x: x.translate(str.maketrans('','',string.digits)))\n",
    "file_tre['Treinamento']=file_tre['Treinamento'].apply(stclear)\n",
    "file_tes['Teste']=file_tes['Teste'].apply(stclear)"
   ]
  },
  {
   "cell_type": "code",
   "execution_count": 185,
   "metadata": {},
   "outputs": [
    {
     "data": {
      "text/html": [
       "<div>\n",
       "<style scoped>\n",
       "    .dataframe tbody tr th:only-of-type {\n",
       "        vertical-align: middle;\n",
       "    }\n",
       "\n",
       "    .dataframe tbody tr th {\n",
       "        vertical-align: top;\n",
       "    }\n",
       "\n",
       "    .dataframe thead th {\n",
       "        text-align: right;\n",
       "    }\n",
       "</style>\n",
       "<table border=\"1\" class=\"dataframe\">\n",
       "  <thead>\n",
       "    <tr style=\"text-align: right;\">\n",
       "      <th></th>\n",
       "      <th>Teste</th>\n",
       "      <th>Relevância</th>\n",
       "    </tr>\n",
       "  </thead>\n",
       "  <tbody>\n",
       "    <tr>\n",
       "      <th>0</th>\n",
       "      <td>olha a hora que é e eu tive que comprar uma co...</td>\n",
       "      <td>1</td>\n",
       "    </tr>\n",
       "    <tr>\n",
       "      <th>1</th>\n",
       "      <td>hoje o almoço é c a ingrid....e de quebra uma ...</td>\n",
       "      <td>1</td>\n",
       "    </tr>\n",
       "    <tr>\n",
       "      <th>2</th>\n",
       "      <td>acho que vi 7 ggatinhos eita pega amo mais que...</td>\n",
       "      <td>2</td>\n",
       "    </tr>\n",
       "    <tr>\n",
       "      <th>3</th>\n",
       "      <td>7h da manhã e eu estava comendo carne assada c...</td>\n",
       "      <td>3</td>\n",
       "    </tr>\n",
       "    <tr>\n",
       "      <th>4</th>\n",
       "      <td>mano eu e a layla hoje tomamos uns 6 garrafas ...</td>\n",
       "      <td>2</td>\n",
       "    </tr>\n",
       "    <tr>\n",
       "      <th>5</th>\n",
       "      <td>só quero uma coca bem gelada</td>\n",
       "      <td>1</td>\n",
       "    </tr>\n",
       "    <tr>\n",
       "      <th>6</th>\n",
       "      <td>sequei a coca que tinha na geladeira, ressaca fdd</td>\n",
       "      <td>2</td>\n",
       "    </tr>\n",
       "    <tr>\n",
       "      <th>7</th>\n",
       "      <td>@claytonnerdside perto disso aqui, coca cola é...</td>\n",
       "      <td>3</td>\n",
       "    </tr>\n",
       "    <tr>\n",
       "      <th>8</th>\n",
       "      <td>guaraná ou coca? — coca zero https://t.co/edgh...</td>\n",
       "      <td>1</td>\n",
       "    </tr>\n",
       "    <tr>\n",
       "      <th>9</th>\n",
       "      <td>é normal bebê coca uma hora dessa.🤦🏻‍♀️</td>\n",
       "      <td>2</td>\n",
       "    </tr>\n",
       "    <tr>\n",
       "      <th>10</th>\n",
       "      <td>rt @ribeirosilva12: porque só falam do bolsona...</td>\n",
       "      <td>3</td>\n",
       "    </tr>\n",
       "    <tr>\n",
       "      <th>11</th>\n",
       "      <td>ontem na vulcano pedi um copão de coca, minha ...</td>\n",
       "      <td>3</td>\n",
       "    </tr>\n",
       "    <tr>\n",
       "      <th>12</th>\n",
       "      <td>@nemtjf3 deve ser a coca cola sim</td>\n",
       "      <td>3</td>\n",
       "    </tr>\n",
       "    <tr>\n",
       "      <th>13</th>\n",
       "      <td>rt @xxxofanie: - coca zero é zero pq é zero aç...</td>\n",
       "      <td>2</td>\n",
       "    </tr>\n",
       "    <tr>\n",
       "      <th>14</th>\n",
       "      <td>a vida é muito curta pra vc não se acabar num ...</td>\n",
       "      <td>2</td>\n",
       "    </tr>\n",
       "    <tr>\n",
       "      <th>15</th>\n",
       "      <td>rt @anapaul91683215: suga seu gostoso delícia ...</td>\n",
       "      <td>2</td>\n",
       "    </tr>\n",
       "    <tr>\n",
       "      <th>16</th>\n",
       "      <td>rt @lilnativetiger: olho pra pedra nos rins e ...</td>\n",
       "      <td>1</td>\n",
       "    </tr>\n",
       "    <tr>\n",
       "      <th>17</th>\n",
       "      <td>rt @nayyyreis: esse de embelezar os textos no ...</td>\n",
       "      <td>3</td>\n",
       "    </tr>\n",
       "    <tr>\n",
       "      <th>18</th>\n",
       "      <td>dormi bem a madrugada inteira, acordei e tomei...</td>\n",
       "      <td>3</td>\n",
       "    </tr>\n",
       "    <tr>\n",
       "      <th>19</th>\n",
       "      <td>nem bebi nada, fiquei na coca mas eu estava co...</td>\n",
       "      <td>2</td>\n",
       "    </tr>\n",
       "  </tbody>\n",
       "</table>\n",
       "</div>"
      ],
      "text/plain": [
       "                                                Teste  Relevância\n",
       "0   olha a hora que é e eu tive que comprar uma co...           1\n",
       "1   hoje o almoço é c a ingrid....e de quebra uma ...           1\n",
       "2   acho que vi 7 ggatinhos eita pega amo mais que...           2\n",
       "3   7h da manhã e eu estava comendo carne assada c...           3\n",
       "4   mano eu e a layla hoje tomamos uns 6 garrafas ...           2\n",
       "5                        só quero uma coca bem gelada           1\n",
       "6   sequei a coca que tinha na geladeira, ressaca fdd           2\n",
       "7   @claytonnerdside perto disso aqui, coca cola é...           3\n",
       "8   guaraná ou coca? — coca zero https://t.co/edgh...           1\n",
       "9             é normal bebê coca uma hora dessa.🤦🏻‍♀️           2\n",
       "10  rt @ribeirosilva12: porque só falam do bolsona...           3\n",
       "11  ontem na vulcano pedi um copão de coca, minha ...           3\n",
       "12                  @nemtjf3 deve ser a coca cola sim           3\n",
       "13  rt @xxxofanie: - coca zero é zero pq é zero aç...           2\n",
       "14  a vida é muito curta pra vc não se acabar num ...           2\n",
       "15  rt @anapaul91683215: suga seu gostoso delícia ...           2\n",
       "16  rt @lilnativetiger: olho pra pedra nos rins e ...           1\n",
       "17  rt @nayyyreis: esse de embelezar os textos no ...           3\n",
       "18  dormi bem a madrugada inteira, acordei e tomei...           3\n",
       "19  nem bebi nada, fiquei na coca mas eu estava co...           2"
      ]
     },
     "execution_count": 185,
     "metadata": {},
     "output_type": "execute_result"
    }
   ],
   "source": [
    "file_tes.head(20)"
   ]
  },
  {
   "cell_type": "code",
   "execution_count": 186,
   "metadata": {},
   "outputs": [
    {
     "data": {
      "text/plain": [
       "0    1\n",
       "1    1\n",
       "2    1\n",
       "3    1\n",
       "4    1\n",
       "Name: Relevância, dtype: category\n",
       "Categories (4, int64): [0, 1, 2, 3]"
      ]
     },
     "execution_count": 186,
     "metadata": {},
     "output_type": "execute_result"
    }
   ],
   "source": [
    "# Transformando quantitativa em qualitativa\n",
    "file_tre.Relevância = file_tre.Relevância.astype('category')\n",
    "file_tre.Relevância.head()"
   ]
  },
  {
   "cell_type": "code",
   "execution_count": 187,
   "metadata": {},
   "outputs": [
    {
     "data": {
      "text/plain": [
       "1    0.360000\n",
       "2    0.269333\n",
       "3    0.260000\n",
       "0    0.110667\n",
       "Name: Relevância, dtype: float64"
      ]
     },
     "execution_count": 187,
     "metadata": {},
     "output_type": "execute_result"
    }
   ],
   "source": [
    "contagem_relevancia = file_tre.Relevância.value_counts(True)\n",
    "contagem_relevancia"
   ]
  },
  {
   "cell_type": "code",
   "execution_count": 188,
   "metadata": {},
   "outputs": [],
   "source": [
    "prob_MR = contagem_relevancia[0]\n",
    "prob_R = contagem_relevancia[1]\n",
    "prob_N = contagem_relevancia[2]\n",
    "prob_IR = contagem_relevancia[3]"
   ]
  },
  {
   "cell_type": "code",
   "execution_count": 189,
   "metadata": {
    "scrolled": true
   },
   "outputs": [
    {
     "data": {
      "text/plain": [
       "\"eu não sou a pessoa que se alimenta da forma mais correta possível. mas são : e eu já vi uma menina tomando meio litro de coca cola e outra comendo um pacote de fandangos, gente?????????? rt @newbrasillm: jesy contou que teve transtorno alimentar durante essa época: “eu passava fome.. eu bebia coca diet por  dias e quando eu… eu vendo a galera malhando e eu comendo um salgado do geleia e uma lata de coca-cola.... estou vivendo muito errado! domingo: preciso tomar mais água, me cuidar mais e tudo \\n\\nsegunda h - café da manhã: um misto e uma coca rt @mariareginafon: @ludel @barodemau @maristelademelo faltou: coca-cola, santander, magazine luiza, etc @hugoxvt e uma coca l de garrafa pra bater no cerebro..... affffff. pequenas vitórias do dia né, hj tinha coca aq em casa e eu n tomei nem um pingo fui comprar minha coca de café encontrei a hass comprando energético tô num congresso de tecnologias semânticas e o almoço teve coca-cola em garrafa. não tem plástico! achei bem ecológico. pão de queijo de parada e coca no café\\nsaúde é tudo 👌 : e minha mãe reinando que eu tô tomando coca essa hora @evaldokkkk uma coca man, a mulher não queria deixa eu entrar com coca na caneca sendo que geral tava bebendo nas canecas lá dentro, q q eu fiz? entrei pelos fundo com a caneca cheia. regras?? nao comigo amoreeee rt @neorlights: primeiro foi o rato na coca ai agora fui abrir a lata de sardinha e tinha um peixe morto kkkkkkkkkkkkkkkkkkkkkkkkkkkkkkkkkk… quando não esquece a maionese e o ketchup agr e a coca cola 🙄 hoje to a base de coca com red bull rt @rafaelkjls: teve um dia que eu tomei  litros de coca cola com um amigo meu https://t.co/tbgcbzlm @dlsouza brt ainda vem salgado com coca hoje estou marcus leão dando a coca cola quase inteira pro mendigo @jhuubs alguém trás a corrente que esse vai ser o primeiro dos três trancado no porão. vai ficar só a biscoito e coca até ver dark do começo ao fim. @fitzstark na madrugada era mt bom, ouvia jovem pan e a coca cola fm encerando minha semana do lixo com dogão com coca cola e brownie com sorvete acabei de derramar a coca na minha cama to indo trabalhar com uma coca na mão e com o fone bem alto andando como se não houvesse o amanhã sono vc tem q vimmm!!!\\n\\nngm mandou eu tomar coca cola de noite!!!\\n\\nburra🤦🏻\\u200d♀️ @guimorais vc e a coca cola @svogeren quem toma coca de café tá a um passo de usa crack *faz  agachamento* nossa meninas emagreci muito hj *bebe  coca cola* rt @flix: gang di boca tudo ta da mota\\nguns money and drugs, snitch \\nkuze ku sabi di drogas? \\nputas branca sima coca\\nkilos ta roda nin… quando se toma coca de café da manhã é pq o troço foi feio @sf_moro @jairbolsonaro e a coca do avião? rt @marianabbz_: vai me engolir a seco ou quer um copinho de coca? 🤔 tenho que beber muita água isotônico coca cola gatorade água tônica água de coco essas porra toda que eu amo e bebo normalmente mas e o medo de vomitar tudo meu pai já expeli tudo que tinha pra sair eu acho https://t.co/jvktxqbix levantei pra pegar um copo de coca e n façam isso ta tudo doendo n consigo pisar o erick bicho..... a gente saiu do lab e ia pra casa dormir ele e se a gente passar na master rapidinho agora ele tá com um litro de coca e uma caneca da humanas do nada  horas da manhã e eu tomando coca @_nandasts coca no teu cu jkkkkkkk são : e eu ja comi pizza, tomei coca, comi bolo do aniversário do tet, morango, biscoito e agora queijo que a brenda me deu, alguem me para @reumalho quantas milhões de festas tem por aí com openbar?????????? biiicho todo mundo tem que ter ciência do seu limite. se tu sabe que tu tá ficando loco, para, bebe água, toma uma coca. ninguém obrigou ninguém a beber absolutamente naaada. as bebidas eram servidas comendo cebolitos e tomando coca-cola às h da manhã vou começar a ler uma parada bizarra sobrenatural disk espero que seja fanta e não coca depois de ter bebido na festa do padre mercenário eu chego em casa e como um miojao com uma coca \\nêdiá minha mãe: beber coca cola demais faz mal \\n\\neu : da manhã virando a garrafa fazendo glub glub me engasgando c o gás e quase saindo tudo pelo nariz quem é que toma um copo de coca cola bem gelada as : d manhã? pois é, eu desde coca logo de manhã kkk eu estava dormindo, fdp da minha irmã me acordar p pegar uma merda de uma coca, vsf!!!! parece que esquece que às :h estou de pé bebendo coca as  da matina mkkkkkkk o câncer vem https://t.co/zwlbkgcn eu tô num uber que tem água normal, água com gás, coca, bolacha, balinha, chiclete ventiladdorzinho, se eu não tivesse medo de comer essas coisas que uber da eu estava fazendo uma refeição assistindo grey's anatomy, com meu litro de coca cola, meu vaso de bolacha, como se não tivesse aula amanhã rt @arthuzinhotips: ajuda ai galera, n aguento mais ver foto de coca nos stories dela https://t.co/vnxkhghaa [/ :] vovó tim: tua mãe vai te dar uma coca\\n[/ :] 𝕮𝖑𝖆𝖗𝖆 ☀️: lógico ne\\n[/ :] 𝕮𝖑𝖆𝖗𝖆 ☀️: culpa tua\\n[/ :] vovó tim: minha porquê\\n[/ :] vovó tim: tu faz merda e a culpa é minha\\n[/ :] 𝕮𝖑𝖆𝖗𝖆 ☀️: sim pq tu q contou kkkkkkkkk eu vô ganha uma coca dia .  vai quem tem dinheiro, vai bombar de qualquer jeito \\n querian open de pastel e coca, é? \\ncoragem, viu? era só uma coca cola gelada queria alguém pra pegar uma coca ou mate ou terere e sentar num lugar assim meio do nada um parque um campo whatever e ficar ali só falando amenidades ou até nada\\n\\nmas não tenho kkkkkkk @cocagelada bom dia coca rt @nicokresteff: isso ñao é coca pai rt @pdrohsk: . inês brasil coca-cola https://t.co/kwianelk nem tem gosto de coca cola @mcalixto seu estômago e fígado vendo o lanche e a coca descerem https://t.co/woccshveu só pq eu preciso levantar cedo, tô tão acordada que parece que tomei aquela coca de café \\n🤦\\nquero dormir to bebendo mt coca cola pra chegar amanhã de manhã no sítio , beber muita cerveja  kkk🤦🏽\\u200d♀️🤪 a batata agarrou na minha garganta de uma tal forma que nem a coca ajudou a descer passei no rio lanche vindo pra casa e comprei três salgados e uma coca kkkk rt @newbrasillm: jesy contou que teve transtorno alimentar durante essa época: “eu passava fome.. eu bebia coca diet por  dias e quando eu… vou fazer uns nugget com batata frita e tomar com coca cola esqueci o crachá e a garrafa com coca estava furada vazando tudo pqp depois da coca cola, nike patrocinando times de e-sports :) https://t.co/tnqkqubygv : da manhã e eu comendo empadão e tomando coca cola 🤦\\u200d♀️🐳 de madrugada sem sono, so me resta comer pizza e tomar coca  da madrugada e eu tô enchendo o saco do @pretomero mandando foto de coca de café pra ele @camilamottta_ sim gente ela boto sal na coca e me trouxe 👍🏼 tava tão loca ontem quando cheguei do rolê que enquanto tava comendo eu cochilei e virei o copo de coca todo em cima de mim kkkkkkkkkkkkkkk burra ou não hoje na aabb me barram de entrar com o meu litrão de coca, aí fui lá e coloquei um pouco de coca na caneca e deixei o litrão no carro... voltei plenamente e fui barrada de novo 😒 rt @anapaul: suga seu gostoso delícia amo mais que chocolate e nutella amo mais que coca-cola love yuo gatinho suga @bts_twt @claud… tira a coca e bota vários suco da fruta https://t.co/wdykbqld sem álcool, diminuir cigarro, sem coca cola e rajadao de fé 🙏🏽🙏🏽👍🏼 meu estômago está com gás triste        coca cola a base de lágrimas a pessoa reclamando que a coca de l é  conto e eu:\\numa lata é  e tem ml, duas latas já é mais que o valor da garrafa e não deu nem l rt @_aksantos: as vezes no silêncio da noite, eu fico imaginando um x-tudo com uma coca cola rt @ryanzinntrex: se deus nao existe entao quem coloca o gelo dentro das garrafas d'agua ?\\n\\nreino do senhor: \\nateu:  https://t.co/rqrphgt… isso ñao é coca pai @drugx faz a dieta da coca cura de ressaca tem nome e é coca-cola https://t.co/wgdhmirp beber coca p morrer mais cedo e não precisar passar por esse calor™ @pirescarol @folha @theinterceptbr leia henfil na china antes da coca-cola .\\nconforme o autor, o medo faz com que ele perdesse as fotos  de sua viagem.\\nescreveu e publicou.\\n\\neis uma das funções mais nobres destinadas aos jornalistas:\\nretratar a verdade factual em vez de mentiras históricas  organizadas. eu não deveria ter comido  esfihas com coca cola ontem sobrou coca pra crl minha mãe vai se matar fi aí que belezinha, meu irmão quer ajuda pra ele passar no vestibular kkkk só se ele me pagar  coca  litros &lt; comendo chocolate e tomando coca cola enquanto na verdade eu deveria estar dormindo sou mt chantagista kkkkkkkk, meu irmão chegou pedindo pra eu jogar a chave pra ele e eu disse que ele só ia entrar em casa se trouxesse coca cola, ele voltou na rua pra comprar 🥰😍 se não voltasse ia dormir na rua 😂😂 por que será que eu não tô surpresa de ter entrado no quarto e ter um copo de coca cola onde o jhonny estava sentado??????? era só uma coca de café pra me manter de pé hj comi  pães e meio e um copão de coca nossa q sede de coca cola falei pra minha mãe q n tava me sentindo bem e a solução dela foi mandar eu tomar coca   ???? jkkdkskskkskdkdk só tenho ex modelo véi cada dia uma posta ensaio diferente alguma me paga uma coca retornável aí namoral mandei um mac e uma coca na facul ja tncc nda bom misturar coca cola com redbull tomei um copo de café + um de coca. espero que isso me mantenha acordado. : e um corpão de coca que tá acabando https://t.co/vozorbmaqv @fakuxd eto no e coca to sentada na cozinha bebendo coca como se não tivesse que ir pra escola cheguei agora peguei um pedaço de empadão, um copo com mousse de maracujá e um copo de coca,tô amassando beber meio copp de coca não foi uma boa ideia, tá doendo pra porra e eu nem estava sentindo assim.... é o rim gritando, vou aguentar os berros, espero que ele não seja muito escandaloso opa... checando uma coca que tem na geladeira... https://t.co/vyiaeellrm @euvagabundoo @thay_crf  @pqpcoringaa  escolhe ai quem vai fazer o meu, pago a coca @cocayna_ outra coca jjhjhjj aryadne realmente foi comprar pão, mortadela, coca e paçoca pra gente comer na sala rt @heey_eduardoo: escovei os dentes/ tomei chimarrão/ escovei os dentes/ tomei coca/ escovei os dentes eu quando deixei de pegar agua pra tomar coca com hambúrguer e batata frita\\n\\nai o refluxo gritou viu https://t.co/wzlqqbk levantei meti dois pedaços de pizza e um copo de coca. nunca mais consumo coca cola, nem nenhum outro tipo de bebida que seja da marca rt @coeriss: meu peito tá coçando alguém coça com a boca aqui @alicealbuquerq @itsannalu aushauahauahs amiga, maior verdade, sdds quando eu ficava beba de coca-cola contigo depois de ontem , só essa coca-cola msm 😊😛 https://t.co/bfmibfyzu rt @joherodriguez: ela ta muito vibes paradinha e a promo da coca em  https://t.co/lesbcgloj tô aqui comendo esfirra,umas mini pizzas,salgadinho e batata frita e um copão de coca,assistindo ponto cego ❤ testa falou pra eu n beber coca, vo beber coca g.g- muuito queriida e simpática, passamos fome juntas e dps aprendemos como esconder vodka na coca kkkkkkkkkz eu falando de coca-cola https://t.co/kxwauhgqi rt @damacenojf: role foda com os amigos que eu gosto, a gente no cinema não tem limite, quando eu vi já tinha coca no chão pipoca voando! 😂… rt @espindola: @vinheteiro ai ai...\\nesses dedos fazem mais que isso, lorde. aprecio a brincadeira, mas tomar whisky em garrafa de coca… solo fui a tomar coca cola skdkskkd https://t.co/wgjpyccp e com essa coca q eu tomei agora declaro q parei com refrigerante rebentar esse strogonoff com essa coca agora ai sla sab tomando coca cola hrs da manhã fodasse rt @omori_g: preciso parar de tomar coca mano tomando uma coca gelada enquanto pago meus boletos que é pra não sentir tanto o impacto da tristeza @coca_amor acho que a loirinha me achou bonito @lcamargoandrews duas coca só se for kkkkk @lautaroloza eto no e coca papi café da manhã c empada e coca segundei livia voce quer morrer? não óbvio que não\\nlívia seis horas da manhã: a viu comer coxinha do ragazzo e tomar coca @fuckinghellcat o bombero podia me mandar uma coca zero pavê, e coca, esse foi meu café da manhã.🤣🤣🤦🏿\\u200d♀️ to com preguiça de descer pra ir lá na cozinha pega um copo de coca eu levando torta pra mi e ela falou que ta levando coca pra mim... eu bebendo coca as  da manhã não adianta toda segunda antes de eu ir trabalhar é certo toma um copão de coca-cola 😂😂🤦🏽\\u200d♂️ chegar na central vou tomar aquela coca bem gelada pq ontem desceu gelo kkkk @isabelavnso rodízio de mexicana com coca ok? são : da manhã e eu to aqui sedentíssima por uma coca-cola professor ficou zoando pq eu to as vera comendo uma esfiha c limãozinho e uma coca as  e pouca da manhã kkkkkkkkk @_taisonp @jjalvess_ já bota a coca pra gelar eu falei que ontem ia ficar na coca, mas meus amigos inventaram de pegar uma vodka e uma jack fui beber uma coca e me deparei com  litrão de brahma na geladeira na coroa 😭 @republica_ctba essa turma tá em polvorosa,  as últimas apreensões feitas pela pf elevaram às alturas os preços da coca meu café da manhã foi pastel com coca h da manhã é pão de frios e coca no trampo, amém ❤️ dieta do dia: basês, coca cola e rivotril. @maribaltazzar vc nao bebeu vodka com eles \\nbebeu coca ???????????????? comi coxinha, bebi coca, to vendo elite. devia ter feito isso desde sexta ao invés de ir procrastinar no feriado são : da manhã e eu já estou tomando coca cola meu café hoje foi: um misto quente + coxinha + coca pprt q o vei passou  meses sem beber coca e voltou com gosto se gás pq rapaz to viciado pouco dia // as : tikin disse que vai pegar a tal menina antes do dia //,se ele não pegar ele vai me pagar uma coca,vamos ver no que dá. perde essa barriga de batata frita com coca cola ontem td mundo bebendo e eu com uma garrafa de água e com um copão de coca hahahahahaha tomando coca no café da manhã, caba não mundão rt @crvg_: @dejotacn incrível cr salvar a coca ninguém quer kkkkkkk nossa o mlk tomando coca essas hr...\\n\\nn sinto sdd dessa minha época pqp  conto a coca l https://t.co/wliah ainda não me recuperei desse fds, parece que ontem à onda veio c tudo iikkk e olha que só fiquei na coca ganhei um batom sabor coca cola👌👌 bebendo coca a essa hr da manhã, ta tudo certo coca brahma água hrs da manhã e eu virando a garrafa de coca cola eu não deveria ter comido torrada com coca no café da manhã não bebi nada, mas o suficiente pra derramar toda a minha coca no resto dr pizza que sobrou odeio associar minha fome com o meu signo\\nmas eu tô com:\\num pão com queijo e presunto\\nwafer\\nbolacha recheada\\nsucrilhos\\nbarra de cereal\\nchocolate\\numa garrafa de água e a outra de coca\\ntudo no meu quarto\\né maravilhoso ser taurina era so uma coca bem gelada ... @undrgrndesgoto um copo de coca equivale a  cigarros. pense nisso @sleepstreams pepsi só tem ,\\ncoca que é  litros certinhos eto no e coca papi eu não quero criar polêmicas, mas nescau é melhor que toddy, coca é melhor que pepsi, dragon ball é melhor que naruto, star wars é melhor que star trek, house é melhor que grays anatomy, \\n pizza é melhor que esfiha e a marvel é melhor que a dc.\\n\\nesqueci de algum? diva, benz , coca boy, aye e outras vc não vão entender nunca pqp rt @newbrasillm: jesy contou que teve transtorno alimentar durante essa época: “eu passava fome.. eu bebia coca diet por  dias e quando eu… ainnn cara beta colocou lá os salgados que tem hoje, sai correndo do grupo, que tentação... chegar no trabalho tá geral comendo hambúrguer c uma coca geladinha, e eu vou comer iogurte c chia e pão integral c queijo minas... 😢 @ramerski é só tinha uma coca tomei um banho, tomei um copo de coca e tô deitadinha pra mim a pessoa q toma coca cola com  pão de queijo as  da manhã ela ja perdeu toda esperança na vida dela preciso tomar um coca vou lá em  baixo compra uma coca kkj queria só  litro de coca cola :( primeiro dia de trabalho e minha chefe compra todinho, coca, bolachas pra mim ♥️🙏🏻😂 tomando aql coca na praça com o parceiro vou pra praia diferenciado, com o pé havaianas e correia da coca cola, vagabundo é foda, minha sandália novinha 😤 tinha que ter um estúdio coca-cola pra alguém financiar um disco colaborativo das banda mais nervosa do brasil rt @mateus_dias: queria tá indo comprar coca p almoçar na sogra @juuliadamasio bão hein ja da p comprar uma coca p nois hj o uber que me deixou em casa, foi um senhor que pagou uma coca cola pra me tranquilizar quando fui assaltado com a minha mãe a quase  anos atrás. lembrei das feições dele e não tive nem coragem de pegar o troco pela corrida.\\nfaça o bem e ele voltará a ti, independente do tempo. caraio os aluno trouxeram cachorro quente e coca pra aula e eu n posso nem beber água https://t.co/bvjljsqivd @amonthevic coca cola também tá me ajudando muito, não sei pq tenho a sensação que quando eu tomo refrigerante melhora e limão também \\nmas comida tá difícil, tudo que eu como me dá vontade de vomitar :( \\njá emagreci  kg só sei q os pia são uns apegam n quisero da  centavos pra ajuda paga a coca kkkkkk acho mto chique quem consegue programar  atividades pro dia além das obrigações rotineiras. eu consigo no maximo passar no posto pegar uma coca cola fora da minha rotina se nao eu ja me perco toda rt @omori_g: preciso parar de tomar coca mano rt @_mecanico: @vulgovianna vender coca, bala e aguaaaaa kkkk bom dia meu mano. da um beijo na princesa😍😍 rt @dudaoxx: começar a beber é  litro de coca por dia https://t.co/hxgqimb preciso parar de tomar coca @wallazzi tá valendo uma coca @joaovaz vou comprar coca cola para ti pá tens que vir 🤣🤣\""
      ]
     },
     "execution_count": 189,
     "metadata": {},
     "output_type": "execute_result"
    }
   ],
   "source": [
    "file_MR=file_tre.loc[file_tre.Relevância==0,:]\n",
    "file_R=file_tre.loc[file_tre.Relevância==1,:]\n",
    "file_N=file_tre.loc[file_tre.Relevância==2,:]\n",
    "file_IR=file_tre.loc[file_tre.Relevância==3,:]\n",
    "MR_txt= \" \".join(file_MR.Treinamento)\n",
    "R_txt= \" \".join(file_R.Treinamento)\n",
    "N_txt= \" \".join(file_N.Treinamento)\n",
    "IR_txt= \" \".join(file_IR.Treinamento)\n",
    "N_txt"
   ]
  },
  {
   "cell_type": "code",
   "execution_count": 190,
   "metadata": {},
   "outputs": [
    {
     "name": "stdout",
     "output_type": "stream",
     "text": [
      "eu não sou a pessoa que se alimenta da forma mais correta possível. mas são : e eu já vi uma menina tomando meio litro de coca cola e outra comendo um pacote de fandangos, gente?????????? : jesy contou que teve transtorno alimentar durante essa época: “eu passava fome.. eu bebia coca diet por  dias e quando eu… eu vendo a galera malhando e eu comendo um salgado do geleia e uma lata de coca-cola.... estou vivendo muito errado! domingo: preciso tomar mais água, me cuidar mais e tudo \n",
      "\n",
      "segunda h - café da manhã: um misto e uma coca :    faltou: coca-cola, santander, magazine luiza, etc  e uma coca l de garrafa pra bater no cerebro..... affffff. pequenas vitórias do dia né, hj tinha coca aq em casa e eu n tomei nem um pingo fui comprar minha coca de café encontrei a hass comprando energético tô num congresso de tecnologias semânticas e o almoço teve coca-cola em garrafa. não tem plástico! achei bem ecológico. pão de queijo de parada e coca no café\n",
      "saúde é tudo 👌 : e minha mãe reinando que eu tô tomando coca essa hora  uma coca man, a mulher não queria deixa eu entrar com coca na caneca sendo que geral tava bebendo nas canecas lá dentro, q q eu fiz? entrei pelos fundo com a caneca cheia. regras?? nao comigo amoreeee : primeiro foi o rato na coca ai agora fui abrir a lata de sardinha e tinha um peixe morto kkkkkkkkkkkkkkkkkkkkkkkkkkkkkkkkkk… quando não esquece a maionese e o ketchup agr e a coca cola 🙄 hoje to a base de coca com red bull : teve um dia que eu tomei  litros de coca cola com um amigo meu   brt ainda vem salgado com coca hoje estou marcus leão dando a coca cola quase inteira pro mendigo  alguém trás a corrente que esse vai ser o primeiro dos três trancado no porão. vai ficar só a biscoito e coca até ver dark do começo ao fim.  na madrugada era mt bom, ouvia jovem pan e a coca cola fm encerando minha semana do lixo com dogão com coca cola e brownie com sorvete acabei de derramar a coca na minha cama to indo trabalhar com uma coca na mão e com o fone bem alto andando como se não houvesse o amanhã sono vc tem q vimmm!!!\n",
      "\n",
      "ngm mandou eu tomar coca cola de noite!!!\n",
      "\n",
      "burra🤦🏻‍♀️  vc e a coca cola  quem toma coca de café tá a um passo de usa crack *faz  agachamento* nossa meninas emagreci muito hj *bebe  coca cola* : gang di boca tudo ta da mota\n",
      "guns money and drugs, snitch \n",
      "kuze ku sabi di drogas? \n",
      "putas branca sima coca\n",
      "kilos ta roda nin… quando se toma coca de café da manhã é pq o troço foi feio   e a coca do avião? : vai me engolir a seco ou quer um copinho de coca? 🤔 tenho que beber muita água isotônico coca cola gatorade água tônica água de coco essas porra toda que eu amo e bebo normalmente mas e o medo de vomitar tudo meu pai já expeli tudo que tinha pra sair eu acho  levantei pra pegar um copo de coca e n façam isso ta tudo doendo n consigo pisar o erick bicho..... a gente saiu do lab e ia pra casa dormir ele e se a gente passar na master rapidinho agora ele tá com um litro de coca e uma caneca da humanas do nada  horas da manhã e eu tomando coca  coca no teu cu jkkkkkkk são : e eu ja comi pizza, tomei coca, comi bolo do aniversário do tet, morango, biscoito e agora queijo que a brenda me deu, alguem me para  quantas milhões de festas tem por aí com openbar?????????? biiicho todo mundo tem que ter ciência do seu limite. se tu sabe que tu tá ficando loco, para, bebe água, toma uma coca. ninguém obrigou ninguém a beber absolutamente naaada. as bebidas eram servidas comendo cebolitos e tomando coca-cola às h da manhã vou começar a ler uma parada bizarra sobrenatural disk espero que seja fanta e não coca depois de ter bebido na festa do padre mercenário eu chego em casa e como um miojao com uma coca \n",
      "êdiá minha mãe: beber coca cola demais faz mal \n",
      "\n",
      "eu : da manhã virando a garrafa fazendo glub glub me engasgando c o gás e quase saindo tudo pelo nariz quem é que toma um copo de coca cola bem gelada as : d manhã? pois é, eu desde coca logo de manhã kkk eu estava dormindo, fdp da minha irmã me acordar p pegar uma merda de uma coca, vsf!!!! parece que esquece que às :h estou de pé bebendo coca as  da matina mkkkkkkk o câncer vem  eu tô num uber que tem água normal, água com gás, coca, bolacha, balinha, chiclete ventiladdorzinho, se eu não tivesse medo de comer essas coisas que uber da eu estava fazendo uma refeição assistindo grey's anatomy, com meu litro de coca cola, meu vaso de bolacha, como se não tivesse aula amanhã : ajuda ai galera, n aguento mais ver foto de coca nos stories dela  [/ :] vovó tim: tua mãe vai te dar uma coca\n",
      "[/ :] 𝕮𝖑𝖆𝖗𝖆 ☀️: lógico ne\n",
      "[/ :] 𝕮𝖑𝖆𝖗𝖆 ☀️: culpa tua\n",
      "[/ :] vovó tim: minha porquê\n",
      "[/ :] vovó tim: tu faz merda e a culpa é minha\n",
      "[/ :] 𝕮𝖑𝖆𝖗𝖆 ☀️: sim pq tu q contou kkkkkkkkk eu vô ganha uma coca dia .  vai quem tem dinheiro, vai bombar de qualquer jeito \n",
      " querian open de pastel e coca, é? \n",
      "coragem, viu? era só uma coca cola gelada queria alguém pra pegar uma coca ou mate ou terere e sentar num lugar assim meio do nada um parque um campo whatever e ficar ali só falando amenidades ou até nada\n",
      "\n",
      "mas não tenho kkkkkkk  bom dia coca : isso ñao é coca pai : . inês brasil coca-cola  nem tem gosto de coca cola  seu estômago e fígado vendo o lanche e a coca descerem  só pq eu preciso levantar cedo, tô tão acordada que parece que tomei aquela coca de café \n",
      "🤦\n",
      "quero dormir to bebendo mt coca cola pra chegar amanhã de manhã no sítio , beber muita cerveja  kkk🤦🏽‍♀️🤪 a batata agarrou na minha garganta de uma tal forma que nem a coca ajudou a descer passei no rio lanche vindo pra casa e comprei três salgados e uma coca kkkk : jesy contou que teve transtorno alimentar durante essa época: “eu passava fome.. eu bebia coca diet por  dias e quando eu… vou fazer uns nugget com batata frita e tomar com coca cola esqueci o crachá e a garrafa com coca estava furada vazando tudo pqp depois da coca cola, nike patrocinando times de e-sports :)  : da manhã e eu comendo empadão e tomando coca cola 🤦‍♀️🐳 de madrugada sem sono, so me resta comer pizza e tomar coca  da madrugada e eu tô enchendo o saco do  mandando foto de coca de café pra ele  sim gente ela boto sal na coca e me trouxe 👍🏼 tava tão loca ontem quando cheguei do rolê que enquanto tava comendo eu cochilei e virei o copo de coca todo em cima de mim kkkkkkkkkkkkkkk burra ou não hoje na aabb me barram de entrar com o meu litrão de coca, aí fui lá e coloquei um pouco de coca na caneca e deixei o litrão no carro... voltei plenamente e fui barrada de novo 😒 : suga seu gostoso delícia amo mais que chocolate e nutella amo mais que coca-cola love yuo gatinho suga   tira a coca e bota vários suco da fruta  sem álcool, diminuir cigarro, sem coca cola e rajadao de fé 🙏🏽🙏🏽👍🏼 meu estômago está com gás triste        coca cola a base de lágrimas a pessoa reclamando que a coca de l é  conto e eu:\n",
      "uma lata é  e tem ml, duas latas já é mais que o valor da garrafa e não deu nem l : as vezes no silêncio da noite, eu fico imaginando um x-tudo com uma coca cola : se deus nao existe entao quem coloca o gelo dentro das garrafas d'agua ?\n",
      "\n",
      "reino do senhor: \n",
      "ateu:   isso ñao é coca pai  faz a dieta da coca cura de ressaca tem nome e é coca-cola  beber coca p morrer mais cedo e não precisar passar por esse calor™    leia henfil na china antes da coca-cola .\n",
      "conforme o autor, o medo faz com que ele perdesse as fotos  de sua viagem.\n",
      "escreveu e publicou.\n",
      "\n",
      "eis uma das funções mais nobres destinadas aos jornalistas:\n",
      "retratar a verdade factual em vez de mentiras históricas  organizadas. eu não deveria ter comido  esfihas com coca cola ontem sobrou coca pra crl minha mãe vai se matar fi aí que belezinha, meu irmão quer ajuda pra ele passar no vestibular kkkk só se ele me pagar  coca  litros &lt; comendo chocolate e tomando coca cola enquanto na verdade eu deveria estar dormindo sou mt chantagista kkkkkkkk, meu irmão chegou pedindo pra eu jogar a chave pra ele e eu disse que ele só ia entrar em casa se trouxesse coca cola, ele voltou na rua pra comprar 🥰😍 se não voltasse ia dormir na rua 😂😂 por que será que eu não tô surpresa de ter entrado no quarto e ter um copo de coca cola onde o jhonny estava sentado??????? era só uma coca de café pra me manter de pé hj comi  pães e meio e um copão de coca nossa q sede de coca cola falei pra minha mãe q n tava me sentindo bem e a solução dela foi mandar eu tomar coca   ???? jkkdkskskkskdkdk só tenho ex modelo véi cada dia uma posta ensaio diferente alguma me paga uma coca retornável aí namoral mandei um mac e uma coca na facul ja tncc nda bom misturar coca cola com redbull tomei um copo de café + um de coca. espero que isso me mantenha acordado. : e um corpão de coca que tá acabando   eto no e coca to sentada na cozinha bebendo coca como se não tivesse que ir pra escola cheguei agora peguei um pedaço de empadão, um copo com mousse de maracujá e um copo de coca,tô amassando beber meio copp de coca não foi uma boa ideia, tá doendo pra porra e eu nem estava sentindo assim.... é o rim gritando, vou aguentar os berros, espero que ele não seja muito escandaloso opa... checando uma coca que tem na geladeira...       escolhe ai quem vai fazer o meu, pago a coca  outra coca jjhjhjj aryadne realmente foi comprar pão, mortadela, coca e paçoca pra gente comer na sala : escovei os dentes/ tomei chimarrão/ escovei os dentes/ tomei coca/ escovei os dentes eu quando deixei de pegar agua pra tomar coca com hambúrguer e batata frita\n",
      "\n",
      "ai o refluxo gritou viu  levantei meti dois pedaços de pizza e um copo de coca. nunca mais consumo coca cola, nem nenhum outro tipo de bebida que seja da marca : meu peito tá coçando alguém coça com a boca aqui   aushauahauahs amiga, maior verdade, sdds quando eu ficava beba de coca-cola contigo depois de ontem , só essa coca-cola msm 😊😛  : ela ta muito vibes paradinha e a promo da coca em   tô aqui comendo esfirra,umas mini pizzas,salgadinho e batata frita e um copão de coca,assistindo ponto cego ❤ testa falou pra eu n beber coca, vo beber coca g.g- muuito queriida e simpática, passamos fome juntas e dps aprendemos como esconder vodka na coca kkkkkkkkkz eu falando de coca-cola  : role foda com os amigos que eu gosto, a gente no cinema não tem limite, quando eu vi já tinha coca no chão pipoca voando! 😂… :  ai ai...\n",
      "esses dedos fazem mais que isso, lorde. aprecio a brincadeira, mas tomar whisky em garrafa de coca… solo fui a tomar coca cola skdkskkd  e com essa coca q eu tomei agora declaro q parei com refrigerante rebentar esse strogonoff com essa coca agora ai sla sab tomando coca cola hrs da manhã fodasse : preciso parar de tomar coca mano tomando uma coca gelada enquanto pago meus boletos que é pra não sentir tanto o impacto da tristeza  acho que a loirinha me achou bonito  duas coca só se for kkkkk  eto no e coca papi café da manhã c empada e coca segundei livia voce quer morrer? não óbvio que não\n",
      "lívia seis horas da manhã: a viu comer coxinha do ragazzo e tomar coca  o bombero podia me mandar uma coca zero pavê, e coca, esse foi meu café da manhã.🤣🤣🤦🏿‍♀️ to com preguiça de descer pra ir lá na cozinha pega um copo de coca eu levando torta pra mi e ela falou que ta levando coca pra mim... eu bebendo coca as  da manhã não adianta toda segunda antes de eu ir trabalhar é certo toma um copão de coca-cola 😂😂🤦🏽‍♂️ chegar na central vou tomar aquela coca bem gelada pq ontem desceu gelo kkkk  rodízio de mexicana com coca ok? são : da manhã e eu to aqui sedentíssima por uma coca-cola professor ficou zoando pq eu to as vera comendo uma esfiha c limãozinho e uma coca as  e pouca da manhã kkkkkkkkk   já bota a coca pra gelar eu falei que ontem ia ficar na coca, mas meus amigos inventaram de pegar uma vodka e uma jack fui beber uma coca e me deparei com  litrão de brahma na geladeira na coroa 😭  essa turma tá em polvorosa,  as últimas apreensões feitas pela pf elevaram às alturas os preços da coca meu café da manhã foi pastel com coca h da manhã é pão de frios e coca no trampo, amém ❤️ dieta do dia: basês, coca cola e rivotril.  vc nao bebeu vodka com eles \n",
      "bebeu coca ???????????????? comi coxinha, bebi coca, to vendo elite. devia ter feito isso desde sexta ao invés de ir procrastinar no feriado são : da manhã e eu já estou tomando coca cola meu café hoje foi: um misto quente + coxinha + coca pprt q o vei passou  meses sem beber coca e voltou com gosto se gás pq rapaz to viciado pouco dia // as : tikin disse que vai pegar a tal menina antes do dia //,se ele não pegar ele vai me pagar uma coca,vamos ver no que dá. perde essa barriga de batata frita com coca cola ontem td mundo bebendo e eu com uma garrafa de água e com um copão de coca hahahahahaha tomando coca no café da manhã, caba não mundão :  incrível cr salvar a coca ninguém quer kkkkkkk nossa o mlk tomando coca essas hr...\n",
      "\n",
      "n sinto sdd dessa minha época pqp  conto a coca l  ainda não me recuperei desse fds, parece que ontem à onda veio c tudo iikkk e olha que só fiquei na coca ganhei um batom sabor coca cola👌👌 bebendo coca a essa hr da manhã, ta tudo certo coca brahma água hrs da manhã e eu virando a garrafa de coca cola eu não deveria ter comido torrada com coca no café da manhã não bebi nada, mas o suficiente pra derramar toda a minha coca no resto dr pizza que sobrou odeio associar minha fome com o meu signo\n",
      "mas eu tô com:\n",
      "um pão com queijo e presunto\n",
      "wafer\n",
      "bolacha recheada\n",
      "sucrilhos\n",
      "barra de cereal\n",
      "chocolate\n",
      "uma garrafa de água e a outra de coca\n",
      "tudo no meu quarto\n",
      "é maravilhoso ser taurina era so uma coca bem gelada ...  um copo de coca equivale a  cigarros. pense nisso  pepsi só tem ,\n",
      "coca que é  litros certinhos eto no e coca papi eu não quero criar polêmicas, mas nescau é melhor que toddy, coca é melhor que pepsi, dragon ball é melhor que naruto, star wars é melhor que star trek, house é melhor que grays anatomy, \n",
      " pizza é melhor que esfiha e a marvel é melhor que a dc.\n",
      "\n",
      "esqueci de algum? diva, benz , coca boy, aye e outras vc não vão entender nunca pqp : jesy contou que teve transtorno alimentar durante essa época: “eu passava fome.. eu bebia coca diet por  dias e quando eu… ainnn cara beta colocou lá os salgados que tem hoje, sai correndo do grupo, que tentação... chegar no trabalho tá geral comendo hambúrguer c uma coca geladinha, e eu vou comer iogurte c chia e pão integral c queijo minas... 😢  é só tinha uma coca tomei um banho, tomei um copo de coca e tô deitadinha pra mim a pessoa q toma coca cola com  pão de queijo as  da manhã ela ja perdeu toda esperança na vida dela preciso tomar um coca vou lá em  baixo compra uma coca kkj queria só  litro de coca cola :( primeiro dia de trabalho e minha chefe compra todinho, coca, bolachas pra mim ♥️🙏🏻😂 tomando aql coca na praça com o parceiro vou pra praia diferenciado, com o pé havaianas e correia da coca cola, vagabundo é foda, minha sandália novinha 😤 tinha que ter um estúdio coca-cola pra alguém financiar um disco colaborativo das banda mais nervosa do brasil : queria tá indo comprar coca p almoçar na sogra  bão hein ja da p comprar uma coca p nois hj o uber que me deixou em casa, foi um senhor que pagou uma coca cola pra me tranquilizar quando fui assaltado com a minha mãe a quase  anos atrás. lembrei das feições dele e não tive nem coragem de pegar o troco pela corrida.\n",
      "faça o bem e ele voltará a ti, independente do tempo. caraio os aluno trouxeram cachorro quente e coca pra aula e eu n posso nem beber água   coca cola também tá me ajudando muito, não sei pq tenho a sensação que quando eu tomo refrigerante melhora e limão também \n",
      "mas comida tá difícil, tudo que eu como me dá vontade de vomitar :( \n",
      "já emagreci  kg só sei q os pia são uns apegam n quisero da  centavos pra ajuda paga a coca kkkkkk acho mto chique quem consegue programar  atividades pro dia além das obrigações rotineiras. eu consigo no maximo passar no posto pegar uma coca cola fora da minha rotina se nao eu ja me perco toda : preciso parar de tomar coca mano :  vender coca, bala e aguaaaaa kkkk bom dia meu mano. da um beijo na princesa😍😍 : começar a beber é  litro de coca por dia  preciso parar de tomar coca  tá valendo uma coca  vou comprar coca cola para ti pá tens que vir 🤣🤣\n"
     ]
    }
   ],
   "source": [
    "N_txt = rtcleaner(N_txt)\n",
    "print(N_txt)"
   ]
  },
  {
   "cell_type": "code",
   "execution_count": 191,
   "metadata": {},
   "outputs": [
    {
     "data": {
      "text/plain": [
       "\"eu nao sou a pessoa que se alimenta da forma mais correta possível. mas saoe eu já vi uma menina tomando meio litro de coca cola e outra comendo um pacote de fandangos gente jesy contou que teve transtorno alimentar durante essa epoca  eu passava fome  eu bebia coca diet por  dias e quando eu eu vendo a galera malhando e eu comendo um salgado do geleia e uma lata de coca-cola   estou vivendo muito errado  domingo  preciso tomar mais água me cuidar mais e tudosegunda h cafe da manha  um misto e uma cocafaltou  coca-cola santander magazine luiza etc  e uma coca l de garrafa pra bater no cerebro  . affffff. pequenas vitórias do dia ne hj tinha coca aq em casa e eu n tomei nem um pingo fui comprar minha coca de cafe encontrei a hass comprando energetico to num congresso de tecnologias semanticas e o almoco teve coca-cola em garrafa. nao tem plástico  achei bem ecológico. pao de queijo de parada e coca no cafe saúde e tudo 👌e minha mae reinando que eu to tomando coca essa hora  uma coca man a mulher nao queria deixa eu entrar com coca na caneca sendo que geral tava bebendo nas canecas lá dentro q q eu fiz  entrei pelos fundo com a caneca cheia. regrasnao comigo amoreeeeprimeiro foi o rato na coca ai agora fui abrir a lata de sardinha e tinha um peixe morto kkkkkkkkkkkkkkkkkkkkkkkkkkkkkkkkkk quando nao esquece a maionese e o ketchup agr e a coca cola 🙄 hoje to a base de coca com red bullteve um dia que eu tomei  litros de coca cola com um amigo meubrt ainda vem salgado com coca hoje estou marcus leao dando a coca cola quase inteira pro mendigo  alguem trás a corrente que esse vai ser o primeiro dos tres trancado no porao. vai ficar só a biscoito e coca ate ver dark do comeco ao fim.  na madrugada era mt bom ouvia jovem pan e a coca cola fm encerando minha semana do lixo com dogao com coca cola e brownie com sorvete acabei de derramar a coca na minha cama to indo trabalhar com uma coca na mao e com o fone bem alto andando como se nao houvesse o amanha sono vc tem q vimmm  ngm mandou eu tomar coca cola de noite  burra🤦🏻\\u200d♀️  vc e a coca cola  quem toma coca de cafe tá a um passo de usa crack faz  agachamento nossa meninas emagreci muito hj bebe  coca colagang di boca tudo ta da mota guns money and drugs snitch  kuze ku sabi di drogasputas branca sima coca kilos ta roda nin quando se toma coca de cafe da manha e pq o troco foi feioe a coca do aviao vai me engolir a seco ou quer um copinho de coca  🤔 tenho que beber muita água isotonico coca cola gatorade água tonica água de coco essas porra toda que eu amo e bebo normalmente mas e o medo de vomitar tudo meu pai já expeli tudo que tinha pra sair eu acho  levantei pra pegar um copo de coca e n facam isso ta tudo doendo n consigo pisar o erick bicho  . a gente saiu do lab e ia pra casa dormir ele e se a gente passar na master rapidinho agora ele tá com um litro de coca e uma caneca da humanas do nada  horas da manha e eu tomando coca  coca no teu cu jkkkkkkk saoe eu ja comi pizza tomei coca comi bolo do aniversário do tet morango biscoito e agora queijo que a brenda me deu alguem me para  quantas milhoes de festas tem por aí com openbar  biiicho todo mundo tem que ter ciencia do seu limite. se tu sabe que tu tá ficando loco para bebe água toma uma coca. ninguem obrigou ninguem a beber absolutamente naaada. as bebidas eram servidas comendo cebolitos e tomando coca-cola as h da manha vou comecar a ler uma parada bizarra sobrenatural disk espero que seja fanta e nao coca depois de ter bebido na festa do padre mercenário eu chego em casa e como um miojao com uma coca  ediá minha mae  beber coca cola demais faz maleuda manha virando a garrafa fazendo glub glub me engasgando c o gás e quase saindo tudo pelo nariz quem e que toma um copo de coca cola bem gelada asd manha  pois e eu desde coca logo de manha kkk eu estava dormindo fdp da minha irma me acordar p pegar uma merda de uma coca vsf  parece que esquece que as  h estou de pe bebendo coca as  da matina mkkkkkkk o cancer vem  eu to num uber que tem água normal água com gás coca bolacha balinha chiclete ventiladdorzinho se eu nao tivesse medo de comer essas coisas que uber da eu estava fazendo uma refeicao assistindo grey's anatomy com meu litro de coca cola meu vaso de bolacha como se nao tivesse aula amanhaajuda ai galera n aguento mais ver foto de coca nos stories dela  vovó tim  tua mae vai te dar uma coca 𝕮𝖑𝖆𝖗𝖆 ☀️  lógico ne 𝕮𝖑𝖆𝖗𝖆 ☀️  culpa tua vovó tim  minha porque vovó tim  tu faz merda e a culpa e minha 𝕮𝖑𝖆𝖗𝖆 ☀️  sim pq tu q contou kkkkkkkkk eu vo ganha uma coca dia  vai quem tem dinheiro vai bombar de qualquer jeitoquerian open de pastel e coca ecoragem viu  era só uma coca cola gelada queria alguem pra pegar uma coca ou mate ou terere e sentar num lugar assim meio do nada um parque um campo whatever e ficar ali só falando amenidades ou ate nada  mas nao tenho kkkkkkk  bom dia cocaisso ñao e coca paiines brasil coca-cola  nem tem gosto de coca cola  seu estomago e fígado vendo o lanche e a coca descerem  só pq eu preciso levantar cedo to tao acordada que parece que tomei aquela coca de cafe  🤦 quero dormir to bebendo mt coca cola pra chegar amanha de manha no sítio  beber muita cerveja  kkk🤦🏽\\u200d♀️🤪 a batata agarrou na minha garganta de uma tal forma que nem a coca ajudou a descer passei no rio lanche vindo pra casa e comprei tres salgados e uma coca kkkkjesy contou que teve transtorno alimentar durante essa epoca  eu passava fome  eu bebia coca diet por  dias e quando eu vou fazer uns nugget com batata frita e tomar com coca cola esqueci o crachá e a garrafa com coca estava furada vazando tudo pqp depois da coca cola nike patrocinando times de e-sports   da manha e eu comendo empadao e tomando coca cola 🤦\\u200d♀️🐳 de madrugada sem sono so me resta comer pizza e tomar coca  da madrugada e eu to enchendo o saco do  mandando foto de coca de cafe pra ele  sim gente ela boto sal na coca e me trouxe 👍🏼 tava tao loca ontem quando cheguei do role que enquanto tava comendo eu cochilei e virei o copo de coca todo em cima de mim kkkkkkkkkkkkkkk burra ou nao hoje na aabb me barram de entrar com o meu litrao de coca aí fui lá e coloquei um pouco de coca na caneca e deixei o litrao no carro . voltei plenamente e fui barrada de novo 😒suga seu gostoso delícia amo mais que chocolate e nutella amo mais que coca-cola love yuo gatinho sugatira a coca e bota vários suco da fruta  sem álcool diminuir cigarro sem coca cola e rajadao de fe 🙏🏽🙏🏽👍🏼 meu estomago está com gás triste  coca cola a base de lágrimas a pessoa reclamando que a coca de l e  conto e eu  uma lata e  e tem ml duas latas já e mais que o valor da garrafa e nao deu nem las vezes no silencio da noite eu fico imaginando um x-tudo com uma coca colase deus nao existe entao quem coloca o gelo dentro das garrafas d'agua reino do senhorateu isso ñao e coca pai  faz a dieta da coca cura de ressaca tem nome e e coca-cola  beber coca p morrer mais cedo e nao precisar passar por esse calor™ leia henfil na china antes da coca-cola conforme o autor o medo faz com que ele perdesse as fotos  de sua viagem. escreveu e publicou.  eis uma das funcoes mais nobres destinadas aos jornalistas  retratar a verdade factual em vez de mentiras históricas  organizadas. eu nao deveria ter comido  esfihas com coca cola ontem sobrou coca pra crl minha mae vai se matar fi aí que belezinha meu irmao quer ajuda pra ele passar no vestibular kkkk só se ele me pagar  coca  litros &lt  comendo chocolate e tomando coca cola enquanto na verdade eu deveria estar dormindo sou mt chantagista kkkkkkkk meu irmao chegou pedindo pra eu jogar a chave pra ele e eu disse que ele só ia entrar em casa se trouxesse coca cola ele voltou na rua pra comprar 🥰😍 se nao voltasse ia dormir na rua 😂😂 por que será que eu nao to surpresa de ter entrado no quarto e ter um copo de coca cola onde o jhonny estava sentado  era só uma coca de cafe pra me manter de pe hj comi  paes e meio e um copao de coca nossa q sede de coca cola falei pra minha mae q n tava me sentindo bem e a solucao dela foi mandar eu tomar coca  jkkdkskskkskdkdk só tenho ex modelo vei cada dia uma posta ensaio diferente alguma me paga uma coca retornável aí namoral mandei um mac e uma coca na facul ja tncc nda bom misturar coca cola com redbull tomei um copo de cafe + um de coca. espero que isso me mantenha acordado.e um corpao de coca que tá acabandoeto no e coca to sentada na cozinha bebendo coca como se nao tivesse que ir pra escola cheguei agora peguei um pedaco de empadao um copo com mousse de maracujá e um copo de cocato amassando beber meio copp de coca nao foi uma boa ideia tá doendo pra porra e eu nem estava sentindo assim   e o rim gritando vou aguentar os berros espero que ele nao seja muito escandaloso opa . checando uma coca que tem na geladeira . escolhe ai quem vai fazer o meu pago a coca  outra coca jjhjhjj aryadne realmente foi comprar pao mortadela coca e pacoca pra gente comer na salaescovei os dentes  tomei chimarrao  escovei os dentes  tomei coca  escovei os dentes eu quando deixei de pegar agua pra tomar coca com hambúrguer e batata frita  ai o refluxo gritou viu  levantei meti dois pedacos de pizza e um copo de coca. nunca mais consumo coca cola nem nenhum outro tipo de bebida que seja da marcameu peito tá cocando alguem coca com a boca aquiaushauahauahs amiga maior verdade sdds quando eu ficava beba de coca-cola contigo depois de ontem  só essa coca-cola msm 😊😛 ela ta muito vibes paradinha e a promo da coca emto aqui comendo esfirraumas mini pizzassalgadinho e batata frita e um copao de cocaassistindo ponto cego ❤ testa falou pra eu n beber coca vo beber coca g.g- muuito queriida e simpática passamos fome juntas e dps aprendemos como esconder vodka na coca kkkkkkkkkz eu falando de coca-cola role foda com os amigos que eu gosto a gente no cinema nao tem limite quando eu vi já tinha coca no chao pipoca voando  😂 ai ai . esses dedos fazem mais que isso lorde. aprecio a brincadeira mas tomar whisky em garrafa de coca solo fui a tomar coca cola skdkskkd  e com essa coca q eu tomei agora declaro q parei com refrigerante rebentar esse strogonoff com essa coca agora ai sla sab tomando coca cola hrs da manha fodassepreciso parar de tomar coca mano tomando uma coca gelada enquanto pago meus boletos que e pra nao sentir tanto o impacto da tristeza  acho que a loirinha me achou bonito  duas coca só se for kkkkk  eto no e coca papi cafe da manha c empada e coca segundei livia voce quer morrer  nao óbvio que nao lívia seis horas da manha  a viu comer coxinha do ragazzo e tomar coca  o bombero podia me mandar uma coca zero pave e coca esse foi meu cafe da manha.🤣🤣🤦🏿\\u200d♀️ to com preguica de descer pra ir lá na cozinha pega um copo de coca eu levando torta pra mi e ela falou que ta levando coca pra mim . eu bebendo coca as  da manha nao adianta toda segunda antes de eu ir trabalhar e certo toma um copao de coca-cola 😂😂🤦🏽\\u200d♂️ chegar na central vou tomar aquela coca bem gelada pq ontem desceu gelo kkkk  rodízio de mexicana com coca ok  saoda manha e eu to aqui sedentíssima por uma coca-cola professor ficou zoando pq eu to as vera comendo uma esfiha c limaozinho e uma coca as  e pouca da manha kkkkkkkkkjá bota a coca pra gelar eu falei que ontem ia ficar na coca mas meus amigos inventaram de pegar uma vodka e uma jack fui beber uma coca e me deparei com  litrao de brahma na geladeira na coroa 😭  essa turma tá em polvorosa  as últimas apreensoes feitas pela pf elevaram as alturas os precos da coca meu cafe da manha foi pastel com coca h da manha e pao de frios e coca no trampo amem ❤️ dieta do dia  bases coca cola e rivotril.  vc nao bebeu vodka com eles  bebeu cocacomi coxinha bebi coca to vendo elite. devia ter feito isso desde sexta ao inves de ir procrastinar no feriado saoda manha e eu já estou tomando coca cola meu cafe hoje foi  um misto quente + coxinha + coca pprt q o vei passou  meses sem beber coca e voltou com gosto se gás pq rapaz to viciado pouco dia astikin disse que vai pegar a tal menina antes do diase ele nao pegar ele vai me pagar uma cocavamos ver no que dá. perde essa barriga de batata frita com coca cola ontem td mundo bebendo e eu com uma garrafa de água e com um copao de coca hahahahahaha tomando coca no cafe da manha caba nao mundao incrível cr salvar a coca ninguem quer kkkkkkk nossa o mlk tomando coca essas hr .  n sinto sdd dessa minha epoca pqp  conto a coca l  ainda nao me recuperei desse fds parece que ontem a onda veio c tudo iikkk e olha que só fiquei na coca ganhei um batom sabor coca cola👌👌 bebendo coca a essa hr da manha ta tudo certo coca brahma água hrs da manha e eu virando a garrafa de coca cola eu nao deveria ter comido torrada com coca no cafe da manha nao bebi nada mas o suficiente pra derramar toda a minha coca no resto dr pizza que sobrou odeio associar minha fome com o meu signo mas eu to com  um pao com queijo e presunto wafer bolacha recheada sucrilhos barra de cereal chocolate uma garrafa de água e a outra de coca tudo no meu quarto e maravilhoso ser taurina era so uma coca bem gelada  .  um copo de coca equivale a  cigarros. pense nisso  pepsi só tem  coca que e  litros certinhos eto no e coca papi eu nao quero criar polemicas mas nescau e melhor que toddy coca e melhor que pepsi dragon ball e melhor que naruto star wars e melhor que star trek house e melhor que grays anatomypizza e melhor que esfiha e a marvel e melhor que a dc.  esqueci de algum  diva benz  coca boy aye e outras vc nao vao entender nunca pqpjesy contou que teve transtorno alimentar durante essa epoca  eu passava fome  eu bebia coca diet por  dias e quando eu ainnn cara beta colocou lá os salgados que tem hoje sai correndo do grupo que tentacao . chegar no trabalho tá geral comendo hambúrguer c uma coca geladinha e eu vou comer iogurte c chia e pao integral c queijo minas . 😢  e só tinha uma coca tomei um banho tomei um copo de coca e to deitadinha pra mim a pessoa q toma coca cola com  pao de queijo as  da manha ela ja perdeu toda esperanca na vida dela preciso tomar um coca vou lá em  baixo compra uma coca kkj queria só  litro de coca cola  ( primeiro dia de trabalho e minha chefe compra todinho coca bolachas pra mim ♥️🙏🏻😂 tomando aql coca na praca com o parceiro vou pra praia diferenciado com o pe havaianas e correia da coca cola vagabundo e foda minha sandália novinha 😤 tinha que ter um estúdio coca-cola pra alguem financiar um disco colaborativo das banda mais nervosa do brasilqueria tá indo comprar coca p almocar na sogra  bao hein ja da p comprar uma coca p nois hj o uber que me deixou em casa foi um senhor que pagou uma coca cola pra me tranquilizar quando fui assaltado com a minha mae a quase  anos atrás. lembrei das feicoes dele e nao tive nem coragem de pegar o troco pela corrida. faca o bem e ele voltará a ti independente do tempo. caraio os aluno trouxeram cachorro quente e coca pra aula e eu n posso nem beber águacoca cola tambem tá me ajudando muito nao sei pq tenho a sensacao que quando eu tomo refrigerante melhora e limao tambem  mas comida tá difícil tudo que eu como me dá vontade de vomitar  (  já emagreci  kg só sei q os pia sao uns apegam n quisero da  centavos pra ajuda paga a coca kkkkkk acho mto chique quem consegue programar  atividades pro dia alem das obrigacoes rotineiras. eu consigo no maximo passar no posto pegar uma coca cola fora da minha rotina se nao eu ja me perco todapreciso parar de tomar coca mano vender coca bala e aguaaaaa kkkk bom dia meu mano. da um beijo na princesa😍😍comecar a beber e  litro de coca por dia  preciso parar de tomar coca  tá valendo uma coca  vou comprar coca cola para ti pá tens que vir 🤣🤣\""
      ]
     },
     "execution_count": 191,
     "metadata": {},
     "output_type": "execute_result"
    }
   ],
   "source": [
    "N_txt = cleanup(N_txt)\n",
    "N_txt"
   ]
  },
  {
   "cell_type": "markdown",
   "metadata": {},
   "source": [
    "___\n",
    "### Montando o Classificador Naive-Bayes\n",
    "\n",
    "Considerando apenas as mensagens da planilha Treinamento, ensine  seu classificador."
   ]
  },
  {
   "cell_type": "code",
   "execution_count": 192,
   "metadata": {},
   "outputs": [],
   "source": [
    "serie_MR = pd.Series(MR_txt.split())\n",
    "serie_R = pd.Series(R_txt.split())\n",
    "serie_N = pd.Series(N_txt.split())\n",
    "serie_IR = pd.Series(IR_txt.split())"
   ]
  },
  {
   "cell_type": "code",
   "execution_count": 193,
   "metadata": {},
   "outputs": [],
   "source": [
    "tabela_MR = serie_MR.value_counts()\n",
    "tabela_R = serie_R.value_counts()\n",
    "tabela_N = serie_N.value_counts()\n",
    "tabela_IR = serie_IR.value_counts()"
   ]
  },
  {
   "cell_type": "code",
   "execution_count": 194,
   "metadata": {},
   "outputs": [],
   "source": [
    "tabela_relativa_MR = serie_MR.value_counts(True)\n",
    "tabela_relativa_R = serie_R.value_counts(True)\n",
    "tabela_relativa_N = serie_N.value_counts(True)\n",
    "tabela_relativa_IR = serie_IR.value_counts(True)"
   ]
  },
  {
   "cell_type": "code",
   "execution_count": 195,
   "metadata": {},
   "outputs": [],
   "source": [
    "item_MR = tabela_MR[1]\n",
    "item_R = tabela_R[1]\n",
    "item_N = tabela_N[1]\n",
    "item_IR = tabela_IR[1]"
   ]
  },
  {
   "cell_type": "code",
   "execution_count": 196,
   "metadata": {},
   "outputs": [
    {
     "name": "stdout",
     "output_type": "stream",
     "text": [
      "[0.00011304051753489955, 9.065726517250061e-05, 8.515122773738013e-05, 7.83368484483278e-05]\n"
     ]
    }
   ],
   "source": [
    "def probPalavra(palavra):\n",
    "    if palavra in tabela_MR:\n",
    "        a = tabela_MR[palavra]\n",
    "    else:\n",
    "        a = 0\n",
    "    if palavra in tabela_R:\n",
    "        b = tabela_R[palavra]\n",
    "    else:\n",
    "        b = 0\n",
    "    if palavra in tabela_N:\n",
    "        c = tabela_N[palavra]\n",
    "    else:\n",
    "        c = 0\n",
    "    if palavra in tabela_IR:\n",
    "        d = tabela_IR[palavra]\n",
    "    else:\n",
    "        d = 0\n",
    "    probabilidade_MR = ((a+1)/(len(serie_MR)+item_MR))*prob_MR\n",
    "    probabilidade_R = ((b+1)/(len(serie_R)+item_R))*prob_R\n",
    "    probabilidade_N = ((c+1)/(len(serie_N)+item_N))*prob_N\n",
    "    probabilidade_IR = ((d+1)/(len(serie_IR)+item_IR))*prob_IR\n",
    "    \n",
    "    return [probabilidade_MR,probabilidade_R,probabilidade_N,probabilidade_IR]\n",
    "        \n",
    "print(probPalavra(\"amazonia\"))"
   ]
  },
  {
   "cell_type": "code",
   "execution_count": 197,
   "metadata": {},
   "outputs": [
    {
     "name": "stdout",
     "output_type": "stream",
     "text": [
      "4\n"
     ]
    }
   ],
   "source": [
    "def probFrase(frase):\n",
    "    f = str(frase.lower())\n",
    "    f = cleanup(f)\n",
    "    coef_MR = 1\n",
    "    coef_R = 1\n",
    "    coef_N = 1\n",
    "    coef_IR = 1\n",
    "    \n",
    "    for e in f:\n",
    "        coef_MR *= probPalavra(e)[0]\n",
    "        coef_R *= probPalavra(e)[1]\n",
    "        coef_N *= probPalavra(e)[2]\n",
    "        coef_IR *= probPalavra(e)[3]\n",
    "    if coef_MR>coef_R and coef_MR>coef_N and coef_MR>coef_IR:\n",
    "        return 1\n",
    "        \n",
    "    elif coef_R>coef_MR and coef_R>coef_N and coef_R>coef_IR:\n",
    "        return 2\n",
    "            \n",
    "    elif coef_N>coef_MR and coef_N>coef_R and coef_N>coef_IR:\n",
    "        return 3\n",
    "    \n",
    "    else:\n",
    "        return 4\n",
    "        \n",
    "    \n",
    "    \n",
    "    \n",
    "    \n",
    "#print(probFrase(\"eu quero uma coca gelada\"))\n",
    "print(probFrase(\"amazonia\"))"
   ]
  },
  {
   "cell_type": "code",
   "execution_count": 198,
   "metadata": {},
   "outputs": [
    {
     "ename": "SyntaxError",
     "evalue": "invalid syntax (<ipython-input-198-fdbf2d73be88>, line 11)",
     "output_type": "error",
     "traceback": [
      "\u001b[1;36m  File \u001b[1;32m\"<ipython-input-198-fdbf2d73be88>\"\u001b[1;36m, line \u001b[1;32m11\u001b[0m\n\u001b[1;33m    MR*=\u001b[0m\n\u001b[1;37m        ^\u001b[0m\n\u001b[1;31mSyntaxError\u001b[0m\u001b[1;31m:\u001b[0m invalid syntax\n"
     ]
    }
   ],
   "source": [
    "def classifica(df,prob_MR,prob_R,prob_N,prob_IR):\n",
    "\n",
    "    for linha in df :\n",
    "        twett=df.loc[df.Teste,linha]\n",
    "        twett=twett.str.split(\" \")\n",
    "        MR=1\n",
    "        R=1\n",
    "        N=1\n",
    "        IR=1\n",
    "        for p in twett:\n",
    "            MR*=\n",
    "            R*=\n",
    "            N*=\n",
    "            IR*=\n",
    "        MR*=prob_MR\n",
    "        R*=prob_R\n",
    "        N*=prob_N\n",
    "        IR*=prob_IR\n",
    "        if MR>R and MR>N and MR>IR:\n",
    "        \n",
    "        elif R>MR and R>N and R>IR:\n",
    "            \n",
    "        elif N>MR and N>R and N>IR:\n",
    "            \n",
    "        elif IR>MR and IR>R and IR>N:\n",
    "        \n",
    "        if coef_MR>=coef_R and coef_MR>=coef_N and coef_MR>=coef_IR:\n",
    "        return 1\n",
    "        \n",
    "    elif coef_R>=coef_MR and coef_R>=coef_N and coef_R>=coef_IR:\n",
    "        return 2\n",
    "            \n",
    "    elif coef_N>=coef_MR and coef_N>=coef_R and coef_N>=coef_IR:\n",
    "        return 3\n",
    "    \n",
    "    else:\n",
    "        return 4\n",
    "    \n",
    "    "
   ]
  },
  {
   "cell_type": "code",
   "execution_count": null,
   "metadata": {},
   "outputs": [],
   "source": []
  },
  {
   "cell_type": "markdown",
   "metadata": {},
   "source": [
    "___\n",
    "### Verificando a performance\n",
    "\n",
    "Agora você deve testar o seu classificador com a base de Testes."
   ]
  },
  {
   "cell_type": "code",
   "execution_count": null,
   "metadata": {},
   "outputs": [],
   "source": []
  },
  {
   "cell_type": "code",
   "execution_count": null,
   "metadata": {},
   "outputs": [],
   "source": []
  },
  {
   "cell_type": "code",
   "execution_count": null,
   "metadata": {},
   "outputs": [],
   "source": []
  },
  {
   "cell_type": "markdown",
   "metadata": {},
   "source": [
    "___\n",
    "### Concluindo"
   ]
  },
  {
   "cell_type": "code",
   "execution_count": null,
   "metadata": {},
   "outputs": [],
   "source": []
  },
  {
   "cell_type": "code",
   "execution_count": null,
   "metadata": {},
   "outputs": [],
   "source": []
  },
  {
   "cell_type": "markdown",
   "metadata": {},
   "source": [
    "## Aperfeiçoamento:\n",
    "\n",
    "Os trabalhos vão evoluir em conceito dependendo da quantidade de itens avançados:\n",
    "\n",
    "* Limpar: \\n, :, \", ', (, ), etc SEM remover emojis (*feito*)\n",
    "* Corrigir separação de espaços entre palavras e emojis ou emojis e emojis\n",
    "* Propor outras limpezas e transformações que não afetem a qualidade da informação ou classificação\n",
    "* Criar categorias intermediárias de relevância baseadas na probabilidade: ex.: muito relevante, relevante, neutro, irrelevante, muito irrelevante (3 categorias: C, mais categorias conta para B)\n",
    "* Explicar por que não posso usar o próprio classificador para gerar mais amostras de treinamento\n",
    "* Propor diferentes cenários para Naïve Bayes fora do contexto do projeto\n",
    "* Sugerir e explicar melhorias reais com indicações concretas de como implementar (indicar como fazer e indicar material de pesquisa)\n",
    "* Montar um dashboard que periodicamente realiza análise de sentimento e visualiza estes dados"
   ]
  },
  {
   "cell_type": "markdown",
   "metadata": {},
   "source": [
    "# Referências"
   ]
  },
  {
   "cell_type": "markdown",
   "metadata": {},
   "source": [
    "[Naive Bayes and Text Classification](https://arxiv.org/pdf/1410.5329.pdf)  **Mais completo**\n",
    "\n",
    "[A practical explanation of a Naive Bayes Classifier](https://monkeylearn.com/blog/practical-explanation-naive-bayes-classifier/) **Mais simples**"
   ]
  },
  {
   "cell_type": "code",
   "execution_count": null,
   "metadata": {},
   "outputs": [],
   "source": []
  }
 ],
 "metadata": {
  "kernelspec": {
   "display_name": "Python 3",
   "language": "python",
   "name": "python3"
  },
  "language_info": {
   "codemirror_mode": {
    "name": "ipython",
    "version": 3
   },
   "file_extension": ".py",
   "mimetype": "text/x-python",
   "name": "python",
   "nbconvert_exporter": "python",
   "pygments_lexer": "ipython3",
   "version": "3.7.3"
  }
 },
 "nbformat": 4,
 "nbformat_minor": 4
}
