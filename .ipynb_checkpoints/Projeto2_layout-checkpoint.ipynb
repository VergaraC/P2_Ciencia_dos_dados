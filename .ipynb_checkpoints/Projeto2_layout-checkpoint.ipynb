{
 "cells": [
  {
   "cell_type": "markdown",
   "metadata": {},
   "source": [
    "# Projeto 2 - Ciência dos Dados"
   ]
  },
  {
   "cell_type": "markdown",
   "metadata": {},
   "source": [
    "Nome: Henrique Mualem Marti\n",
    "\n",
    "Nome: Victor Vergara\n",
    "\n",
    "Nome: Edgard Neto"
   ]
  },
  {
   "cell_type": "markdown",
   "metadata": {},
   "source": [
    "Serão permitidos grupos de três pessoas, mas com uma rubrica mais exigente. Grupos deste tamanho precisarão fazer um questionário de avaliação de trabalho em equipe"
   ]
  },
  {
   "cell_type": "markdown",
   "metadata": {},
   "source": [
    "___\n",
    "# Classificador automático de sentimento\n"
   ]
  },
  {
   "cell_type": "markdown",
   "metadata": {},
   "source": [
    "## Preparando o ambiente no jupyter:"
   ]
  },
  {
   "cell_type": "code",
   "execution_count": 2,
   "metadata": {},
   "outputs": [],
   "source": [
    "%%capture\n",
    "\n",
    "#Instalando o tweepy\n",
    "!pip install tweepy"
   ]
  },
  {
   "cell_type": "code",
   "execution_count": 71,
   "metadata": {
    "jupyter": {
     "outputs_hidden": true
    }
   },
   "outputs": [],
   "source": [
    "import tweepy\n",
    "import math\n",
    "import os.path\n",
    "import pandas as pd\n",
    "import json\n",
    "import re\n",
    "import string\n",
    "from random import shuffle"
   ]
  },
  {
   "cell_type": "markdown",
   "metadata": {},
   "source": [
    "___\n",
    "## Autenticando no  Twitter\n",
    "\n",
    "* Conta: ***[Preencha aqui o id da sua conta. Ex: @fulano ]***"
   ]
  },
  {
   "cell_type": "code",
   "execution_count": 7,
   "metadata": {
    "jupyter": {
     "outputs_hidden": true
    }
   },
   "outputs": [
    {
     "ename": "FileNotFoundError",
     "evalue": "[Errno 2] No such file or directory: 'auth.pass.json'",
     "output_type": "error",
     "traceback": [
      "\u001b[1;31m---------------------------------------------------------------------------\u001b[0m",
      "\u001b[1;31mFileNotFoundError\u001b[0m                         Traceback (most recent call last)",
      "\u001b[1;32m<ipython-input-7-df5e52a46f43>\u001b[0m in \u001b[0;36m<module>\u001b[1;34m\u001b[0m\n\u001b[0;32m      4\u001b[0m \u001b[1;33m\u001b[0m\u001b[0m\n\u001b[0;32m      5\u001b[0m \u001b[1;31m#leitura do arquivo no formato JSON\u001b[0m\u001b[1;33m\u001b[0m\u001b[1;33m\u001b[0m\u001b[1;33m\u001b[0m\u001b[0m\n\u001b[1;32m----> 6\u001b[1;33m \u001b[1;32mwith\u001b[0m \u001b[0mopen\u001b[0m\u001b[1;33m(\u001b[0m\u001b[1;34m'auth.pass.json'\u001b[0m\u001b[1;33m)\u001b[0m \u001b[1;32mas\u001b[0m \u001b[0mfp\u001b[0m\u001b[1;33m:\u001b[0m\u001b[1;33m\u001b[0m\u001b[1;33m\u001b[0m\u001b[0m\n\u001b[0m\u001b[0;32m      7\u001b[0m     \u001b[0mdata\u001b[0m \u001b[1;33m=\u001b[0m \u001b[0mjson\u001b[0m\u001b[1;33m.\u001b[0m\u001b[0mload\u001b[0m\u001b[1;33m(\u001b[0m\u001b[0mfp\u001b[0m\u001b[1;33m)\u001b[0m\u001b[1;33m\u001b[0m\u001b[1;33m\u001b[0m\u001b[0m\n\u001b[0;32m      8\u001b[0m \u001b[1;33m\u001b[0m\u001b[0m\n",
      "\u001b[1;31mFileNotFoundError\u001b[0m: [Errno 2] No such file or directory: 'auth.pass.json'"
     ]
    }
   ],
   "source": [
    "#Dados de autenticação do twitter:\n",
    "\n",
    "#Coloque aqui o identificador da conta no twitter: @fulano\n",
    "\n",
    "#leitura do arquivo no formato JSON\n",
    "with open('auth.pass.json') as fp:    \n",
    "    data = json.load(fp)\n",
    "\n",
    "#Configurando a biblioteca. Não modificar\n",
    "auth = tweepy.OAuthHandler(data['consumer_key'], data['consumer_secret'])\n",
    "auth.set_access_token(data['access_token'], data['access_token_secret'])"
   ]
  },
  {
   "cell_type": "markdown",
   "metadata": {},
   "source": [
    "___\n",
    "## Etapas do projeto:"
   ]
  },
  {
   "cell_type": "markdown",
   "metadata": {},
   "source": [
    "### Escolha de um produto e coleta das mensagens\n"
   ]
  },
  {
   "cell_type": "code",
   "execution_count": 8,
   "metadata": {
    "jupyter": {
     "outputs_hidden": true
    }
   },
   "outputs": [],
   "source": [
    "#Produto escolhido:\n",
    "produto = 'coca'\n",
    "\n",
    "#Quantidade mínima de mensagens capturadas:\n",
    "n = 1000\n",
    "#Quantidade mínima de mensagens para a base de treinamento:\n",
    "t = 250\n",
    "\n",
    "#Filtro de língua, escolha uma na tabela ISO 639-1.\n",
    "lang = 'pt'"
   ]
  },
  {
   "cell_type": "markdown",
   "metadata": {},
   "source": [
    "Capturando os dados do twitter:"
   ]
  },
  {
   "cell_type": "code",
   "execution_count": 9,
   "metadata": {
    "jupyter": {
     "outputs_hidden": true
    }
   },
   "outputs": [],
   "source": [
    "#Cria um objeto para a captura\n",
    "# api = tweepy.API(auth)\n",
    "\n",
    "#Inicia a captura, para mais detalhes: ver a documentação do tweepy\n",
    "# i = 1\n",
    "# msgs = []\n",
    "# for msg in tweepy.Cursor(api.search, q=produto, lang=lang, tweet_mode=\"extended\").items():    \n",
    "#     msgs.append(msg.full_text.lower())\n",
    "#     i += 1\n",
    "#     if i > n:\n",
    "#         break\n",
    "\n",
    "#Embaralhando as mensagens para reduzir um possível viés\n",
    "# shuffle(msgs)"
   ]
  },
  {
   "cell_type": "markdown",
   "metadata": {},
   "source": [
    "Salvando os dados em uma planilha Excel:"
   ]
  },
  {
   "cell_type": "code",
   "execution_count": 10,
   "metadata": {
    "jupyter": {
     "outputs_hidden": true
    }
   },
   "outputs": [],
   "source": [
    "#Verifica se o arquivo não existe para não substituir um conjunto pronto\n",
    "# if not os.path.isfile('./{0}.xlsx'.format(produto)):\n",
    "    \n",
    "    #Abre o arquivo para escrita\n",
    "#     writer = pd.ExcelWriter('{0}.xlsx'.format(produto))\n",
    "\n",
    "    #divide o conjunto de mensagens em duas planilhas\n",
    "#     dft = pd.DataFrame({'Treinamento' : pd.Series(msgs[:t])})\n",
    "#     dft.to_excel(excel_writer = writer, sheet_name = 'Treinamento', index = False)\n",
    "\n",
    "#     dfc = pd.DataFrame({'Teste' : pd.Series(msgs[t:])})\n",
    "#     dfc.to_excel(excel_writer = writer, sheet_name = 'Teste', index = False)\n",
    "\n",
    "    #fecha o arquivo\n",
    "#     writer.save()"
   ]
  },
  {
   "cell_type": "markdown",
   "metadata": {},
   "source": [
    "___\n",
    "### Classificando as mensagens na coragem\n",
    "\n",
    "Esta etapa é manual. Faça a mesma pelo Excel."
   ]
  },
  {
   "cell_type": "code",
   "execution_count": 11,
   "metadata": {
    "scrolled": true
   },
   "outputs": [
    {
     "data": {
      "text/html": [
       "<div>\n",
       "<style scoped>\n",
       "    .dataframe tbody tr th:only-of-type {\n",
       "        vertical-align: middle;\n",
       "    }\n",
       "\n",
       "    .dataframe tbody tr th {\n",
       "        vertical-align: top;\n",
       "    }\n",
       "\n",
       "    .dataframe thead th {\n",
       "        text-align: right;\n",
       "    }\n",
       "</style>\n",
       "<table border=\"1\" class=\"dataframe\">\n",
       "  <thead>\n",
       "    <tr style=\"text-align: right;\">\n",
       "      <th></th>\n",
       "      <th>Teste</th>\n",
       "      <th>Relevância</th>\n",
       "    </tr>\n",
       "  </thead>\n",
       "  <tbody>\n",
       "    <tr>\n",
       "      <th>0</th>\n",
       "      <td>olha a hora que é e eu tive que comprar uma co...</td>\n",
       "      <td>1</td>\n",
       "    </tr>\n",
       "    <tr>\n",
       "      <th>1</th>\n",
       "      <td>hoje o almoço é c a ingrid....e de quebra uma ...</td>\n",
       "      <td>1</td>\n",
       "    </tr>\n",
       "    <tr>\n",
       "      <th>2</th>\n",
       "      <td>acho que vi 7 ggatinhos eita pega amo mais que...</td>\n",
       "      <td>2</td>\n",
       "    </tr>\n",
       "    <tr>\n",
       "      <th>3</th>\n",
       "      <td>7h da manhã e eu estava comendo carne assada c...</td>\n",
       "      <td>3</td>\n",
       "    </tr>\n",
       "    <tr>\n",
       "      <th>4</th>\n",
       "      <td>mano eu e a layla hoje tomamos uns 6 garrafas ...</td>\n",
       "      <td>2</td>\n",
       "    </tr>\n",
       "  </tbody>\n",
       "</table>\n",
       "</div>"
      ],
      "text/plain": [
       "                                               Teste  Relevância\n",
       "0  olha a hora que é e eu tive que comprar uma co...           1\n",
       "1  hoje o almoço é c a ingrid....e de quebra uma ...           1\n",
       "2  acho que vi 7 ggatinhos eita pega amo mais que...           2\n",
       "3  7h da manhã e eu estava comendo carne assada c...           3\n",
       "4  mano eu e a layla hoje tomamos uns 6 garrafas ...           2"
      ]
     },
     "execution_count": 11,
     "metadata": {},
     "output_type": "execute_result"
    }
   ],
   "source": [
    " file_tre = pd.read_excel('coca.xlsx' , sheet_name='Treinamento')\n",
    " file_tes = pd.read_excel('coca.xlsx' , sheet_name='Teste')\n",
    " file_tes.head()"
   ]
  },
  {
   "cell_type": "markdown",
   "metadata": {},
   "source": [
    "#### Legenda de classificação:\n",
    "0: Muito relevante - os *twetts* que expressam opiniões claras e explícitas sobre a bebida \"Coca-Cola\".\n",
    "\n",
    "1: Relevante - os *twetts* que expressam alguma opinião sobre a bebida \"Coca-Cola\".\n",
    "\n",
    "2: Neutro - os *twetts* que não expressam nenhuma opinião sobre a bebida \"Coca-Cola\".\n",
    "\n",
    "3: Inrrelevante - os *twetts* que não estão relacionados a bebida \"Coca-Cola\".\n"
   ]
  },
  {
   "cell_type": "code",
   "execution_count": 12,
   "metadata": {},
   "outputs": [],
   "source": [
    "#Limpeza\n",
    "def cleanup(Column):\n",
    "\n",
    "    Column= Column.replace(\"ç\",\"c\").replace(\"â\",\"a\").replace(\"ã\",\"a\").replace(\"à\",\"a\").replace(\"ê\",\"e\").replace(\"é\",\"e\").replace(\"ô\",\"o\").replace(\"õ\",\"o\").replace(\"/\",\" \").replace(\"?\",\" \").replace(\"!\",\" \").replace(\"@\",\" \").replace(\"\\n\",\" \").replace(\";\",\" \").replace(\",\",\"\").replace(\":\",\" \").replace(\"[\",\" \").replace(\"]\",\" \").replace(\"}\",\" \").replace(\"{\",\" \").replace(\"\\\\\",\" \").replace(' \" ',\" \").replace(\" ' \",\"\").replace(\" * \",\" \").replace(\" _ \",\" \").replace(\" - \",\" \").replace(\" . \",\" \")    \n",
    "    return Column\n",
    "\n",
    "#for items in file.Treinamento:\n",
    "    #p=cleanup(items)\n",
    "    \n",
    "    "
   ]
  },
  {
   "cell_type": "code",
   "execution_count": null,
   "metadata": {},
   "outputs": [],
   "source": []
  },
  {
   "cell_type": "code",
   "execution_count": 13,
   "metadata": {},
   "outputs": [
    {
     "data": {
      "text/html": [
       "<div>\n",
       "<style scoped>\n",
       "    .dataframe tbody tr th:only-of-type {\n",
       "        vertical-align: middle;\n",
       "    }\n",
       "\n",
       "    .dataframe tbody tr th {\n",
       "        vertical-align: top;\n",
       "    }\n",
       "\n",
       "    .dataframe thead th {\n",
       "        text-align: right;\n",
       "    }\n",
       "</style>\n",
       "<table border=\"1\" class=\"dataframe\">\n",
       "  <thead>\n",
       "    <tr style=\"text-align: right;\">\n",
       "      <th></th>\n",
       "      <th>Treinamento</th>\n",
       "      <th>Relevância</th>\n",
       "    </tr>\n",
       "  </thead>\n",
       "  <tbody>\n",
       "    <tr>\n",
       "      <th>0</th>\n",
       "      <td>@r4finh0__ a mesa de natal da ines brasil com ...</td>\n",
       "      <td>1</td>\n",
       "    </tr>\n",
       "    <tr>\n",
       "      <th>1</th>\n",
       "      <td>rt @dcechetto: as vezes eu não quero tomar ref...</td>\n",
       "      <td>1</td>\n",
       "    </tr>\n",
       "    <tr>\n",
       "      <th>2</th>\n",
       "      <td>pai bom e o meu mano, eu cheia de ressaca cheg...</td>\n",
       "      <td>1</td>\n",
       "    </tr>\n",
       "    <tr>\n",
       "      <th>3</th>\n",
       "      <td>@mariajoanaff aconteceu comigo esse ano logo d...</td>\n",
       "      <td>1</td>\n",
       "    </tr>\n",
       "    <tr>\n",
       "      <th>4</th>\n",
       "      <td>não tomem coca cola de madrugada crianças</td>\n",
       "      <td>1</td>\n",
       "    </tr>\n",
       "  </tbody>\n",
       "</table>\n",
       "</div>"
      ],
      "text/plain": [
       "                                         Treinamento  Relevância\n",
       "0  @r4finh0__ a mesa de natal da ines brasil com ...           1\n",
       "1  rt @dcechetto: as vezes eu não quero tomar ref...           1\n",
       "2  pai bom e o meu mano, eu cheia de ressaca cheg...           1\n",
       "3  @mariajoanaff aconteceu comigo esse ano logo d...           1\n",
       "4          não tomem coca cola de madrugada crianças           1"
      ]
     },
     "execution_count": 13,
     "metadata": {},
     "output_type": "execute_result"
    }
   ],
   "source": [
    "file_tre.head()"
   ]
  },
  {
   "cell_type": "code",
   "execution_count": 14,
   "metadata": {},
   "outputs": [],
   "source": [
    "file_tre.Treinamento = file_tre.Treinamento.apply(lambda x: x.lower())\n",
    "#file_tre.Treinamento = file.Treinamento.apply(lambda x: x.translate(str.maketrans('','',string.punctuation)))\n",
    "file_tre.Treinamento = file_tre.Treinamento.apply(lambda x: x.translate(str.maketrans('','',string.digits)))\n",
    "file_tre['Treinamento']=file_tre['Treinamento'].apply(cleanup)\n",
    "file_tes['Teste']=file_tes['Teste'].apply(cleanup)"
   ]
  },
  {
   "cell_type": "code",
   "execution_count": 15,
   "metadata": {},
   "outputs": [
    {
     "data": {
      "text/html": [
       "<div>\n",
       "<style scoped>\n",
       "    .dataframe tbody tr th:only-of-type {\n",
       "        vertical-align: middle;\n",
       "    }\n",
       "\n",
       "    .dataframe tbody tr th {\n",
       "        vertical-align: top;\n",
       "    }\n",
       "\n",
       "    .dataframe thead th {\n",
       "        text-align: right;\n",
       "    }\n",
       "</style>\n",
       "<table border=\"1\" class=\"dataframe\">\n",
       "  <thead>\n",
       "    <tr style=\"text-align: right;\">\n",
       "      <th></th>\n",
       "      <th>Teste</th>\n",
       "      <th>Relevância</th>\n",
       "    </tr>\n",
       "  </thead>\n",
       "  <tbody>\n",
       "    <tr>\n",
       "      <th>0</th>\n",
       "      <td>olha a hora que e e eu tive que comprar uma co...</td>\n",
       "      <td>1</td>\n",
       "    </tr>\n",
       "    <tr>\n",
       "      <th>1</th>\n",
       "      <td>hoje o almoco e c a ingrid....e de quebra uma ...</td>\n",
       "      <td>1</td>\n",
       "    </tr>\n",
       "    <tr>\n",
       "      <th>2</th>\n",
       "      <td>acho que vi 7 ggatinhos eita pega amo mais que...</td>\n",
       "      <td>2</td>\n",
       "    </tr>\n",
       "    <tr>\n",
       "      <th>3</th>\n",
       "      <td>7h da manha e eu estava comendo carne assada c...</td>\n",
       "      <td>3</td>\n",
       "    </tr>\n",
       "    <tr>\n",
       "      <th>4</th>\n",
       "      <td>mano eu e a layla hoje tomamos uns 6 garrafas ...</td>\n",
       "      <td>2</td>\n",
       "    </tr>\n",
       "  </tbody>\n",
       "</table>\n",
       "</div>"
      ],
      "text/plain": [
       "                                               Teste  Relevância\n",
       "0  olha a hora que e e eu tive que comprar uma co...           1\n",
       "1  hoje o almoco e c a ingrid....e de quebra uma ...           1\n",
       "2  acho que vi 7 ggatinhos eita pega amo mais que...           2\n",
       "3  7h da manha e eu estava comendo carne assada c...           3\n",
       "4  mano eu e a layla hoje tomamos uns 6 garrafas ...           2"
      ]
     },
     "execution_count": 15,
     "metadata": {},
     "output_type": "execute_result"
    }
   ],
   "source": [
    "file_tes.head()"
   ]
  },
  {
   "cell_type": "code",
   "execution_count": 16,
   "metadata": {},
   "outputs": [
    {
     "data": {
      "text/plain": [
       "0    1\n",
       "1    1\n",
       "2    1\n",
       "3    1\n",
       "4    1\n",
       "Name: Relevância, dtype: category\n",
       "Categories (4, int64): [0, 1, 2, 3]"
      ]
     },
     "execution_count": 16,
     "metadata": {},
     "output_type": "execute_result"
    }
   ],
   "source": [
    "# Transformando quantitativa em qualitativa\n",
    "file_tre.Relevância = file_tre.Relevância.astype('category')\n",
    "file_tre.Relevância.head()"
   ]
  },
  {
   "cell_type": "code",
   "execution_count": 17,
   "metadata": {},
   "outputs": [
    {
     "data": {
      "text/plain": [
       "1    0.360000\n",
       "2    0.269333\n",
       "3    0.260000\n",
       "0    0.110667\n",
       "Name: Relevância, dtype: float64"
      ]
     },
     "execution_count": 17,
     "metadata": {},
     "output_type": "execute_result"
    }
   ],
   "source": [
    "contagem_relevancia = file_tre.Relevância.value_counts(True)\n",
    "contagem_relevancia"
   ]
  },
  {
   "cell_type": "code",
   "execution_count": 18,
   "metadata": {},
   "outputs": [],
   "source": [
    "prob_MR = contagem_relevancia[0]\n",
    "prob_R = contagem_relevancia[1]\n",
    "prob_N = contagem_relevancia[2]\n",
    "prob_IR = contagem_relevancia[3]"
   ]
  },
  {
   "cell_type": "code",
   "execution_count": 19,
   "metadata": {
    "scrolled": true
   },
   "outputs": [
    {
     "data": {
      "text/plain": [
       "'eu nao sou a pessoa que se alimenta da forma mais correta possível. mas sao   e eu já vi uma menina tomando meio litro de coca cola e outra comendo um pacote de fandangos gente           rt  newbrasillm  jesy contou que teve transtorno alimentar durante essa epoca  “eu passava fome.. eu bebia coca diet por  dias e quando eu… eu vendo a galera malhando e eu comendo um salgado do geleia e uma lata de coca-cola.... estou vivendo muito errado  domingo  \"preciso tomar mais água me cuidar mais e tudo\"  segunda h cafe da manha  um misto e uma coca rt  mariareginafon   ludel  barodemau  maristelademelo faltou  coca-cola santander magazine luiza etc  hugoxvt e uma coca l de garrafa pra bater no cerebro..... affffff. pequenas vitórias do dia ne hj tinha coca aq em casa e eu n tomei nem um pingo fui comprar minha coca de cafe encontrei a hass comprando energetico to num congresso de tecnologias semanticas e o almoco teve coca-cola em garrafa. nao tem plástico  achei bem ecológico. pao de queijo de parada e coca no cafe saúde e tudo 👌   e minha mae reinando que eu to tomando coca essa hora  evaldokkkk uma coca man a mulher nao queria deixa eu entrar com coca na caneca sendo que geral tava bebendo nas canecas lá dentro q q eu fiz  entrei pelos fundo com a caneca cheia. regras   nao comigo amoreeee rt  neorlights  primeiro foi o rato na coca ai agora fui abrir a lata de sardinha e tinha um peixe morto kkkkkkkkkkkkkkkkkkkkkkkkkkkkkkkkkk… quando nao esquece a maionese e o ketchup agr e a coca cola 🙄 hoje to a base de coca com red bull rt  rafaelkjls  teve um dia que eu tomei  litros de coca cola com um amigo meu https   t.co tbgcbzlm  dlsouza brt ainda vem salgado com coca hoje estou marcus leao dando a coca cola quase inteira pro mendigo  jhuubs alguem trás a corrente que esse vai ser o primeiro dos tres trancado no porao. vai ficar só a biscoito e coca ate ver dark do comeco ao fim.  fitzstark na madrugada era mt bom ouvia jovem pan e a coca cola fm encerando minha semana do lixo com dogao com coca cola e brownie com sorvete acabei de derramar a coca na minha cama to indo trabalhar com uma coca na mao e com o fone bem alto andando como se nao houvesse o amanha sono vc tem q vimmm     ngm mandou eu tomar coca cola de noite     burra🤦🏻\\u200d♀️  guimorais vc e a coca cola  svogeren quem toma coca de cafe tá a um passo de usa crack *faz  agachamento* nossa meninas emagreci muito hj *bebe  coca cola* rt  flix  gang di boca tudo ta da mota guns money and drugs snitch  kuze ku sabi di drogas   putas branca sima coca kilos ta roda nin… quando se toma coca de cafe da manha e pq o troco foi feio  sf_moro  jairbolsonaro e a coca do aviao  rt  marianabbz_  vai me engolir a seco ou quer um copinho de coca  🤔 tenho que beber muita água isotonico coca cola gatorade água tonica água de coco essas porra toda que eu amo e bebo normalmente mas e o medo de vomitar tudo meu pai já expeli tudo que tinha pra sair eu acho https   t.co jvktxqbix levantei pra pegar um copo de coca e n facam isso ta tudo doendo n consigo pisar o erick bicho..... a gente saiu do lab e ia pra casa dormir ele \"e se a gente passar na master rapidinho\" agora ele tá com um litro de coca e uma caneca da humanas do nada  horas da manha e eu tomando coca  _nandasts coca no teu cu jkkkkkkk sao   e eu ja comi pizza tomei coca comi bolo do aniversário do tet morango biscoito e agora queijo que a brenda me deu alguem me para  reumalho quantas milhoes de festas tem por aí com openbar           biiicho todo mundo tem que ter ciencia do seu limite. se tu sabe que tu tá ficando loco para bebe água toma uma coca. ninguem obrigou ninguem a beber absolutamente naaada. as bebidas eram servidas comendo cebolitos e tomando coca-cola as h da manha vou comecar a ler uma parada bizarra sobrenatural disk espero que seja fanta e nao coca depois de ter bebido na festa do padre mercenário eu chego em casa e como um miojao com uma coca  ediá minha mae  beber coca cola demais faz mal   eu   da manha virando a garrafa fazendo glub glub me engasgando c o gás e quase saindo tudo pelo nariz quem e que toma um copo de coca cola bem gelada as   d manha  pois e eu desde coca logo de manha kkk eu estava dormindo fdp da minha irma me acordar p pegar uma merda de uma coca vsf     parece que esquece que as  h estou de pe bebendo coca as  da matina mkkkkkkk o cancer vem https   t.co zwlbkgcn eu to num uber que tem água normal água com gás coca bolacha balinha chiclete ventiladdorzinho se eu nao tivesse medo de comer essas coisas que uber da eu estava fazendo uma refeicao assistindo grey\\'s anatomy com meu litro de coca cola meu vaso de bolacha como se nao tivesse aula amanha rt  arthuzinhotips  ajuda ai galera n aguento mais ver foto de coca nos stories dela https   t.co vnxkhghaa       vovó tim  tua mae vai te dar uma coca       𝕮𝖑𝖆𝖗𝖆 ☀️  lógico ne       𝕮𝖑𝖆𝖗𝖆 ☀️  culpa tua       vovó tim  minha porque       vovó tim  tu faz merda e a culpa e minha       𝕮𝖑𝖆𝖗𝖆 ☀️  sim pq tu q contou kkkkkkkkk eu vo ganha uma coca dia . \"vai quem tem dinheiro vai bombar de qualquer jeito\" \"querian open de pastel e coca e coragem viu  era só uma coca cola gelada queria alguem pra pegar uma coca ou mate ou terere e sentar num lugar assim meio do nada um parque um campo whatever e ficar ali só falando amenidades ou ate nada  mas nao tenho kkkkkkk  cocagelada bom dia coca rt  nicokresteff  isso ñao e coca pai rt  pdrohsk  ines brasil coca-cola https   t.co kwianelk nem tem gosto de coca cola  mcalixto seu estomago e fígado vendo o lanche e a coca descerem https   t.co woccshveu só pq eu preciso levantar cedo to tao acordada que parece que tomei aquela coca de cafe  🤦 quero dormir to bebendo mt coca cola pra chegar amanha de manha no sítio  beber muita cerveja  kkk🤦🏽\\u200d♀️🤪 a batata agarrou na minha garganta de uma tal forma que nem a coca ajudou a descer passei no rio lanche vindo pra casa e comprei tres salgados e uma coca kkkk rt  newbrasillm  jesy contou que teve transtorno alimentar durante essa epoca  “eu passava fome.. eu bebia coca diet por  dias e quando eu… vou fazer uns nugget com batata frita e tomar com coca cola esqueci o crachá e a garrafa com coca estava furada vazando tudo pqp depois da coca cola nike patrocinando times de e-sports  ) https   t.co tnqkqubygv   da manha e eu comendo empadao e tomando coca cola 🤦\\u200d♀️🐳 de madrugada sem sono so me resta comer pizza e tomar coca  da madrugada e eu to enchendo o saco do  pretomero mandando foto de coca de cafe pra ele  camilamottta_ sim gente ela boto sal na coca e me trouxe 👍🏼 tava tao loca ontem quando cheguei do role que enquanto tava comendo eu cochilei e virei o copo de coca todo em cima de mim kkkkkkkkkkkkkkk burra ou nao hoje na aabb me barram de entrar com o meu litrao de coca aí fui lá e coloquei um pouco de coca na caneca e deixei o litrao no carro... voltei plenamente e fui barrada de novo 😒 rt  anapaul  suga seu gostoso delícia amo mais que chocolate e nutella amo mais que coca-cola love yuo gatinho suga  bts_twt  claud… tira a coca e bota vários suco da fruta https   t.co wdykbqld sem álcool diminuir cigarro sem coca cola e rajadao de fe 🙏🏽🙏🏽👍🏼 meu estomago está com gás triste        coca cola a base de lágrimas a pessoa reclamando que a coca de l e  conto e eu  uma lata e  e tem ml duas latas já e mais que o valor da garrafa e nao deu nem l rt  _aksantos  as vezes no silencio da noite eu fico imaginando um x-tudo com uma coca cola rt  ryanzinntrex  se deus nao existe entao quem coloca o gelo dentro das garrafas d\\'agua    reino do senhor   ateu   https   t.co rqrphgt… isso ñao e coca pai  drugx faz a dieta da coca cura de ressaca tem nome e e coca-cola https   t.co wgdhmirp beber coca p morrer mais cedo e nao precisar passar por esse calor™  pirescarol  folha  theinterceptbr leia \"henfil na china antes da coca-cola\". conforme o autor o medo faz com que ele perdesse as fotos  de sua viagem. escreveu e publicou.  eis uma das funcoes mais nobres destinadas aos jornalistas  retratar a verdade factual em vez de mentiras históricas  organizadas. eu nao deveria ter comido  esfihas com coca cola ontem sobrou coca pra crl minha mae vai se matar fi aí que belezinha meu irmao quer ajuda pra ele passar no vestibular kkkk só se ele me pagar  coca  litros &lt  comendo chocolate e tomando coca cola enquanto na verdade eu deveria estar dormindo sou mt chantagista kkkkkkkk meu irmao chegou pedindo pra eu jogar a chave pra ele e eu disse que ele só ia entrar em casa se trouxesse coca cola ele voltou na rua pra comprar 🥰😍 se nao voltasse ia dormir na rua 😂😂 por que será que eu nao to surpresa de ter entrado no quarto e ter um copo de coca cola onde o jhonny estava sentado        era só uma coca de cafe pra me manter de pe hj comi  paes e meio e um copao de coca nossa q sede de coca cola falei pra minha mae q n tava me sentindo bem e a solucao dela foi mandar eu tomar coca        jkkdkskskkskdkdk só tenho ex modelo vei cada dia uma posta ensaio diferente alguma me paga uma coca retornável aí namoral mandei um mac e uma coca na facul ja tncc nda bom misturar coca cola com redbull tomei um copo de cafe + um de coca. espero que isso me mantenha acordado.   e um corpao de coca que tá acabando https   t.co vozorbmaqv  fakuxd eto no e coca to sentada na cozinha bebendo coca como se nao tivesse que ir pra escola cheguei agora peguei um pedaco de empadao um copo com mousse de maracujá e um copo de cocato amassando beber meio copp de coca nao foi uma boa ideia tá doendo pra porra e eu nem estava sentindo assim.... e o rim gritando vou aguentar os berros espero que ele nao seja muito escandaloso opa... checando uma coca que tem na geladeira... https   t.co vyiaeellrm  euvagabundoo  thay_crf   pqpcoringaa  escolhe ai quem vai fazer o meu pago a coca  cocayna_ outra coca jjhjhjj aryadne realmente foi comprar pao mortadela coca e pacoca pra gente comer na sala rt  heey_eduardoo  escovei os dentes  tomei chimarrao  escovei os dentes  tomei coca  escovei os dentes eu quando deixei de pegar agua pra tomar coca com hambúrguer e batata frita  ai o refluxo gritou viu https   t.co wzlqqbk levantei meti dois pedacos de pizza e um copo de coca. nunca mais consumo coca cola nem nenhum outro tipo de bebida que seja da marca rt  coeriss  meu peito tá cocando alguem coca com a boca aqui  alicealbuquerq  itsannalu aushauahauahs amiga maior verdade sdds quando eu ficava beba de coca-cola contigo depois de ontem  só essa coca-cola msm 😊😛 https   t.co bfmibfyzu rt  joherodriguez  ela ta muito vibes paradinha e a promo da coca em  https   t.co lesbcgloj to aqui comendo esfirraumas mini pizzassalgadinho e batata frita e um copao de cocaassistindo ponto cego ❤ testa falou pra eu n beber coca vo beber coca g.g- muuito queriida e simpática passamos fome juntas e dps aprendemos como esconder vodka na coca kkkkkkkkkz eu falando de coca-cola https   t.co kxwauhgqi rt  damacenojf  role foda com os amigos que eu gosto a gente no cinema nao tem limite quando eu vi já tinha coca no chao pipoca voando  😂… rt  espindola   vinheteiro ai ai... esses dedos fazem mais que isso lorde. aprecio a brincadeira mas tomar whisky em garrafa de coca… solo fui a tomar coca cola skdkskkd https   t.co wgjpyccp e com essa coca q eu tomei agora declaro q parei com refrigerante rebentar esse strogonoff com essa coca agora ai sla sab tomando coca cola hrs da manha fodasse rt  omori_g  preciso parar de tomar coca mano tomando uma coca gelada enquanto pago meus boletos que e pra nao sentir tanto o impacto da tristeza  coca_amor acho que a loirinha me achou bonito  lcamargoandrews duas coca só se for kkkkk  lautaroloza eto no e coca papi cafe da manha c empada e coca segundei livia voce quer morrer  nao óbvio que nao lívia seis horas da manha  a viu comer coxinha do ragazzo e tomar coca  fuckinghellcat o bombero podia me mandar uma coca zero pave e coca esse foi meu cafe da manha.🤣🤣🤦🏿\\u200d♀️ to com preguica de descer pra ir lá na cozinha pega um copo de coca eu levando torta pra mi e ela falou que ta levando coca pra mim... eu bebendo coca as  da manha nao adianta toda segunda antes de eu ir trabalhar e certo toma um copao de coca-cola 😂😂🤦🏽\\u200d♂️ chegar na central vou tomar aquela coca bem gelada pq ontem desceu gelo kkkk  isabelavnso rodízio de mexicana com coca ok  sao   da manha e eu to aqui sedentíssima por uma coca-cola professor ficou zoando pq eu to as vera comendo uma esfiha c limaozinho e uma coca as  e pouca da manha kkkkkkkkk  _taisonp  jjalvess_ já bota a coca pra gelar eu falei que ontem ia ficar na coca mas meus amigos inventaram de pegar uma vodka e uma jack fui beber uma coca e me deparei com  litrao de brahma na geladeira na coroa 😭  republica_ctba essa turma tá em polvorosa  as últimas apreensoes feitas pela pf elevaram as alturas os precos da coca meu cafe da manha foi pastel com coca h da manha e pao de frios e coca no trampo amem ❤️ dieta do dia  bases coca cola e rivotril.  maribaltazzar vc nao bebeu vodka com eles  bebeu coca                  comi coxinha bebi coca to vendo elite. devia ter feito isso desde sexta ao inves de ir procrastinar no feriado sao   da manha e eu já estou tomando coca cola meu cafe hoje foi  um misto quente + coxinha + coca pprt q o vei passou  meses sem beber coca e voltou com gosto se gás pq rapaz to viciado pouco dia    as   tikin disse que vai pegar a tal menina antes do dia   se ele nao pegar ele vai me pagar uma cocavamos ver no que dá. perde essa barriga de batata frita com coca cola ontem td mundo bebendo e eu com uma garrafa de água e com um copao de coca hahahahahaha tomando coca no cafe da manha caba nao mundao rt  crvg_   dejotacn incrível cr salvar a coca ninguem quer kkkkkkk nossa o mlk tomando coca essas hr...  n sinto sdd dessa minha epoca pqp  conto a coca l https   t.co wliah ainda nao me recuperei desse fds parece que ontem a onda veio c tudo iikkk e olha que só fiquei na coca ganhei um batom sabor coca cola👌👌 bebendo coca a essa hr da manha ta tudo certo coca brahma água hrs da manha e eu virando a garrafa de coca cola eu nao deveria ter comido torrada com coca no cafe da manha nao bebi nada mas o suficiente pra derramar toda a minha coca no resto dr pizza que sobrou odeio associar minha fome com o meu signo mas eu to com  um pao com queijo e presunto wafer bolacha recheada sucrilhos barra de cereal chocolate uma garrafa de água e a outra de coca tudo no meu quarto e maravilhoso ser taurina era so uma coca bem gelada ...  undrgrndesgoto um copo de coca equivale a  cigarros. pense nisso  sleepstreams pepsi só tem  coca que e  litros certinhos eto no e coca papi eu nao quero criar polemicas mas nescau e melhor que toddy coca e melhor que pepsi dragon ball e melhor que naruto star wars e melhor que star trek house e melhor que grays anatomy   pizza e melhor que esfiha e a marvel e melhor que a dc.  esqueci de algum  diva benz  coca boy aye e outras vc nao vao entender nunca pqp rt  newbrasillm  jesy contou que teve transtorno alimentar durante essa epoca  “eu passava fome.. eu bebia coca diet por  dias e quando eu… ainnn cara beta colocou lá os salgados que tem hoje sai correndo do grupo que tentacao... chegar no trabalho tá geral comendo hambúrguer c uma coca geladinha e eu vou comer iogurte c chia e pao integral c queijo minas... 😢  ramerski e só tinha uma coca tomei um banho tomei um copo de coca e to deitadinha pra mim a pessoa q toma coca cola com  pao de queijo as  da manha ela ja perdeu toda esperanca na vida dela preciso tomar um coca vou lá em  baixo compra uma coca kkj queria só  litro de coca cola  ( primeiro dia de trabalho e minha chefe compra todinho coca bolachas pra mim ♥️🙏🏻😂 tomando aql coca na praca com o parceiro vou pra praia diferenciado com o pe havaianas e correia da coca cola vagabundo e foda minha sandália novinha 😤 tinha que ter um estúdio coca-cola pra alguem financiar um disco colaborativo das banda mais nervosa do brasil rt  mateus_dias  queria tá indo comprar coca p almocar na sogra  juuliadamasio bao hein ja da p comprar uma coca p nois hj o uber que me deixou em casa foi um senhor que pagou uma coca cola pra me tranquilizar quando fui assaltado com a minha mae a quase  anos atrás. lembrei das feicoes dele e nao tive nem coragem de pegar o troco pela corrida. faca o bem e ele voltará a ti independente do tempo. caraio os aluno trouxeram cachorro quente e coca pra aula e eu n posso nem beber água https   t.co bvjljsqivd  amonthevic coca cola tambem tá me ajudando muito nao sei pq tenho a sensacao que quando eu tomo refrigerante melhora e limao tambem  mas comida tá difícil tudo que eu como me dá vontade de vomitar  (  já emagreci  kg só sei q os pia sao uns apegam n quisero da  centavos pra ajuda paga a coca kkkkkk acho mto chique quem consegue programar  atividades pro dia alem das obrigacoes rotineiras. eu consigo no maximo passar no posto pegar uma coca cola fora da minha rotina se nao eu ja me perco toda rt  omori_g  preciso parar de tomar coca mano rt  _mecanico   vulgovianna vender coca bala e aguaaaaa kkkk bom dia meu mano. da um beijo na princesa😍😍 rt  dudaoxx  comecar a beber e  litro de coca por dia https   t.co hxgqimb preciso parar de tomar coca  wallazzi tá valendo uma coca  joaovaz vou comprar coca cola para ti pá tens que vir 🤣🤣'"
      ]
     },
     "execution_count": 19,
     "metadata": {},
     "output_type": "execute_result"
    }
   ],
   "source": [
    "file_MR=file_tre.loc[file_tre.Relevância==0,:]\n",
    "file_R=file_tre.loc[file_tre.Relevância==1,:]\n",
    "file_N=file_tre.loc[file_tre.Relevância==2,:]\n",
    "file_IR=file_tre.loc[file_tre.Relevância==3,:]\n",
    "MR_txt= \" \".join(file_MR.Treinamento)\n",
    "R_txt= \" \".join(file_R.Treinamento)\n",
    "N_txt= \" \".join(file_N.Treinamento)\n",
    "IR_txt= \" \".join(file_IR.Treinamento)\n",
    "N_txt"
   ]
  },
  {
   "cell_type": "code",
   "execution_count": null,
   "metadata": {},
   "outputs": [],
   "source": []
  },
  {
   "cell_type": "code",
   "execution_count": null,
   "metadata": {},
   "outputs": [],
   "source": []
  },
  {
   "cell_type": "markdown",
   "metadata": {},
   "source": [
    "___\n",
    "### Montando o Classificador Naive-Bayes\n",
    "\n",
    "Considerando apenas as mensagens da planilha Treinamento, ensine  seu classificador."
   ]
  },
  {
   "cell_type": "code",
   "execution_count": 20,
   "metadata": {},
   "outputs": [],
   "source": [
    "serie_MR = pd.Series(MR_txt.split())\n",
    "serie_R = pd.Series(R_txt.split())\n",
    "serie_N = pd.Series(N_txt.split())\n",
    "serie_IR = pd.Series(IR_txt.split())"
   ]
  },
  {
   "cell_type": "code",
   "execution_count": 40,
   "metadata": {},
   "outputs": [],
   "source": [
    "tabela_MR = serie_MR.value_counts()\n",
    "tabela_R = serie_R.value_counts()\n",
    "tabela_N = serie_N.value_counts()\n",
    "tabela_IR = serie_IR.value_counts()"
   ]
  },
  {
   "cell_type": "code",
   "execution_count": 69,
   "metadata": {},
   "outputs": [],
   "source": [
    "tabela_relativa_MR = serie_MR.value_counts(True)\n",
    "tabela_relativa_R = serie_R.value_counts(True)\n",
    "tabela_relativa_N = serie_N.value_counts(True)\n",
    "tabela_relativa_IR = serie_IR.value_counts(True)"
   ]
  },
  {
   "cell_type": "code",
   "execution_count": 55,
   "metadata": {},
   "outputs": [],
   "source": [
    "item_MR = tabela_MR[1]\n",
    "item_R = tabela_R[1]\n",
    "item_N = tabela_N[1]\n",
    "item_IR = tabela_IR[1]"
   ]
  },
  {
   "cell_type": "code",
   "execution_count": 79,
   "metadata": {},
   "outputs": [
    {
     "name": "stdout",
     "output_type": "stream",
     "text": [
      "[0.0001121242823370483, 9.029345372460495e-05, 8.003962357602773e-05, 0.00015089959373186304]\n"
     ]
    }
   ],
   "source": [
    "def probPalavra(palavra):\n",
    "    if palavra in tabela_MR:\n",
    "        a = tabela_MR[palavra]\n",
    "    else:\n",
    "        a = 0\n",
    "    if palavra in tabela_R:\n",
    "        b = tabela_R[palavra]\n",
    "    else:\n",
    "        b = 0\n",
    "    if palavra in tabela_N:\n",
    "        c = tabela_N[palavra]\n",
    "    else:\n",
    "        c = 0\n",
    "    if palavra in tabela_IR:\n",
    "        d = tabela_IR[palavra]\n",
    "    else:\n",
    "        d = 0\n",
    "    probabilidade_MR = ((a+1)/(len(serie_MR)+item_MR))*prob_MR\n",
    "    probabilidade_R = ((b+1)/(len(serie_R)+item_R))*prob_R\n",
    "    probabilidade_N = ((c+1)/(len(serie_N)+item_N))*prob_N\n",
    "    probabilidade_IR = ((d+1)/(len(serie_IR)+item_IR))*prob_IR\n",
    "    \n",
    "    return [probabilidade_MR,probabilidade_R,probabilidade_N,probabilidade_IR]\n",
    "        \n",
    "print(probPalavra(\"ingratidao\"))"
   ]
  },
  {
   "cell_type": "code",
   "execution_count": 66,
   "metadata": {},
   "outputs": [
    {
     "name": "stdout",
     "output_type": "stream",
     "text": [
      "1\n"
     ]
    }
   ],
   "source": [
    "def probFrase(frase):\n",
    "    f = str(frase.lower())\n",
    "    f = cleanup(f)\n",
    "    coef_MR = 1\n",
    "    coef_R = 1\n",
    "    coef_N = 1\n",
    "    coef_IR = 1\n",
    "    \n",
    "    for e in f:\n",
    "        coef_MR *= probPalavra(e)[0]\n",
    "        coef_R *= probPalavra(e)[1]\n",
    "        coef_N *= probPalavra(e)[2]\n",
    "        coef_IR *= probPalavra(e)[3]\n",
    "    if coef_MR>coef_R and coef_MR>coef_N and coef_MR>coef_IR:\n",
    "        return 1\n",
    "        \n",
    "    elif coef_R>coef_MR and coef_R>coef_N and coef_R>coef_IR:\n",
    "        return 2\n",
    "            \n",
    "    elif coef_N>coef_MR and coef_N>coef_R and coef_N>coef_IR:\n",
    "        return 3\n",
    "    \n",
    "    else:\n",
    "        return 4\n",
    "        \n",
    "    \n",
    "    \n",
    "    \n",
    "    \n",
    "#print(probFrase(\"eu quero uma coca gelada\"))\n",
    "print(probFrase(\"\"))"
   ]
  },
  {
   "cell_type": "code",
   "execution_count": null,
   "metadata": {},
   "outputs": [],
   "source": [
    "def classifica(df,prob_MR,prob_R,prob_N,prob_IR):\n",
    "\n",
    "    for linha in df :\n",
    "        twett=df.loc[df.Teste,linha]\n",
    "        twett=twett.str.split(\" \")\n",
    "        MR=1\n",
    "        R=1\n",
    "        N=1\n",
    "        IR=1\n",
    "        for p in twett:\n",
    "            MR*=\n",
    "            R*=\n",
    "            N*=\n",
    "            IR*=\n",
    "        MR*=prob_MR\n",
    "        R*=prob_R\n",
    "        N*=prob_N\n",
    "        IR*=prob_IR\n",
    "        if MR>R and MR>N and MR>IR:\n",
    "        \n",
    "        elif R>MR and R>N and R>IR:\n",
    "            \n",
    "        elif N>MR and N>R and N>IR:\n",
    "            \n",
    "        elif IR>MR and IR>R and IR>N:\n",
    "        \n",
    "        if coef_MR>=coef_R and coef_MR>=coef_N and coef_MR>=coef_IR:\n",
    "        return 1\n",
    "        \n",
    "    elif coef_R>=coef_MR and coef_R>=coef_N and coef_R>=coef_IR:\n",
    "        return 2\n",
    "            \n",
    "    elif coef_N>=coef_MR and coef_N>=coef_R and coef_N>=coef_IR:\n",
    "        return 3\n",
    "    \n",
    "    else:\n",
    "        return 4\n",
    "    \n",
    "    "
   ]
  },
  {
   "cell_type": "code",
   "execution_count": 30,
   "metadata": {},
   "outputs": [
    {
     "name": "stdout",
     "output_type": "stream",
     "text": [
      "Help on built-in function round in module builtins:\n",
      "\n",
      "round(number, ndigits=None)\n",
      "    Round a number to a given precision in decimal digits.\n",
      "    \n",
      "    The return value is an integer if ndigits is omitted or None.  Otherwise\n",
      "    the return value has the same type as the number.  ndigits may be negative.\n",
      "\n"
     ]
    }
   ],
   "source": []
  },
  {
   "cell_type": "markdown",
   "metadata": {},
   "source": [
    "___\n",
    "### Verificando a performance\n",
    "\n",
    "Agora você deve testar o seu classificador com a base de Testes."
   ]
  },
  {
   "cell_type": "code",
   "execution_count": null,
   "metadata": {},
   "outputs": [],
   "source": []
  },
  {
   "cell_type": "code",
   "execution_count": null,
   "metadata": {},
   "outputs": [],
   "source": []
  },
  {
   "cell_type": "code",
   "execution_count": null,
   "metadata": {},
   "outputs": [],
   "source": []
  },
  {
   "cell_type": "markdown",
   "metadata": {},
   "source": [
    "___\n",
    "### Concluindo"
   ]
  },
  {
   "cell_type": "code",
   "execution_count": null,
   "metadata": {},
   "outputs": [],
   "source": []
  },
  {
   "cell_type": "code",
   "execution_count": null,
   "metadata": {},
   "outputs": [],
   "source": []
  },
  {
   "cell_type": "markdown",
   "metadata": {},
   "source": [
    "## Aperfeiçoamento:\n",
    "\n",
    "Os trabalhos vão evoluir em conceito dependendo da quantidade de itens avançados:\n",
    "\n",
    "* Limpar: \\n, :, \", ', (, ), etc SEM remover emojis (*feito*)\n",
    "* Corrigir separação de espaços entre palavras e emojis ou emojis e emojis\n",
    "* Propor outras limpezas e transformações que não afetem a qualidade da informação ou classificação\n",
    "* Criar categorias intermediárias de relevância baseadas na probabilidade: ex.: muito relevante, relevante, neutro, irrelevante, muito irrelevante (3 categorias: C, mais categorias conta para B)\n",
    "* Explicar por que não posso usar o próprio classificador para gerar mais amostras de treinamento\n",
    "* Propor diferentes cenários para Naïve Bayes fora do contexto do projeto\n",
    "* Sugerir e explicar melhorias reais com indicações concretas de como implementar (indicar como fazer e indicar material de pesquisa)\n",
    "* Montar um dashboard que periodicamente realiza análise de sentimento e visualiza estes dados"
   ]
  },
  {
   "cell_type": "markdown",
   "metadata": {},
   "source": [
    "# Referências"
   ]
  },
  {
   "cell_type": "markdown",
   "metadata": {},
   "source": [
    "[Naive Bayes and Text Classification](https://arxiv.org/pdf/1410.5329.pdf)  **Mais completo**\n",
    "\n",
    "[A practical explanation of a Naive Bayes Classifier](https://monkeylearn.com/blog/practical-explanation-naive-bayes-classifier/) **Mais simples**"
   ]
  },
  {
   "cell_type": "code",
   "execution_count": null,
   "metadata": {},
   "outputs": [],
   "source": []
  }
 ],
 "metadata": {
  "kernelspec": {
   "display_name": "Python 3",
   "language": "python",
   "name": "python3"
  },
  "language_info": {
   "codemirror_mode": {
    "name": "ipython",
    "version": 3
   },
   "file_extension": ".py",
   "mimetype": "text/x-python",
   "name": "python",
   "nbconvert_exporter": "python",
   "pygments_lexer": "ipython3",
   "version": "3.7.1"
  }
 },
 "nbformat": 4,
 "nbformat_minor": 4
}
