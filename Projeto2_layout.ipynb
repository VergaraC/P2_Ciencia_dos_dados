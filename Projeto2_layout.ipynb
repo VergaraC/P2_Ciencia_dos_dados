{
 "cells": [
  {
   "cell_type": "markdown",
   "metadata": {},
   "source": [
    "# Projeto 2 - Ciência dos Dados"
   ]
  },
  {
   "cell_type": "markdown",
   "metadata": {},
   "source": [
    "Nome: Henrique Mualem Marti\n",
    "\n",
    "Nome: Victor Vergara\n",
    "\n",
    "Nome: Edgard Neto"
   ]
  },
  {
   "cell_type": "markdown",
   "metadata": {},
   "source": [
    "Serão permitidos grupos de três pessoas, mas com uma rubrica mais exigente. Grupos deste tamanho precisarão fazer um questionário de avaliação de trabalho em equipe"
   ]
  },
  {
   "cell_type": "markdown",
   "metadata": {},
   "source": [
    "___\n",
    "# Classificador automático de sentimento\n"
   ]
  },
  {
   "cell_type": "markdown",
   "metadata": {},
   "source": [
    "## Preparando o ambiente no jupyter:"
   ]
  },
  {
   "cell_type": "code",
   "execution_count": 2,
   "metadata": {},
   "outputs": [],
   "source": [
    "%%capture\n",
    "\n",
    "#Instalando o tweepy\n",
    "!pip install tweepy"
   ]
  },
  {
   "cell_type": "code",
   "execution_count": 36,
   "metadata": {
    "jupyter": {
     "outputs_hidden": true
    }
   },
   "outputs": [],
   "source": [
    "import tweepy\n",
    "import math\n",
    "import os.path\n",
    "import pandas as pd\n",
    "import json\n",
    "import re\n",
    "from random import shuffle"
   ]
  },
  {
   "cell_type": "markdown",
   "metadata": {},
   "source": [
    "___\n",
    "## Autenticando no  Twitter\n",
    "\n",
    "* Conta: ***[Preencha aqui o id da sua conta. Ex: @fulano ]***"
   ]
  },
  {
   "cell_type": "code",
   "execution_count": 4,
   "metadata": {
    "jupyter": {
     "outputs_hidden": true
    }
   },
   "outputs": [],
   "source": [
    "#Dados de autenticação do twitter:\n",
    "\n",
    "#Coloque aqui o identificador da conta no twitter: @fulano\n",
    "\n",
    "#leitura do arquivo no formato JSON\n",
    "with open('auth.pass.json') as fp:    \n",
    "    data = json.load(fp)\n",
    "\n",
    "#Configurando a biblioteca. Não modificar\n",
    "auth = tweepy.OAuthHandler(data['consumer_key'], data['consumer_secret'])\n",
    "auth.set_access_token(data['access_token'], data['access_token_secret'])"
   ]
  },
  {
   "cell_type": "markdown",
   "metadata": {},
   "source": [
    "___\n",
    "## Etapas do projeto:"
   ]
  },
  {
   "cell_type": "markdown",
   "metadata": {},
   "source": [
    "### Escolha de um produto e coleta das mensagens\n"
   ]
  },
  {
   "cell_type": "code",
   "execution_count": 5,
   "metadata": {
    "jupyter": {
     "outputs_hidden": true
    }
   },
   "outputs": [],
   "source": [
    "#Produto escolhido:\n",
    "produto = 'coca'\n",
    "\n",
    "#Quantidade mínima de mensagens capturadas:\n",
    "n = 1000\n",
    "#Quantidade mínima de mensagens para a base de treinamento:\n",
    "t = 250\n",
    "\n",
    "#Filtro de língua, escolha uma na tabela ISO 639-1.\n",
    "lang = 'pt'"
   ]
  },
  {
   "cell_type": "markdown",
   "metadata": {},
   "source": [
    "Capturando os dados do twitter:"
   ]
  },
  {
   "cell_type": "code",
   "execution_count": 6,
   "metadata": {
    "jupyter": {
     "outputs_hidden": true
    }
   },
   "outputs": [],
   "source": [
    "#Cria um objeto para a captura\n",
    "api = tweepy.API(auth)\n",
    "\n",
    "#Inicia a captura, para mais detalhes: ver a documentação do tweepy\n",
    "i = 1\n",
    "msgs = []\n",
    "for msg in tweepy.Cursor(api.search, q=produto, lang=lang, tweet_mode=\"extended\").items():    \n",
    "    msgs.append(msg.full_text.lower())\n",
    "    i += 1\n",
    "    if i > n:\n",
    "        break\n",
    "\n",
    "#Embaralhando as mensagens para reduzir um possível viés\n",
    "shuffle(msgs)"
   ]
  },
  {
   "cell_type": "markdown",
   "metadata": {},
   "source": [
    "Salvando os dados em uma planilha Excel:"
   ]
  },
  {
   "cell_type": "code",
   "execution_count": 7,
   "metadata": {
    "jupyter": {
     "outputs_hidden": true
    }
   },
   "outputs": [],
   "source": [
    "#Verifica se o arquivo não existe para não substituir um conjunto pronto\n",
    "if not os.path.isfile('./{0}.xlsx'.format(produto)):\n",
    "    \n",
    "    #Abre o arquivo para escrita\n",
    "    writer = pd.ExcelWriter('{0}.xlsx'.format(produto))\n",
    "\n",
    "    #divide o conjunto de mensagens em duas planilhas\n",
    "    dft = pd.DataFrame({'Treinamento' : pd.Series(msgs[:t])})\n",
    "    dft.to_excel(excel_writer = writer, sheet_name = 'Treinamento', index = False)\n",
    "\n",
    "    dfc = pd.DataFrame({'Teste' : pd.Series(msgs[t:])})\n",
    "    dfc.to_excel(excel_writer = writer, sheet_name = 'Teste', index = False)\n",
    "\n",
    "    #fecha o arquivo\n",
    "    writer.save()"
   ]
  },
  {
   "cell_type": "markdown",
   "metadata": {},
   "source": [
    "___\n",
    "### Classificando as mensagens na coragem\n",
    "\n",
    "Esta etapa é manual. Faça a mesma pelo Excel."
   ]
  },
  {
   "cell_type": "code",
   "execution_count": 14,
   "metadata": {
    "scrolled": true
   },
   "outputs": [
    {
     "data": {
      "text/html": [
       "<div>\n",
       "<style scoped>\n",
       "    .dataframe tbody tr th:only-of-type {\n",
       "        vertical-align: middle;\n",
       "    }\n",
       "\n",
       "    .dataframe tbody tr th {\n",
       "        vertical-align: top;\n",
       "    }\n",
       "\n",
       "    .dataframe thead th {\n",
       "        text-align: right;\n",
       "    }\n",
       "</style>\n",
       "<table border=\"1\" class=\"dataframe\">\n",
       "  <thead>\n",
       "    <tr style=\"text-align: right;\">\n",
       "      <th></th>\n",
       "      <th>Treinamento</th>\n",
       "      <th>Relevância</th>\n",
       "    </tr>\n",
       "  </thead>\n",
       "  <tbody>\n",
       "    <tr>\n",
       "      <th>0</th>\n",
       "      <td>olha a hora que é e eu tive que comprar uma co...</td>\n",
       "      <td>1</td>\n",
       "    </tr>\n",
       "    <tr>\n",
       "      <th>1</th>\n",
       "      <td>hoje o almoço é c a ingrid....e de quebra uma ...</td>\n",
       "      <td>1</td>\n",
       "    </tr>\n",
       "    <tr>\n",
       "      <th>2</th>\n",
       "      <td>acho que vi 7 ggatinhos eita pega amo mais que...</td>\n",
       "      <td>2</td>\n",
       "    </tr>\n",
       "    <tr>\n",
       "      <th>3</th>\n",
       "      <td>7h da manhã e eu estava comendo carne assada c...</td>\n",
       "      <td>3</td>\n",
       "    </tr>\n",
       "    <tr>\n",
       "      <th>4</th>\n",
       "      <td>mano eu e a layla hoje tomamos uns 6 garrafas ...</td>\n",
       "      <td>2</td>\n",
       "    </tr>\n",
       "  </tbody>\n",
       "</table>\n",
       "</div>"
      ],
      "text/plain": [
       "                                         Treinamento  Relevância\n",
       "0  olha a hora que é e eu tive que comprar uma co...           1\n",
       "1  hoje o almoço é c a ingrid....e de quebra uma ...           1\n",
       "2  acho que vi 7 ggatinhos eita pega amo mais que...           2\n",
       "3  7h da manhã e eu estava comendo carne assada c...           3\n",
       "4  mano eu e a layla hoje tomamos uns 6 garrafas ...           2"
      ]
     },
     "execution_count": 14,
     "metadata": {},
     "output_type": "execute_result"
    }
   ],
   "source": [
    "file = pd.read_excel('coca.xlsx' , sheet_name='Treinamento')\n",
    "file.head()"
   ]
  },
  {
   "cell_type": "markdown",
   "metadata": {},
   "source": [
    "#### Legenda de classificação:\n",
    "0: Muito relevante - os *twetts* que expressam opiniões claras e explícitas sobre a bebida \"Coca-Cola\".\n",
    "\n",
    "1: Relevante - os *twetts* que expressam alguma opinião sobre a bebida \"Coca-Cola\".\n",
    "\n",
    "2: Neutro - os *twetts* que não expressam nenhuma opinião sobre a bebida \"Coca-Cola\".\n",
    "\n",
    "3: Inrrelevante - os *twetts* que não estão relacionados a bebida \"Coca-Cola\".\n"
   ]
  },
  {
   "cell_type": "code",
   "execution_count": 50,
   "metadata": {},
   "outputs": [
    {
     "name": "stdout",
     "output_type": "stream",
     "text": [
      "['olha a hora que é e eu tive que comprar uma coca pq tô com muita vontade de tomar', 'hoje o almoço é c a ingrid    e de quebra uma coca pq ela é viciada nisso jesus kk', 'acho que vi 7 ggatinhos eita pega amo mais que coca  cola amo mais que chocolate @bts twt @claudinorosana @linasnascimento https   t co sprfxbyajo', '7h da manhã e eu estava comendo carne assada com coca cola', 'mano eu e a layla hoje tomamos uns 6 garrafas de dois litros de coca surre', 'só quero uma coca bem gelada', 'sequei a coca que tinha na geladeira  ressaca fdd', '@claytonnerdside perto disso aqui  coca cola é fichinha  p  https   t co nujmsxocqv', 'guaraná ou coca  — coca zero https   t co edghbfl8kn', 'é normal bebê coca uma hora dessa 🤦🏻\\u200d♀️', 'rt @ribeirosilva12  porque só falam do bolsonaro e do brasil sobre as queimadas  e não falam do decreto que evo morales assinou para que os…', 'ontem na vulcano pedi um copão de coca  minha mãe me julgou dizendo que não aguento nem minha ressaca   ', '@nemtjf3 deve ser a coca cola sim', 'rt @xxxofanie    coca zero é zero pq é zero açúcar     sim    mas o gosto é doce    é pq tem um tekinho    então deveria chamar coca 1 teki…', 'a vida é muito curta pra vc não se acabar num doritos com coca', 'rt @anapaul91683215  suga seu gostoso delícia amo mais que chocolate e nutella amo mais que coca cola love yuo gatinho suga @bts twt @claud…', 'rt @lilnativetiger  olho pra pedra nos rins e depois eu olho pra coca cola as 7h50 e falo  linda  e depois eu bebo toda ', 'rt @nayyyreis  esse de embelezar os textos no twitter coça ya 🥺😂 https   t co pr05yxafup', 'dormi bem a madrugada inteira  acordei e tomei um copo de coca cola   e q u i l í b r i o', 'nem bebi nada  fiquei na coca mas eu estava com muito clima ', 'x1 p90 só hs valendo uma coca https   t co v1lutkq0st', '@joaorss  tem hora p beber coca gnt  ', '@chateaufiesta a essas era uma coça ', 'rt @dcechetto  as vezes eu não quero tomar refri mas tem comida que pede um copão de coca né ', 'rt @lilnativetiger  olho pra pedra nos rins e depois eu olho pra coca cola as 7h50 e falo  linda  e depois eu bebo toda ', 'rt @dcechetto  as vezes eu não quero tomar refri mas tem comida que pede um copão de coca né ', 'rt @sodeboabrazil  por que a mídia internacional culpa o brasil pelos incêndios na amazônia e se cala quanto à origem do problema  que foi…', 'consegue ficar o dia todo sem dar uma risada  — só se for valendo uma coca https   t co ady1pejew0', 'olho p pedra nos rins e dps eu olho pra coca cola as 8h10 e falo  linda  e dps eu bebo toda', 'chapar com os amigos que gosto e depois tomar uma coca geladinha af tudo p mim', '@milenanovaes  nem fala  acordei tão cansado que parece que levei uma coça', '@call me hood tudo coca da mesma planta', 'queria uma coca cola', '5h d manha e eu to aqui comendo uma pizza e bebendo uma coca  n sei oq to achando d vida 😥', 'estômago ta pedindo coca cola kkkkk', 'rt @phvintee2  melhor coisa do mundo é tu chegar em casa fumadão abrir o forno e ter pizaa  fui abrir o congelador pra pegar a coca tinha a…', 'antes eu brincava de sair e beber  todo fim de semana  hj em dia parece que tomei uma coça  fico uns três dias pra me recuperar  😂😂😂😂😂', 'passei o dia todo com vontade de um podrão e uma coca cola  mas eu tava sem um puto no bolso  ai eu não ia trampar hoje pq não ia precisar de eu ir  ai ja fiquei na bad  ai eu falei   just accept  fé    e 2 min dps eles me chamaram pra ir e cá estou eu com meu lanchão e a coca ', 'será que coca cola tira o sono     kkkkkk', 'incrível como eu amo homem doido mas eu vejo um bem resolvido q me chama de docinho me faz rir e se preocupa cm meu bem estar meu útero até coça pra formar uma família', 'eu não quero criar polêmicas  mas nescau é melhor que toddy  coca é melhor que pepsi  dragon ball é melhor que naruto  star wars é melhor que star trek  house é melhor que grays anatomy  pizza é melhor que esfiha e a marvel é melhor que a dc   esqueci de algum ', '@vulgovianna vender coca  bala e aguaaaaa kkkk bom dia meu mano  da um beijo na princesa😍😍', 'acordei com vontade de tomar uma coca bem gelada', '4 da manhã e eu comendo pizza dai fui abrir a geladeira pra tomar água ou suco e só tinha coca cola e como eu tenho uma gastrite fudida desde que nasci  tomei a metade de um copinho e já tô sentindo a morte vim e dor   amanhã as 14h é o enterro amigos', 'acordei com um desejo exacerbado de tomar coca cola', '@suisad  acho q a coca eh treizitrezentos tb  não ', 'rt @sodeboabrazil  por que a mídia internacional culpa o brasil pelos incêndios na amazônia e se cala quanto à origem do problema  que foi…', 'tem do preto e do branco   e coça o nariz', 'to muito viciada em coca  até de manhã 😫', '@sadboy404 chama ela pra um dogão com coca porra', '@willkerjumonji @vitor policeno kkkkkkkk pior que ele nem tava devendo nada   ia falar pra ele pagar uma coca na razão', 'hoje fiquei só na base da coca e da aguinha  🥵😅', 'bebendo coca uma hora dessa  quero morrer', 'domingou assistindo documentário sobre coca cola', 'rt @newbrasillm  jesy contou que teve transtorno alimentar durante essa época  “eu passava fome   eu bebia coca diet por 4 dias e quando eu…', 'rt @rafinhabastos  entrevistei uma deputada conservadora  galerinha da direita vai lá e edita um vídeo só com as respostas dela pra eu pare…', 'eu bebendo coca uma hora dessa pra conseguir trabalhar plena', 'era só uma coca  mas tô bebendo suco de morango 🤤', 'era só uma coca na minha vida agora   😭 ressaca do crlh mano ', '@afagisborn taylor is a coca cola ambassador mam', '@eveandrade99 eiiiiiii  me chama  a gente toma só coca ', 'pizza gelada e coca sem gás no café da manhã #segundou', 'comendo xis e coca logo pela manhã', 'rt @dcechetto  as vezes eu não quero tomar refri mas tem comida que pede um copão de coca né ', 'rt @lombraninha  um copão de coca cola', 'rt @morenaarss  comi meu lindo pão de queijo e bebi mh linda coca  agr to de bom humor😍', 'acordei com uma sede de coca  até parece q bebi todas ontem', 'kkkkkk o dedo coça pra marcar https   t co 4byzla5w9v', 'o nosso hit da coca cola https   t co 3ckqv99hyq', 'matei minha vontade de comer pastel de camarão  e a coca bem gelada kkkkkkk', 'agora sim  minha renúncia começa oficialmente 1 ano sem coca cola 🥺', 'eu fui picada por uma abelha terça feira e só piora  fora que coça mt e ta aparecendo maxinhas desse jeito e q inclusive coçam também em outras partes do meu corpo  e agr serase vou morre', 'mano  as vezes eu tiro uns seminds lindos de mais  a mão coça p postar  mas n podi rsrsrs', '@ nandasts bebeu coca cola p crl kkkkk', 'quero coca  a onde que eu vou achar uma hora dessa', 'tô com uma sorte em jogo kkkk ganhei no cartola  valendo 320 reais semana passada  essa semana ganhei 3 fardos de coca cola kkkk', 'ahhh ele vai se vingar    não  se tomar a coça certa  vai meter a viola no saco e vai sumir  provavelmente vai agredir outra que se relacione com ele até o dia que encontrar o capeta  mas o problema da agredida acaba ', 'bebi coca cola e yakult no café da manhã pqp q larica é essa', 'rt @oraporra  uma coca cola bem gelada a melhor bebida que existe e ainda por  cima extremamente saudável', 'um copão de coca cola', 'rt @ana lua18  evo morales baixou decreto permitindo queimadas para fazer cultivos de coca     🧐 https   t co v4gpqvnhvn', 'a mão chega coça pra dar unfollow mas nao posso', '@ lara luiza aquela coca kkkkkkk', 'eu  comi pizza e coca a meia noite   meu estômago  amanheceu com azia  eu  https   t co o4jtyyknya', 'rt @loree5crf  to muito viciada em coca  até de manhã 😫', 'só um copão de café forte e coca pra acordar', '@rafa arnoni @opropriolavo https   t co lbliozv38x tirando o ideólogo do putin  q tomou uma coça em um debate e o ex estrategista do trump  q falou q as ideias do olavo deveriam ser divulgadas mundo afora  acho que nenhuma pessoa importante  como algum professor da usp  com  diproma  lindão  cita o olavo ', 'tomei um copão de coca cola antes de ir me deitar       realmente eu tô antecipando a minha morte', 'tomando coca na xícara as 7 22 da manhã pra tentar enganar a morte', 'rt @nicokresteff  isso ñao é coca pai', 'ainda bem q eu fiquei só na coca https   t co awi0dhmb83', 'rt @fxblj7  queria só a gata pra topar um xtudao com uma coca', 'rt @debochadoz  gays  bissexuais e mulheres hetero compartilhando a tristeza de gostar de homem https   t co u2qdy7edke', 'já tomei 2l de coca tô mal 😕', 'acordando essa hora pra tomar coca    o que a ressaca não faz', '@professorigor olá  @professorigor   excelente  inclusive esse foi o tema do artigonque acabei de publicar   https   t co ctpo2f4vc7', '@tamarasmartiins ela já chegou ontem fazendo besteira tia kkkk deixou a coca cair é foi abrir doidona cozinha tá toda manchada 🤣🤣❤', 'rt @mariiasrt  a melhor bebida do mundo é coca cola', 'depois de uma ressaca fdd  só esse baseadinho com uma coca gelada pela manhã 😍', '@invest internac  não é deixando de tomar coca cola ou de comer big mac que transformaremos nosso país numa grande nação     lembro me que eu era um desses adolescentes que queria definir o padrão de consumo dos meus amigos por nacionalidade dos produtos ', 'eu só acordei às 5hrs da manhã porque sonhei que estava bebendo uma coca bem gelada 😋', 'tive q tomar meio copo de coca agr 🤢', 'evo morales baixou decreto permitindo queimadas para fazer cultivos de coca     🧐 https   t co v4gpqvnhvn', 'rt @lilnativetiger  olho pra pedra nos rins e depois eu olho pra coca cola as 7h50 e falo  linda  e depois eu bebo toda ', 'cheguei no escritório e fui tomar meu café da manhã composto por croissant  chocolate e coca   a menina da outra sala passou e soltou um “em plena segunda tu já tais de ressaca  yaucha  ” claramente sou muito previsível viu', 'eu  vou parar de tomar refrigerantes isso tá acabando comigo also eu as 8h  hm  o dia está lindo vou beber dois copos de coca cola', 'eu tomando três garrafinhas de coca zero no dia to no lucro ent https   t co pehxmdlxkp', 'coca cola e coxinha ✅❤ https   t co hnwqke8g6n', 'doritos c coca cola é a melhor combinação  amo', 'fui tomar um copão de coca cola e só tinha pepsi twistkkkk https   t co ivui0on4oj', 'rt @ massaru  qnd tu bebe coca cola recem aberta e tem a sensaçao q a garganta ta sendo queimada', 'ninguém    absolutamente ninguém   @azsterixh  meu prikito as vezes também coça   kkkkkkkkkkkkkkkkk', 'tomando coca cola com a minha irmã tranquilamente sem pensar na dor da gastrite daqui a algumas horinhas', 'rt @logoeudionatha  melhor coisa do mundo é  fica em casa assitir a série melhor coisa  ainda mais com um x e uma coca cola bem gelada ', 'rt @ana lua18  evo morales baixou decreto permitindo queimadas para fazer cultivos de coca     🧐 https   t co v4gpqvnhvn', '2h da manhã e eu comendo miojo e tomando uma coca bem gelada', 'era só uma coca gelada agora', 'tomei 1 copo de coca e comi 3 chocolate  0717', 'tudo isso pra comprar uma coca no extra às 22 e chegar lá e não ter coca gelada https   t co xoikmdnmu3', '06 30 da manhã e eu tomando um copão de coca com um pedaço de pizza  vou morrer mas fodase', 'rt @yasminabrao  troco qualquer coisa pro x tudo com coca https   t co wbsreddpf2', 'comendo miojo e tomando coca hahahaha quero morrer mesmo', 'gente eu tô péssima com dor de cabeça  dor de garganta q ontem bebi coca cola gelada 😭', 'rt @c0ngelad4  bom dia só aos trabalhadores proletariados p quem coça o saco dia todo oq tenho a ver', 'rt @lilnativetiger  olho pra pedra nos rins e depois eu olho pra coca cola as 7h50 e falo  linda  e depois eu bebo toda ', 'alguem compra uma coca gelada pra mim  por genti', 'cheguei no trabalho já lancei uma coca de 1l já bebi qs tudo ', 'não sei se vendia  não sei se cheirava  só sei que faltava coca&amp weed', 'toda segunda eu tô ficando na merda  parece que me deram um coça', 'só uma coca pra tirar essa ressaca e enjoo ', 'rt @yasminnogg  queria um x tudo com uma coca trincando', '@rwgryffindor @igoraraujojj o igor coça o ovo dos lutadores kkkkk', 'nem falta coca q ta tendo 😂 https   t co yulkdcklfy', '🎵 tocando  vinho  amendoim e coca cola   bruna pinheiro feat  joão neto &amp  frederico https   t co daeljwnjhh', 'o meu telemóvel leva alta coça coitado', 'comi esfirras com coca😋', 'to a base de coca cola hj', 'torcida de pimenta com coca cola  puta café da manhã nutritivo', 'a coisa pra beber numa segunda feira de manhã é um copao de coca', 'acordei com uma outra vontade de beber coca  adivinhem  tomei praticamente um litro sozinha agora 😳', '@annalumelo  kkkkkkkkkk olha   o dedo coça', 'só quero uma coca cola  b dia   ', 'o ouvido coça pra escutar april and a flower dnv    ', 'cheguei no escritório agora é minha coca q pedi sexta e não chegou antes de eu sair  tá aqui skhsjs', 'rt @juliasaless  eu  queria ser vegetariana  comer saudável  diminuir no açúcar   eu também  indo tomar café da manhã com um copao de coca ', 'ontem descobri que a fanta laranja foi criada pra coca poder vender refrigerante pra alemanha nazista sem pegar mal e sabe não da pra gostar de nada no capitalismo', '@willian fugise toma aquele café com coca que mata o seu organismo e você acorda com medo de morrer', 'rt @c0ngelad4  bom dia só aos trabalhadores proletariados p quem coça o saco dia todo oq tenho a ver', 'o jeito que eu vou morrer logo de tanta coca é diferente', 'aí que tanto espirra coça nariz  espirra dnv infernoooooooo', '09h10 e eu já bebi 1 litro de água  é hoje que eu recupero o prejuízo de 21 anos só de coca', 'rt @ana lua18  evo morales baixou decreto permitindo queimadas para fazer cultivos de coca     🧐 https   t co v4gpqvnhvn', 'eu comendo esfirras e tomando coca as 7 horas da manhã   gastrite olhando pra mim  https   t co rnwaqkuukx', 'só queria comer 4 açaí  8 coxinhas  3 pasteis   2 sorvetes e uma coca de 2 litros bem gelada agora  ', 'rt @rafaelkjls  teve um dia que eu tomei 8 litros de coca cola com um amigo meu https   t co tbg1cbzlm7', 'aparentemente vamos aprender a fazer coca cola na próxima aula do professor senku', 'tem uma coca fechada na minha casa pq eu nao sinto nem um pouco de vontade de tomar', 'rt @lilmamibarbz  caguem eu agr só quero chegar no nível de ir às galas da tvi e mandar coca no wc c a alexandra lencastre', '@evelinnogueiraa n sei como vcs falam que o útero coça   ', 'tava a uns 15 dias só tomando água e comendo uma frutinha de café de manhã  hoje fui comer um pedaço de pizza e um copo de coca pense o mal estar  acho q é um aviso p ficar só na água e na fruta msm', 'mn pprt gastei na festa da mãe do rc   mandei vários passinho do esquisito eu adoro fzr palhaçada e anima meus amigos isso só bebendo coca  kkkk', 'rt @hathawadden  dodger vendo o video do chris evans beijando e surtando por um outro cachorro kkkkkkkkkkkk cevans vai levar é uma coça qua…', 'to comendo pavê e bebendo coca', 'rt @biagotts  quem prefere coca quando existe pepsi em mano', 'rt @mosmodre   tô apaixonada por esses bebês    meu útero até coça       #programasilviosantos https   t co 53tteseisv', 'gang di boca tudo ta da mota guns money and drugs  snitch  kuze ku sabi di drogas   putas branca sima coca kilos ta roda ninguém ka ta nota', 'essa coca me fudeu', 'rt @dcechetto  as vezes eu não quero tomar refri mas tem comida que pede um copão de coca né ', '[9 9 01 50] meu faixa  js [9 9 01 50] meu faixa  melhor toma uma coça de xrc [9 9 01 50] meu faixa  do que uma coça de sinto  poeta  iago rei delas', 'rt @crf gabii  era só uma coca de café pra me manter de pé hj', 'ninguém  absolutamente ninguém  nenhuma alma viva mesmo  eu  foda se vou tomar coca cola', 'preciso parar de tomar coca 8h da manhã', 'comecei o dia tomando um energético  cheguei na empresa e to tomando uma coca  grande dia 👍🏼', 'ressaca do cão  bom dia pra quem virou meio litro de coca cola agr    aaaaaaaaaaaaff', 'rt @itsbrunah    eu to de boa vivendo e pá dai do nada eu lembro que a j e n n a  t a  g r a v i d a  ~g r a v i d a~', 'meu café da manhã coca cola com biscoito parabéns mariana 👏', 'alguem pra mandar uma coca gelada em casa agora ', 'café da manhã de todos os dias  pão de queijo e coca cola  depois reclamo que minha saúde tá indo ladeira abaixo e não sei pq', 'rt @dcechetto  as vezes eu não quero tomar refri mas tem comida que pede um copão de coca né ', 'no momento comendo nescal cereal com leite e coca cola esperando o remédio pra dormir fazer efeito', 'aí a pessoa vai ao banheiro e leva a coca cola junto e deixa em falso   quem já se viu levar coca cola pro banheiro 🚾       e era meu último copo 😪 https   t co lsitonyqhd', 'rt @vulgolzz  era só um empadão com uma coca bem gelada', '@manicpixierexie coca zero ou então eu fumava na hora q eu já tava perto de dormir e aí eu dormia pra não ter que lidar com a larica tbm kkkk', 'meu dedo chega coça p flr uns bgl mas é melhor deixar quieto', 'rt @maricirillox  @joaorss  tem hora p beber coca gnt  ', 'rt @samirinhax  só meu útero que coça  https   t co od6z1ywsaq', 'que a semana seja tão boa  como essa pizza com coca cola', 'rt @dcechetto  as vezes eu não quero tomar refri mas tem comida que pede um copão de coca né ', 'fds eletricidade e ciencia faz coca https   t co npq1keca9l', 'rt @ thewarlus  sem álcool  diminuir cigarro  sem coca cola e rajadao de fé 🙏🏽🙏🏽👍🏼', '@pascoxl coca cola crlh kkkkkkkkkkkkkk porra é essa  querendo cocaina 07 00 de uma segunda', 'amanhã de manha tenho um passeio pra fábrica da coca cola e são 2h da manhã e eu tô vendo elite  azar', 'a menina bebendo coca cola 07h40 da manhã  deus ajude o estômago dela', 'crl parece que eu tomei uma coça  dor no corpo todo  😬😥', 'queria ganda shot de coca cola e n há fds', 'me sinto muito responsável  ontem quando percebi que estava altinha comecei a tomar água e coca  consciência né mores ', 'socorro gnt  9 da manhã cravado  a pessoa aqui do meu lado abre uma coca cola como se fosse toddynho', 'rt @lucasilvaa7  vai fluir a coca no posto', 'rt @loree5crf  to muito viciada em coca  até de manhã 😫', 'minha mão coça pra dar um soco https   t co 1du3lxcwx2', 'bebendo um litro d coca comendo chocolate 6 35 d manhã', 'rt @thaynanmelo1  queria uma coca bem gelada', '@sgntt  dedo coça pra marcar @', 'se você ingerir diretamente a mesma quantidade de açúcar encontrada em uma lata de coca cola  você irá vomitar ', '@vitinhos ebooks a coca seiscens', 'agr pouco tava tomando cerveja agr tô tomando coca meu estômago deve estar pedindo socorro', 'todo dia um mimo diferente quando eu chego em casa  hoje foi cachorro quente e coca 🤤✨', 'c é eu  azaf e o gustavin q for tomar uma coca pode ter crtz q quando ns pisca ns ta na saída de guapo o gustavin com três traveco  eu e duas anã e o azaf com um mico leão dourado roubado e capotando um corsa', 'hj eu acordei e so bebi coca agr to aq passando mal q nem uma idiota', 'pão com ovo  e coca gelada🤤🤤🤤', 'rt @samirinhax  só meu útero que coça  https   t co od6z1ywsaq', 'rt @alextrezas  jornalista da libertad tv   “pq falam da amazônia br e do @jairbolsonaro e nada do evo morales e da amazônia boliviana  lá …', '@peterjordan100 peter  por incrível que pareça a coca cola já inventou isso   😅 fiquei sabendo sobre isso por causa de um trabalho da faculdade  mas é um projeto interno ainda ', 'e aquele copão de café que geral acha que é coca cola', 'pelo jeito qualquer coisa atrapalha meu sono  incluindo coca cola e vinho    desculpa  café  fui duro demais com você ', 'coca cola é muito bom  desce que nem água', '@pamee chagas eu boto a coca kkkk', 'rt @myrelavalentina  o cu chega coça pra fazer   🤦🏻\\u200d♀️❤️ https   t co bpi1ytaucl', 'eu consigo ficar ate meses sem beber refri  mas qnd eu tomo um gole de coca eu recaio e nao consigo parar nunca mais', 'rt @tifanyandrade7  só queria dois x tudo  uma coca de dois litros e duas coxinha 😂😋', 'te daria mt coça de xereca rsrs — ih pronto kkkk https   t co 2dw34ttzva', 'bom dia  acordei com vontade de morrer  e de beber uma coca 2 litro', 'eu  queria ser vegetariana  comer saudável  diminuir no açúcar   eu também  indo tomar café da manhã com um copao de coca ', 'rt @purpups  @call me hood tudo coca da mesma planta', 'eu recomendo mt p vcs que n tomem mta coca cola p dps ficarem igual eu cheios de problemas nos ossos', 'um gajo acabou de me tentar vender coca e ficou todo ofendido por lhe dizer que só fumo', 'até pq ontem comi um churrascão com coca', 'lembrei agr do dia que eu fui na casa da minha vó pedir uma coca de 600 pra ela e ela me volta com uma de 3 litro', '@maome777 bicho vai logo nesse tempo todo eu já fui buscar dois copo de coca e torrada', 'pessoal do meu trabalho já sabe q eu to de ressaca qnd me ver 7h da manhã agarrada com uma garrafa de coca', 'acordei comendo cachorro quente e uma coca por que não tinha pão nem leite  bom dia', 'rt @xxxofanie    coca zero é zero pq é zero açúcar     sim    mas o gosto é doce    é pq tem um tekinho    então deveria chamar coca 1 teki…', 'rt @rr tv  restaurantes  vamos combinar  não é um pouco de coca no gelo  é um pouco de gelo na coca  grato  👍🏼', 'madrugou fznd trabalho  escutando dex e bebendo coca', 'bom dia só aos trabalhadores proletariados p quem coça o saco dia todo oq tenho a ver', 'seu perfil foi visto por 2 pessoas na última hora https   t co ynzpxzkoyw', 'eu sinto o nariz coça  muito quando chego perto  de pelos e do uma leve espirrada  mesmo com poeira  mas é  de leve e  as vezes nem da nada   e sinto essa dor de cabeça infernal é enjoo ao fica perto de cheiro de produto de limpeza   será que tenho algum problema ', 'rt @oemputecido  o braço nois nunca quebrou   mas a cara meu amigo', 'rt @bl fxp  conheci umas mina legal p crl e ainda bebi a coca cola delas 😂😂😂😂😂😂😂😂😂', '@malditacubana eai última coca cola do deserto', 'eu com certeza vou ter filhos  olha que coisa amorzinho  o útero chega coça https   t co tjryfqnwnb', 'alguém que tiver no centro poderia por gentileza comprar uma coca lata e um salgado e trazer aqui no meu trabalho por favor   eu pago de volta so me da comida', 'rt @sodeboabrazil  por que a mídia internacional culpa o brasil pelos incêndios na amazônia e se cala quanto à origem do problema  que foi…', 'rt @mariiiana111  netflix  lasanha coca cola e felipinos de chocolate branco    só me falta mm a companhia', 'acabei de beber 1 copo de coca cola cheio pra vê se eu melhoro um pouco essa ressaca', 'eu bebendo coca cola cinco da manhã https   t co 2rukzmpfud', 'rt @aryadnahs  ela coça  https   t co 2n3ibit6zd', 'já acordei com vontade de beber coca', 'vontade de comer coxinha e tomar coca', 'acordei desejando uma coca cola bem gelada e uma pizza  mas vou me segurar pq isso é obra do inimigo']\n"
     ]
    }
   ],
   "source": [
    "#Limpeza\n",
    "texts=file.loc[:, \"Treinamento\"]\n",
    "lista_twetts=[]\n",
    "def cleanup(text):\n",
    "    \n",
    "    punctuation = '[!\\-.:?;/()_,\"\"''**\\n]' \n",
    "    pattern = re.compile(punctuation)\n",
    "    text_subbed = re.sub(pattern, ' ', text)\n",
    "    return text_subbed\n",
    "\n",
    "for items in texts:\n",
    "    p=cleanup(items)\n",
    "    lista_twetts.append(p)\n",
    "    \n",
    "print(lista_twetts)\n"
   ]
  },
  {
   "cell_type": "markdown",
   "metadata": {},
   "source": [
    "___\n",
    "### Montando o Classificador Naive-Bayes\n",
    "\n",
    "Considerando apenas as mensagens da planilha Treinamento, ensine  seu classificador."
   ]
  },
  {
   "cell_type": "code",
   "execution_count": null,
   "metadata": {},
   "outputs": [],
   "source": []
  },
  {
   "cell_type": "code",
   "execution_count": null,
   "metadata": {},
   "outputs": [],
   "source": []
  },
  {
   "cell_type": "code",
   "execution_count": null,
   "metadata": {},
   "outputs": [],
   "source": []
  },
  {
   "cell_type": "markdown",
   "metadata": {},
   "source": [
    "___\n",
    "### Verificando a performance\n",
    "\n",
    "Agora você deve testar o seu classificador com a base de Testes."
   ]
  },
  {
   "cell_type": "code",
   "execution_count": null,
   "metadata": {},
   "outputs": [],
   "source": []
  },
  {
   "cell_type": "code",
   "execution_count": null,
   "metadata": {},
   "outputs": [],
   "source": []
  },
  {
   "cell_type": "code",
   "execution_count": null,
   "metadata": {},
   "outputs": [],
   "source": []
  },
  {
   "cell_type": "markdown",
   "metadata": {},
   "source": [
    "___\n",
    "### Concluindo"
   ]
  },
  {
   "cell_type": "code",
   "execution_count": null,
   "metadata": {},
   "outputs": [],
   "source": []
  },
  {
   "cell_type": "code",
   "execution_count": null,
   "metadata": {},
   "outputs": [],
   "source": []
  },
  {
   "cell_type": "markdown",
   "metadata": {},
   "source": [
    "## Aperfeiçoamento:\n",
    "\n",
    "Os trabalhos vão evoluir em conceito dependendo da quantidade de itens avançados:\n",
    "\n",
    "* Limpar: \\n, :, \", ', (, ), etc SEM remover emojis (*feito*)\n",
    "* Corrigir separação de espaços entre palavras e emojis ou emojis e emojis\n",
    "* Propor outras limpezas e transformações que não afetem a qualidade da informação ou classificação\n",
    "* Criar categorias intermediárias de relevância baseadas na probabilidade: ex.: muito relevante, relevante, neutro, irrelevante, muito irrelevante (3 categorias: C, mais categorias conta para B)\n",
    "* Explicar por que não posso usar o próprio classificador para gerar mais amostras de treinamento\n",
    "* Propor diferentes cenários para Naïve Bayes fora do contexto do projeto\n",
    "* Sugerir e explicar melhorias reais com indicações concretas de como implementar (indicar como fazer e indicar material de pesquisa)\n",
    "* Montar um dashboard que periodicamente realiza análise de sentimento e visualiza estes dados"
   ]
  },
  {
   "cell_type": "markdown",
   "metadata": {},
   "source": [
    "# Referências"
   ]
  },
  {
   "cell_type": "markdown",
   "metadata": {},
   "source": [
    "[Naive Bayes and Text Classification](https://arxiv.org/pdf/1410.5329.pdf)  **Mais completo**\n",
    "\n",
    "[A practical explanation of a Naive Bayes Classifier](https://monkeylearn.com/blog/practical-explanation-naive-bayes-classifier/) **Mais simples**"
   ]
  },
  {
   "cell_type": "code",
   "execution_count": null,
   "metadata": {},
   "outputs": [],
   "source": []
  }
 ],
 "metadata": {
  "kernelspec": {
   "display_name": "Python 3",
   "language": "python",
   "name": "python3"
  },
  "language_info": {
   "codemirror_mode": {
    "name": "ipython",
    "version": 3
   },
   "file_extension": ".py",
   "mimetype": "text/x-python",
   "name": "python",
   "nbconvert_exporter": "python",
   "pygments_lexer": "ipython3",
   "version": "3.7.1"
  }
 },
 "nbformat": 4,
 "nbformat_minor": 4
}
